{
  "nbformat": 4,
  "nbformat_minor": 0,
  "metadata": {
    "colab": {
      "name": "StyleGAN_Encoder_InterFaceGAN.ipynb",
      "provenance": [],
      "collapsed_sections": []
    },
    "kernelspec": {
      "name": "python3",
      "display_name": "Python 3"
    },
    "accelerator": "GPU"
  },
  "cells": [
    {
      "cell_type": "markdown",
      "metadata": {
        "id": "dmnmX3_BDGYn"
      },
      "source": [
        "# **Soluzione per Age Progression ad alta risoluzione**\n",
        "StyleGAN Encoder + InterFaceGAN\n",
        "\n",
        "\n",
        "\n",
        "\n",
        "---\n",
        "\n"
      ]
    },
    {
      "cell_type": "markdown",
      "metadata": {
        "id": "jsIZ0PuxD-dN"
      },
      "source": [
        "Change runtime type to GPU (Runtime->Change runtime type -> Hardware Accelerator GPU)\n",
        "\n",
        "\n",
        "\n"
      ]
    },
    {
      "cell_type": "markdown",
      "metadata": {
        "id": "M5MFEYD7D_32"
      },
      "source": [
        "Installing **gdown** to download from Google Drive the package with StyleGAN Encoder and InterFaceGAN containing the pre-trained models "
      ]
    },
    {
      "cell_type": "code",
      "metadata": {
        "id": "pJJfo_W5yeOL",
        "colab": {
          "base_uri": "https://localhost:8080/"
        },
        "outputId": "f18f581e-f15c-4f33-eb4a-ffff541ab11e"
      },
      "source": [
        "!pip install gdown"
      ],
      "execution_count": null,
      "outputs": [
        {
          "output_type": "stream",
          "text": [
            "Requirement already satisfied: gdown in /usr/local/lib/python3.6/dist-packages (3.6.4)\n",
            "Requirement already satisfied: tqdm in /usr/local/lib/python3.6/dist-packages (from gdown) (4.41.1)\n",
            "Requirement already satisfied: requests in /usr/local/lib/python3.6/dist-packages (from gdown) (2.23.0)\n",
            "Requirement already satisfied: six in /usr/local/lib/python3.6/dist-packages (from gdown) (1.15.0)\n",
            "Requirement already satisfied: chardet<4,>=3.0.2 in /usr/local/lib/python3.6/dist-packages (from requests->gdown) (3.0.4)\n",
            "Requirement already satisfied: urllib3!=1.25.0,!=1.25.1,<1.26,>=1.21.1 in /usr/local/lib/python3.6/dist-packages (from requests->gdown) (1.24.3)\n",
            "Requirement already satisfied: idna<3,>=2.5 in /usr/local/lib/python3.6/dist-packages (from requests->gdown) (2.10)\n",
            "Requirement already satisfied: certifi>=2017.4.17 in /usr/local/lib/python3.6/dist-packages (from requests->gdown) (2020.12.5)\n"
          ],
          "name": "stdout"
        }
      ]
    },
    {
      "cell_type": "markdown",
      "metadata": {
        "id": "D7loAwg-Emyg"
      },
      "source": [
        "Downloading the package from google drive (circa 1GB)"
      ]
    },
    {
      "cell_type": "code",
      "metadata": {
        "id": "f8opJo1Tyfrm",
        "colab": {
          "base_uri": "https://localhost:8080/"
        },
        "outputId": "2f1e7613-54b5-4d93-bb72-16ca6ce6a391"
      },
      "source": [
        "!gdown https://drive.google.com/uc?id=1EHyZAuItAj6rzLnv7dZcmHJUS8C65nS1  "
      ],
      "execution_count": null,
      "outputs": [
        {
          "output_type": "stream",
          "text": [
            "Downloading...\n",
            "From: https://drive.google.com/uc?id=1EHyZAuItAj6rzLnv7dZcmHJUS8C65nS1\n",
            "To: /content/StyleGAN.zip\n",
            "1.06GB [00:11, 89.0MB/s]\n"
          ],
          "name": "stdout"
        }
      ]
    },
    {
      "cell_type": "markdown",
      "metadata": {
        "id": "BqxjnQ0cErYh"
      },
      "source": [
        "Unzip"
      ]
    },
    {
      "cell_type": "code",
      "metadata": {
        "id": "osqM8eB9zgrJ",
        "colab": {
          "base_uri": "https://localhost:8080/"
        },
        "outputId": "c6e96f73-cdd4-4c37-b552-9d423b19a011"
      },
      "source": [
        "!unzip /content/StyleGAN.zip"
      ],
      "execution_count": null,
      "outputs": [
        {
          "output_type": "stream",
          "text": [
            "Archive:  /content/StyleGAN.zip\n",
            "   creating: StyleGAN/\n",
            "   creating: StyleGAN/stylegan-encoder/\n",
            "   creating: StyleGAN/stylegan-encoder/.git/\n",
            "   creating: StyleGAN/stylegan-encoder/.git/branches/\n",
            "   creating: StyleGAN/stylegan-encoder/.git/info/\n",
            "  inflating: StyleGAN/stylegan-encoder/.git/info/exclude  \n",
            "   creating: StyleGAN/stylegan-encoder/.git/hooks/\n",
            "  inflating: StyleGAN/stylegan-encoder/.git/hooks/pre-commit.sample  \n",
            "  inflating: StyleGAN/stylegan-encoder/.git/hooks/prepare-commit-msg.sample  \n",
            "  inflating: StyleGAN/stylegan-encoder/.git/hooks/fsmonitor-watchman.sample  \n",
            "  inflating: StyleGAN/stylegan-encoder/.git/hooks/pre-rebase.sample  \n",
            "  inflating: StyleGAN/stylegan-encoder/.git/hooks/applypatch-msg.sample  \n",
            "  inflating: StyleGAN/stylegan-encoder/.git/hooks/post-update.sample  \n",
            "  inflating: StyleGAN/stylegan-encoder/.git/hooks/pre-push.sample  \n",
            "  inflating: StyleGAN/stylegan-encoder/.git/hooks/pre-receive.sample  \n",
            "  inflating: StyleGAN/stylegan-encoder/.git/hooks/commit-msg.sample  \n",
            "  inflating: StyleGAN/stylegan-encoder/.git/hooks/update.sample  \n",
            "  inflating: StyleGAN/stylegan-encoder/.git/hooks/pre-applypatch.sample  \n",
            "  inflating: StyleGAN/stylegan-encoder/.git/description  \n",
            "   creating: StyleGAN/stylegan-encoder/.git/refs/\n",
            "   creating: StyleGAN/stylegan-encoder/.git/refs/heads/\n",
            "  inflating: StyleGAN/stylegan-encoder/.git/refs/heads/master  \n",
            "   creating: StyleGAN/stylegan-encoder/.git/refs/tags/\n",
            "   creating: StyleGAN/stylegan-encoder/.git/refs/remotes/\n",
            "   creating: StyleGAN/stylegan-encoder/.git/refs/remotes/origin/\n",
            "  inflating: StyleGAN/stylegan-encoder/.git/refs/remotes/origin/HEAD  \n",
            "   creating: StyleGAN/stylegan-encoder/.git/objects/\n",
            "   creating: StyleGAN/stylegan-encoder/.git/objects/pack/\n",
            "  inflating: StyleGAN/stylegan-encoder/.git/objects/pack/pack-79ea4dabdb204160e654c84ed69f03ee3ef29c35.pack  \n",
            "  inflating: StyleGAN/stylegan-encoder/.git/objects/pack/pack-79ea4dabdb204160e654c84ed69f03ee3ef29c35.idx  \n",
            "   creating: StyleGAN/stylegan-encoder/.git/objects/info/\n",
            "  inflating: StyleGAN/stylegan-encoder/.git/HEAD  \n",
            "  inflating: StyleGAN/stylegan-encoder/.git/packed-refs  \n",
            "   creating: StyleGAN/stylegan-encoder/.git/logs/\n",
            "   creating: StyleGAN/stylegan-encoder/.git/logs/refs/\n",
            "   creating: StyleGAN/stylegan-encoder/.git/logs/refs/remotes/\n",
            "   creating: StyleGAN/stylegan-encoder/.git/logs/refs/remotes/origin/\n",
            "  inflating: StyleGAN/stylegan-encoder/.git/logs/refs/remotes/origin/HEAD  \n",
            "   creating: StyleGAN/stylegan-encoder/.git/logs/refs/heads/\n",
            "  inflating: StyleGAN/stylegan-encoder/.git/logs/refs/heads/master  \n",
            "  inflating: StyleGAN/stylegan-encoder/.git/logs/HEAD  \n",
            "  inflating: StyleGAN/stylegan-encoder/.git/config  \n",
            "  inflating: StyleGAN/stylegan-encoder/.git/index  \n",
            "  inflating: StyleGAN/stylegan-encoder/LICENSE.txt  \n",
            "  inflating: StyleGAN/stylegan-encoder/Learn_direction_in_latent_space.ipynb  \n",
            "  inflating: StyleGAN/stylegan-encoder/Play_with_latent_directions.ipynb  \n",
            "  inflating: StyleGAN/stylegan-encoder/README.md  \n",
            "  inflating: StyleGAN/stylegan-encoder/StyleGAN_Encoder_Tutorial.ipynb  \n",
            "  inflating: StyleGAN/stylegan-encoder/adaptive.py  \n",
            "  inflating: StyleGAN/stylegan-encoder/align_images.py  \n",
            "  inflating: StyleGAN/stylegan-encoder/config.py  \n",
            "  inflating: StyleGAN/stylegan-encoder/dataset_tool.py  \n",
            "   creating: StyleGAN/stylegan-encoder/dnnlib/\n",
            "   creating: StyleGAN/stylegan-encoder/dnnlib/submission/\n",
            "  inflating: StyleGAN/stylegan-encoder/dnnlib/submission/__init__.py  \n",
            "   creating: StyleGAN/stylegan-encoder/dnnlib/submission/_internal/\n",
            "  inflating: StyleGAN/stylegan-encoder/dnnlib/submission/_internal/run.py  \n",
            "  inflating: StyleGAN/stylegan-encoder/dnnlib/submission/run_context.py  \n",
            "  inflating: StyleGAN/stylegan-encoder/dnnlib/submission/submit.py  \n",
            "   creating: StyleGAN/stylegan-encoder/dnnlib/submission/__pycache__/\n",
            "  inflating: StyleGAN/stylegan-encoder/dnnlib/submission/__pycache__/__init__.cpython-36.pyc  \n",
            "  inflating: StyleGAN/stylegan-encoder/dnnlib/submission/__pycache__/run_context.cpython-36.pyc  \n",
            "  inflating: StyleGAN/stylegan-encoder/dnnlib/submission/__pycache__/submit.cpython-36.pyc  \n",
            "  inflating: StyleGAN/stylegan-encoder/dnnlib/__init__.py  \n",
            "   creating: StyleGAN/stylegan-encoder/dnnlib/tflib/\n",
            "  inflating: StyleGAN/stylegan-encoder/dnnlib/tflib/__init__.py  \n",
            "  inflating: StyleGAN/stylegan-encoder/dnnlib/tflib/autosummary.py  \n",
            "  inflating: StyleGAN/stylegan-encoder/dnnlib/tflib/network.py  \n",
            "  inflating: StyleGAN/stylegan-encoder/dnnlib/tflib/optimizer.py  \n",
            "  inflating: StyleGAN/stylegan-encoder/dnnlib/tflib/tfutil.py  \n",
            "   creating: StyleGAN/stylegan-encoder/dnnlib/tflib/__pycache__/\n",
            "  inflating: StyleGAN/stylegan-encoder/dnnlib/tflib/__pycache__/__init__.cpython-36.pyc  \n",
            "  inflating: StyleGAN/stylegan-encoder/dnnlib/tflib/__pycache__/autosummary.cpython-36.pyc  \n",
            "  inflating: StyleGAN/stylegan-encoder/dnnlib/tflib/__pycache__/tfutil.cpython-36.pyc  \n",
            "  inflating: StyleGAN/stylegan-encoder/dnnlib/tflib/__pycache__/network.cpython-36.pyc  \n",
            "  inflating: StyleGAN/stylegan-encoder/dnnlib/tflib/__pycache__/optimizer.cpython-36.pyc  \n",
            "  inflating: StyleGAN/stylegan-encoder/dnnlib/util.py  \n",
            "   creating: StyleGAN/stylegan-encoder/dnnlib/__pycache__/\n",
            "  inflating: StyleGAN/stylegan-encoder/dnnlib/__pycache__/__init__.cpython-36.pyc  \n",
            "  inflating: StyleGAN/stylegan-encoder/dnnlib/__pycache__/util.cpython-36.pyc  \n",
            "   creating: StyleGAN/stylegan-encoder/encoder/\n",
            "  inflating: StyleGAN/stylegan-encoder/encoder/__init__.py  \n",
            "  inflating: StyleGAN/stylegan-encoder/encoder/generator_model.py  \n",
            "  inflating: StyleGAN/stylegan-encoder/encoder/perceptual_model.py  \n",
            "   creating: StyleGAN/stylegan-encoder/encoder/__pycache__/\n",
            "  inflating: StyleGAN/stylegan-encoder/encoder/__pycache__/__init__.cpython-36.pyc  \n",
            "  inflating: StyleGAN/stylegan-encoder/encoder/__pycache__/generator_model.cpython-36.pyc  \n",
            "  inflating: StyleGAN/stylegan-encoder/encoder/__pycache__/perceptual_model.cpython-36.pyc  \n",
            "   creating: StyleGAN/stylegan-encoder/ffhq_dataset/\n",
            "  inflating: StyleGAN/stylegan-encoder/ffhq_dataset/__init__.py  \n",
            "  inflating: StyleGAN/stylegan-encoder/ffhq_dataset/face_alignment.py  \n",
            "  inflating: StyleGAN/stylegan-encoder/ffhq_dataset/landmarks_detector.py  \n",
            "   creating: StyleGAN/stylegan-encoder/ffhq_dataset/latent_directions/\n",
            "  inflating: StyleGAN/stylegan-encoder/ffhq_dataset/latent_directions/age.npy  \n",
            "  inflating: StyleGAN/stylegan-encoder/ffhq_dataset/latent_directions/gender.npy  \n",
            "  inflating: StyleGAN/stylegan-encoder/ffhq_dataset/latent_directions/smile.npy  \n",
            "   creating: StyleGAN/stylegan-encoder/ffhq_dataset/latent_representations/\n",
            "  inflating: StyleGAN/stylegan-encoder/ffhq_dataset/latent_representations/donald_trump_01.npy  \n",
            "  inflating: StyleGAN/stylegan-encoder/ffhq_dataset/latent_representations/hillary_clinton_01.npy  \n",
            "   creating: StyleGAN/stylegan-encoder/ffhq_dataset/__pycache__/\n",
            "  inflating: StyleGAN/stylegan-encoder/ffhq_dataset/__pycache__/__init__.cpython-36.pyc  \n",
            "  inflating: StyleGAN/stylegan-encoder/ffhq_dataset/__pycache__/face_alignment.cpython-36.pyc  \n",
            "  inflating: StyleGAN/stylegan-encoder/ffhq_dataset/__pycache__/landmarks_detector.cpython-36.pyc  \n",
            "  inflating: StyleGAN/stylegan-encoder/ffhq_dataset/__pycache__/__init__.cpython-37.pyc  \n",
            "  inflating: StyleGAN/stylegan-encoder/ffhq_dataset/__pycache__/face_alignment.cpython-37.pyc  \n",
            "  inflating: StyleGAN/stylegan-encoder/ffhq_dataset/__pycache__/landmarks_detector.cpython-37.pyc  \n",
            "  inflating: StyleGAN/stylegan-encoder/generate_figures.py  \n",
            "   creating: StyleGAN/stylegan-encoder/metrics/\n",
            "  inflating: StyleGAN/stylegan-encoder/metrics/__init__.py  \n",
            "  inflating: StyleGAN/stylegan-encoder/metrics/frechet_inception_distance.py  \n",
            "  inflating: StyleGAN/stylegan-encoder/metrics/linear_separability.py  \n",
            "  inflating: StyleGAN/stylegan-encoder/metrics/metric_base.py  \n",
            "  inflating: StyleGAN/stylegan-encoder/metrics/perceptual_path_length.py  \n",
            "  inflating: StyleGAN/stylegan-encoder/mona_example.jpg  \n",
            "  inflating: StyleGAN/stylegan-encoder/pretrained_example.py  \n",
            "  inflating: StyleGAN/stylegan-encoder/requirements.txt  \n",
            "   creating: StyleGAN/stylegan-encoder/robust_loss/\n",
            "  inflating: StyleGAN/stylegan-encoder/robust_loss/README.md  \n",
            "  inflating: StyleGAN/stylegan-encoder/robust_loss/cubic_spline.py  \n",
            "   creating: StyleGAN/stylegan-encoder/robust_loss/data/\n",
            "  inflating: StyleGAN/stylegan-encoder/robust_loss/data/partition_spline.npz  \n",
            "  inflating: StyleGAN/stylegan-encoder/robust_loss/distribution.py  \n",
            "  inflating: StyleGAN/stylegan-encoder/robust_loss/general.py  \n",
            "  inflating: StyleGAN/stylegan-encoder/robust_loss/requirements.txt  \n",
            "  inflating: StyleGAN/stylegan-encoder/robust_loss/run.sh  \n",
            "  inflating: StyleGAN/stylegan-encoder/robust_loss/util.py  \n",
            "  inflating: StyleGAN/stylegan-encoder/robust_loss/wavelet.py  \n",
            "  inflating: StyleGAN/stylegan-encoder/run_metrics.py  \n",
            "  inflating: StyleGAN/stylegan-encoder/swa.py  \n",
            "  inflating: StyleGAN/stylegan-encoder/teaser.png  \n",
            "  inflating: StyleGAN/stylegan-encoder/train.py  \n",
            "  inflating: StyleGAN/stylegan-encoder/train_effnet.py  \n",
            "  inflating: StyleGAN/stylegan-encoder/train_resnet.py  \n",
            "   creating: StyleGAN/stylegan-encoder/training/\n",
            "  inflating: StyleGAN/stylegan-encoder/training/__init__.py  \n",
            "  inflating: StyleGAN/stylegan-encoder/training/dataset.py  \n",
            "  inflating: StyleGAN/stylegan-encoder/training/loss.py  \n",
            "  inflating: StyleGAN/stylegan-encoder/training/misc.py  \n",
            "  inflating: StyleGAN/stylegan-encoder/training/networks_progan.py  \n",
            "  inflating: StyleGAN/stylegan-encoder/training/networks_stylegan.py  \n",
            "  inflating: StyleGAN/stylegan-encoder/training/training_loop.py  \n",
            "   creating: StyleGAN/stylegan-encoder/input/\n",
            "  inflating: StyleGAN/stylegan-encoder/input/Dicaprio.jpg  \n",
            "   creating: StyleGAN/stylegan-encoder/output/\n",
            "   creating: StyleGAN/stylegan-encoder/output/aligned/\n",
            "  inflating: StyleGAN/stylegan-encoder/output/aligned/Dicaprio_01.png  \n",
            "   creating: StyleGAN/stylegan-encoder/output/generated/\n",
            "  inflating: StyleGAN/stylegan-encoder/output/generated/Dicaprio_01.png  \n",
            "   creating: StyleGAN/stylegan-encoder/output/latent/\n",
            "  inflating: StyleGAN/stylegan-encoder/output/latent/Dicaprio_01.npy  \n",
            "  inflating: StyleGAN/stylegan-encoder/output/latent/output_vectors.npy  \n",
            "   creating: StyleGAN/stylegan-encoder/stylegan-weights/\n",
            "  inflating: StyleGAN/stylegan-encoder/stylegan-weights/karras2019stylegan-ffhq-1024x1024.pkl  \n",
            "   creating: StyleGAN/stylegan-encoder/__pycache__/\n",
            "  inflating: StyleGAN/stylegan-encoder/__pycache__/config.cpython-36.pyc  \n",
            "   creating: StyleGAN/stylegan-encoder/data/\n",
            "   creating: StyleGAN/stylegan-encoder/masks/\n",
            "   creating: StyleGAN/stylegan-encoder/cache/\n",
            "  inflating: StyleGAN/stylegan-encoder/cache/263e666dc20e26dcbfa514733c1d1f81_karras2019stylegan-ffhq-1024x1024.pkl  \n",
            "  inflating: StyleGAN/stylegan-encoder/run.sh  \n",
            "  inflating: StyleGAN/stylegan-encoder/styleganNPY.py  \n",
            "  inflating: StyleGAN/stylegan-encoder/encode_images.py  \n",
            "   creating: StyleGAN/InterFaceGAN/\n",
            "   creating: StyleGAN/InterFaceGAN/.git/\n",
            "   creating: StyleGAN/InterFaceGAN/.git/branches/\n",
            "   creating: StyleGAN/InterFaceGAN/.git/info/\n",
            "  inflating: StyleGAN/InterFaceGAN/.git/info/exclude  \n",
            "   creating: StyleGAN/InterFaceGAN/.git/hooks/\n",
            "  inflating: StyleGAN/InterFaceGAN/.git/hooks/pre-commit.sample  \n",
            "  inflating: StyleGAN/InterFaceGAN/.git/hooks/prepare-commit-msg.sample  \n",
            "  inflating: StyleGAN/InterFaceGAN/.git/hooks/fsmonitor-watchman.sample  \n",
            "  inflating: StyleGAN/InterFaceGAN/.git/hooks/pre-rebase.sample  \n",
            "  inflating: StyleGAN/InterFaceGAN/.git/hooks/applypatch-msg.sample  \n",
            "  inflating: StyleGAN/InterFaceGAN/.git/hooks/post-update.sample  \n",
            "  inflating: StyleGAN/InterFaceGAN/.git/hooks/pre-push.sample  \n",
            "  inflating: StyleGAN/InterFaceGAN/.git/hooks/pre-receive.sample  \n",
            "  inflating: StyleGAN/InterFaceGAN/.git/hooks/commit-msg.sample  \n",
            "  inflating: StyleGAN/InterFaceGAN/.git/hooks/update.sample  \n",
            "  inflating: StyleGAN/InterFaceGAN/.git/hooks/pre-applypatch.sample  \n",
            "  inflating: StyleGAN/InterFaceGAN/.git/description  \n",
            "   creating: StyleGAN/InterFaceGAN/.git/refs/\n",
            "   creating: StyleGAN/InterFaceGAN/.git/refs/heads/\n",
            "  inflating: StyleGAN/InterFaceGAN/.git/refs/heads/master  \n",
            "   creating: StyleGAN/InterFaceGAN/.git/refs/tags/\n",
            "   creating: StyleGAN/InterFaceGAN/.git/refs/remotes/\n",
            "   creating: StyleGAN/InterFaceGAN/.git/refs/remotes/origin/\n",
            "  inflating: StyleGAN/InterFaceGAN/.git/refs/remotes/origin/HEAD  \n",
            "  inflating: StyleGAN/InterFaceGAN/.git/index  \n",
            "   creating: StyleGAN/InterFaceGAN/.git/objects/\n",
            "   creating: StyleGAN/InterFaceGAN/.git/objects/pack/\n",
            "  inflating: StyleGAN/InterFaceGAN/.git/objects/pack/pack-f947293759036a19a75e651544d687e0f63cb86d.pack  \n",
            "  inflating: StyleGAN/InterFaceGAN/.git/objects/pack/pack-f947293759036a19a75e651544d687e0f63cb86d.idx  \n",
            "   creating: StyleGAN/InterFaceGAN/.git/objects/info/\n",
            "  inflating: StyleGAN/InterFaceGAN/.git/packed-refs  \n",
            "   creating: StyleGAN/InterFaceGAN/.git/logs/\n",
            "   creating: StyleGAN/InterFaceGAN/.git/logs/refs/\n",
            "   creating: StyleGAN/InterFaceGAN/.git/logs/refs/remotes/\n",
            "   creating: StyleGAN/InterFaceGAN/.git/logs/refs/remotes/origin/\n",
            "  inflating: StyleGAN/InterFaceGAN/.git/logs/refs/remotes/origin/HEAD  \n",
            "   creating: StyleGAN/InterFaceGAN/.git/logs/refs/heads/\n",
            "  inflating: StyleGAN/InterFaceGAN/.git/logs/refs/heads/master  \n",
            "  inflating: StyleGAN/InterFaceGAN/.git/logs/HEAD  \n",
            "  inflating: StyleGAN/InterFaceGAN/.git/HEAD  \n",
            "  inflating: StyleGAN/InterFaceGAN/.git/config  \n",
            "  inflating: StyleGAN/InterFaceGAN/.gitignore  \n",
            "  inflating: StyleGAN/InterFaceGAN/LICENSE  \n",
            "  inflating: StyleGAN/InterFaceGAN/README.md  \n",
            "   creating: StyleGAN/InterFaceGAN/boundaries/\n",
            "  inflating: StyleGAN/InterFaceGAN/boundaries/pggan_celebahq_age_boundary.npy  \n",
            "  inflating: StyleGAN/InterFaceGAN/boundaries/pggan_celebahq_age_c_eyeglasses_boundary.npy  \n",
            "  inflating: StyleGAN/InterFaceGAN/boundaries/pggan_celebahq_age_c_gender_boundary.npy  \n",
            "  inflating: StyleGAN/InterFaceGAN/boundaries/pggan_celebahq_age_c_gender_eyeglasses_boundary.npy  \n",
            "  inflating: StyleGAN/InterFaceGAN/boundaries/pggan_celebahq_eyeglasses_boundary.npy  \n",
            "  inflating: StyleGAN/InterFaceGAN/boundaries/pggan_celebahq_eyeglasses_c_age_boundary.npy  \n",
            "  inflating: StyleGAN/InterFaceGAN/boundaries/pggan_celebahq_eyeglasses_c_age_gender_boundary.npy  \n",
            "  inflating: StyleGAN/InterFaceGAN/boundaries/pggan_celebahq_eyeglasses_c_gender_boundary.npy  \n",
            "  inflating: StyleGAN/InterFaceGAN/boundaries/pggan_celebahq_gender_boundary.npy  \n",
            "  inflating: StyleGAN/InterFaceGAN/boundaries/pggan_celebahq_gender_c_age_boundary.npy  \n",
            "  inflating: StyleGAN/InterFaceGAN/boundaries/pggan_celebahq_gender_c_age_eyeglasses_boundary.npy  \n",
            "  inflating: StyleGAN/InterFaceGAN/boundaries/pggan_celebahq_gender_c_eyeglasses_boundary.npy  \n",
            "  inflating: StyleGAN/InterFaceGAN/boundaries/pggan_celebahq_pose_boundary.npy  \n",
            "  inflating: StyleGAN/InterFaceGAN/boundaries/pggan_celebahq_quality_boundary.npy  \n",
            "  inflating: StyleGAN/InterFaceGAN/boundaries/pggan_celebahq_smile_boundary.npy  \n",
            "  inflating: StyleGAN/InterFaceGAN/boundaries/stylegan_celebahq_age_boundary.npy  \n",
            "  inflating: StyleGAN/InterFaceGAN/boundaries/stylegan_celebahq_age_w_boundary.npy  \n",
            "  inflating: StyleGAN/InterFaceGAN/boundaries/stylegan_celebahq_eyeglasses_boundary.npy  \n",
            "  inflating: StyleGAN/InterFaceGAN/boundaries/stylegan_celebahq_eyeglasses_w_boundary.npy  \n",
            "  inflating: StyleGAN/InterFaceGAN/boundaries/stylegan_celebahq_gender_boundary.npy  \n",
            "  inflating: StyleGAN/InterFaceGAN/boundaries/stylegan_celebahq_gender_w_boundary.npy  \n",
            "  inflating: StyleGAN/InterFaceGAN/boundaries/stylegan_celebahq_pose_boundary.npy  \n",
            "  inflating: StyleGAN/InterFaceGAN/boundaries/stylegan_celebahq_pose_w_boundary.npy  \n",
            "  inflating: StyleGAN/InterFaceGAN/boundaries/stylegan_celebahq_smile_boundary.npy  \n",
            "  inflating: StyleGAN/InterFaceGAN/boundaries/stylegan_celebahq_smile_w_boundary.npy  \n",
            "  inflating: StyleGAN/InterFaceGAN/boundaries/stylegan_ffhq_age_boundary.npy  \n",
            "  inflating: StyleGAN/InterFaceGAN/boundaries/stylegan_ffhq_age_c_eyeglasses_boundary.npy  \n",
            "  inflating: StyleGAN/InterFaceGAN/boundaries/stylegan_ffhq_age_c_gender_boundary.npy  \n",
            "  inflating: StyleGAN/InterFaceGAN/boundaries/stylegan_ffhq_age_w_boundary.npy  \n",
            "  inflating: StyleGAN/InterFaceGAN/boundaries/stylegan_ffhq_eyeglasses_boundary.npy  \n",
            "  inflating: StyleGAN/InterFaceGAN/boundaries/stylegan_ffhq_eyeglasses_c_age_boundary.npy  \n",
            "  inflating: StyleGAN/InterFaceGAN/boundaries/stylegan_ffhq_eyeglasses_c_gender_boundary.npy  \n",
            "  inflating: StyleGAN/InterFaceGAN/boundaries/stylegan_ffhq_eyeglasses_w_boundary.npy  \n",
            "  inflating: StyleGAN/InterFaceGAN/boundaries/stylegan_ffhq_gender_boundary.npy  \n",
            "  inflating: StyleGAN/InterFaceGAN/boundaries/stylegan_ffhq_gender_w_boundary.npy  \n",
            "  inflating: StyleGAN/InterFaceGAN/boundaries/stylegan_ffhq_pose_boundary.npy  \n",
            "  inflating: StyleGAN/InterFaceGAN/boundaries/stylegan_ffhq_pose_w_boundary.npy  \n",
            "  inflating: StyleGAN/InterFaceGAN/boundaries/stylegan_ffhq_smile_boundary.npy  \n",
            "  inflating: StyleGAN/InterFaceGAN/boundaries/stylegan_ffhq_smile_w_boundary.npy  \n",
            "  inflating: StyleGAN/InterFaceGAN/edit.py  \n",
            "  inflating: StyleGAN/InterFaceGAN/generate_data.py  \n",
            "   creating: StyleGAN/InterFaceGAN/models/\n",
            "  inflating: StyleGAN/InterFaceGAN/models/__init__.py  \n",
            "  inflating: StyleGAN/InterFaceGAN/models/base_generator.py  \n",
            "  inflating: StyleGAN/InterFaceGAN/models/model_settings.py  \n",
            "  inflating: StyleGAN/InterFaceGAN/models/pggan_generator.py  \n",
            "  inflating: StyleGAN/InterFaceGAN/models/pggan_generator_model.py  \n",
            "   creating: StyleGAN/InterFaceGAN/models/pggan_tf_official/\n",
            "  inflating: StyleGAN/InterFaceGAN/models/pggan_tf_official/LICENSE.txt  \n",
            "  inflating: StyleGAN/InterFaceGAN/models/pggan_tf_official/README.md  \n",
            "  inflating: StyleGAN/InterFaceGAN/models/pggan_tf_official/config.py  \n",
            "  inflating: StyleGAN/InterFaceGAN/models/pggan_tf_official/dataset.py  \n",
            "  inflating: StyleGAN/InterFaceGAN/models/pggan_tf_official/dataset_tool.py  \n",
            "  inflating: StyleGAN/InterFaceGAN/models/pggan_tf_official/legacy.py  \n",
            "  inflating: StyleGAN/InterFaceGAN/models/pggan_tf_official/loss.py  \n",
            "   creating: StyleGAN/InterFaceGAN/models/pggan_tf_official/metrics/\n",
            "  inflating: StyleGAN/InterFaceGAN/models/pggan_tf_official/metrics/__init__.py  \n",
            "  inflating: StyleGAN/InterFaceGAN/models/pggan_tf_official/metrics/frechet_inception_distance.py  \n",
            "  inflating: StyleGAN/InterFaceGAN/models/pggan_tf_official/metrics/inception_score.py  \n",
            "  inflating: StyleGAN/InterFaceGAN/models/pggan_tf_official/metrics/ms_ssim.py  \n",
            "  inflating: StyleGAN/InterFaceGAN/models/pggan_tf_official/metrics/sliced_wasserstein.py  \n",
            "  inflating: StyleGAN/InterFaceGAN/models/pggan_tf_official/misc.py  \n",
            "  inflating: StyleGAN/InterFaceGAN/models/pggan_tf_official/networks.py  \n",
            "  inflating: StyleGAN/InterFaceGAN/models/pggan_tf_official/requirements-pip.txt  \n",
            "  inflating: StyleGAN/InterFaceGAN/models/pggan_tf_official/tfutil.py  \n",
            "  inflating: StyleGAN/InterFaceGAN/models/pggan_tf_official/train.py  \n",
            "  inflating: StyleGAN/InterFaceGAN/models/pggan_tf_official/util_scripts.py  \n",
            "   creating: StyleGAN/InterFaceGAN/models/pretrain/\n",
            "  inflating: StyleGAN/InterFaceGAN/models/pretrain/Pretrained_Models_Should_Be_Placed_Here  \n",
            "  inflating: StyleGAN/InterFaceGAN/models/pretrain/karras2019stylegan-ffhq-1024x1024.pkl  \n",
            "  inflating: StyleGAN/InterFaceGAN/models/pretrain/stylegan_ffhq.pth  \n",
            "  inflating: StyleGAN/InterFaceGAN/models/stylegan_generator.py  \n",
            "  inflating: StyleGAN/InterFaceGAN/models/stylegan_generator_model.py  \n",
            "   creating: StyleGAN/InterFaceGAN/models/stylegan_tf_official/\n",
            "  inflating: StyleGAN/InterFaceGAN/models/stylegan_tf_official/LICENSE.txt  \n",
            "  inflating: StyleGAN/InterFaceGAN/models/stylegan_tf_official/README.md  \n",
            "  inflating: StyleGAN/InterFaceGAN/models/stylegan_tf_official/config.py  \n",
            "  inflating: StyleGAN/InterFaceGAN/models/stylegan_tf_official/dataset_tool.py  \n",
            "   creating: StyleGAN/InterFaceGAN/models/stylegan_tf_official/dnnlib/\n",
            "  inflating: StyleGAN/InterFaceGAN/models/stylegan_tf_official/dnnlib/__init__.py  \n",
            "   creating: StyleGAN/InterFaceGAN/models/stylegan_tf_official/dnnlib/submission/\n",
            "  inflating: StyleGAN/InterFaceGAN/models/stylegan_tf_official/dnnlib/submission/__init__.py  \n",
            "   creating: StyleGAN/InterFaceGAN/models/stylegan_tf_official/dnnlib/submission/_internal/\n",
            "  inflating: StyleGAN/InterFaceGAN/models/stylegan_tf_official/dnnlib/submission/_internal/run.py  \n",
            "  inflating: StyleGAN/InterFaceGAN/models/stylegan_tf_official/dnnlib/submission/run_context.py  \n",
            "  inflating: StyleGAN/InterFaceGAN/models/stylegan_tf_official/dnnlib/submission/submit.py  \n",
            "   creating: StyleGAN/InterFaceGAN/models/stylegan_tf_official/dnnlib/submission/__pycache__/\n",
            "  inflating: StyleGAN/InterFaceGAN/models/stylegan_tf_official/dnnlib/submission/__pycache__/__init__.cpython-36.pyc  \n",
            "  inflating: StyleGAN/InterFaceGAN/models/stylegan_tf_official/dnnlib/submission/__pycache__/run_context.cpython-36.pyc  \n",
            "  inflating: StyleGAN/InterFaceGAN/models/stylegan_tf_official/dnnlib/submission/__pycache__/submit.cpython-36.pyc  \n",
            "   creating: StyleGAN/InterFaceGAN/models/stylegan_tf_official/dnnlib/tflib/\n",
            "  inflating: StyleGAN/InterFaceGAN/models/stylegan_tf_official/dnnlib/tflib/__init__.py  \n",
            "  inflating: StyleGAN/InterFaceGAN/models/stylegan_tf_official/dnnlib/tflib/autosummary.py  \n",
            "  inflating: StyleGAN/InterFaceGAN/models/stylegan_tf_official/dnnlib/tflib/network.py  \n",
            "  inflating: StyleGAN/InterFaceGAN/models/stylegan_tf_official/dnnlib/tflib/optimizer.py  \n",
            "  inflating: StyleGAN/InterFaceGAN/models/stylegan_tf_official/dnnlib/tflib/tfutil.py  \n",
            "   creating: StyleGAN/InterFaceGAN/models/stylegan_tf_official/dnnlib/tflib/__pycache__/\n",
            "  inflating: StyleGAN/InterFaceGAN/models/stylegan_tf_official/dnnlib/tflib/__pycache__/__init__.cpython-36.pyc  \n",
            "  inflating: StyleGAN/InterFaceGAN/models/stylegan_tf_official/dnnlib/tflib/__pycache__/autosummary.cpython-36.pyc  \n",
            "  inflating: StyleGAN/InterFaceGAN/models/stylegan_tf_official/dnnlib/tflib/__pycache__/tfutil.cpython-36.pyc  \n",
            "  inflating: StyleGAN/InterFaceGAN/models/stylegan_tf_official/dnnlib/tflib/__pycache__/network.cpython-36.pyc  \n",
            "  inflating: StyleGAN/InterFaceGAN/models/stylegan_tf_official/dnnlib/tflib/__pycache__/optimizer.cpython-36.pyc  \n",
            "  inflating: StyleGAN/InterFaceGAN/models/stylegan_tf_official/dnnlib/util.py  \n",
            "   creating: StyleGAN/InterFaceGAN/models/stylegan_tf_official/dnnlib/__pycache__/\n",
            "  inflating: StyleGAN/InterFaceGAN/models/stylegan_tf_official/dnnlib/__pycache__/__init__.cpython-36.pyc  \n",
            "  inflating: StyleGAN/InterFaceGAN/models/stylegan_tf_official/dnnlib/__pycache__/util.cpython-36.pyc  \n",
            "  inflating: StyleGAN/InterFaceGAN/models/stylegan_tf_official/generate_figures.py  \n",
            "   creating: StyleGAN/InterFaceGAN/models/stylegan_tf_official/metrics/\n",
            "  inflating: StyleGAN/InterFaceGAN/models/stylegan_tf_official/metrics/__init__.py  \n",
            "  inflating: StyleGAN/InterFaceGAN/models/stylegan_tf_official/metrics/frechet_inception_distance.py  \n",
            "  inflating: StyleGAN/InterFaceGAN/models/stylegan_tf_official/metrics/linear_separability.py  \n",
            "  inflating: StyleGAN/InterFaceGAN/models/stylegan_tf_official/metrics/metric_base.py  \n",
            "  inflating: StyleGAN/InterFaceGAN/models/stylegan_tf_official/metrics/perceptual_path_length.py  \n",
            "  inflating: StyleGAN/InterFaceGAN/models/stylegan_tf_official/pretrained_example.py  \n",
            "  inflating: StyleGAN/InterFaceGAN/models/stylegan_tf_official/run_metrics.py  \n",
            "  inflating: StyleGAN/InterFaceGAN/models/stylegan_tf_official/train.py  \n",
            "   creating: StyleGAN/InterFaceGAN/models/stylegan_tf_official/training/\n",
            "  inflating: StyleGAN/InterFaceGAN/models/stylegan_tf_official/training/__init__.py  \n",
            "  inflating: StyleGAN/InterFaceGAN/models/stylegan_tf_official/training/dataset.py  \n",
            "  inflating: StyleGAN/InterFaceGAN/models/stylegan_tf_official/training/loss.py  \n",
            "  inflating: StyleGAN/InterFaceGAN/models/stylegan_tf_official/training/misc.py  \n",
            "  inflating: StyleGAN/InterFaceGAN/models/stylegan_tf_official/training/networks_progan.py  \n",
            "  inflating: StyleGAN/InterFaceGAN/models/stylegan_tf_official/training/networks_stylegan.py  \n",
            "  inflating: StyleGAN/InterFaceGAN/models/stylegan_tf_official/training/training_loop.py  \n",
            "   creating: StyleGAN/InterFaceGAN/models/__pycache__/\n",
            "  inflating: StyleGAN/InterFaceGAN/models/__pycache__/__init__.cpython-36.pyc  \n",
            "  inflating: StyleGAN/InterFaceGAN/models/__pycache__/model_settings.cpython-36.pyc  \n",
            "  inflating: StyleGAN/InterFaceGAN/models/__pycache__/pggan_generator.cpython-36.pyc  \n",
            "  inflating: StyleGAN/InterFaceGAN/models/__pycache__/pggan_generator_model.cpython-36.pyc  \n",
            "  inflating: StyleGAN/InterFaceGAN/models/__pycache__/base_generator.cpython-36.pyc  \n",
            "  inflating: StyleGAN/InterFaceGAN/models/__pycache__/stylegan_generator.cpython-36.pyc  \n",
            "  inflating: StyleGAN/InterFaceGAN/models/__pycache__/stylegan_generator_model.cpython-36.pyc  \n",
            "  inflating: StyleGAN/InterFaceGAN/teaser.jpg  \n",
            "  inflating: StyleGAN/InterFaceGAN/train_boundary.py  \n",
            "   creating: StyleGAN/InterFaceGAN/utils/\n",
            "  inflating: StyleGAN/InterFaceGAN/utils/__init__.py  \n",
            "  inflating: StyleGAN/InterFaceGAN/utils/logger.py  \n",
            "  inflating: StyleGAN/InterFaceGAN/utils/manipulator.py  \n",
            "   creating: StyleGAN/InterFaceGAN/utils/__pycache__/\n",
            "  inflating: StyleGAN/InterFaceGAN/utils/__pycache__/__init__.cpython-36.pyc  \n",
            "  inflating: StyleGAN/InterFaceGAN/utils/__pycache__/logger.cpython-36.pyc  \n",
            "  inflating: StyleGAN/InterFaceGAN/utils/__pycache__/manipulator.cpython-36.pyc  \n",
            "  inflating: StyleGAN/InterFaceGAN/runEdit.sh  \n",
            "  inflating: StyleGAN/InterFaceGAN/runediting.sh  \n",
            "   creating: StyleGAN/InterFaceGAN/output_videos/\n",
            "  inflating: StyleGAN/InterFaceGAN/output_videos/out_video_age_00.mp4  \n",
            "   creating: StyleGAN/InterFaceGAN/result/\n",
            "   creating: StyleGAN/InterFaceGAN/result/old/\n",
            "  inflating: StyleGAN/InterFaceGAN/result/old/000_032.jpg  \n",
            "  inflating: StyleGAN/InterFaceGAN/result/old/000_010.jpg  \n",
            "  inflating: StyleGAN/InterFaceGAN/result/old/000_024.jpg  \n",
            "  inflating: StyleGAN/InterFaceGAN/result/old/000_027.jpg  \n",
            "  inflating: StyleGAN/InterFaceGAN/result/old/000_003.jpg  \n",
            "  inflating: StyleGAN/InterFaceGAN/result/old/latent_codes.npy  \n",
            "  inflating: StyleGAN/InterFaceGAN/result/old/boundary.npy  \n",
            "  inflating: StyleGAN/InterFaceGAN/result/old/000_014.jpg  \n",
            "  inflating: StyleGAN/InterFaceGAN/result/old/000_016.jpg  \n",
            "  inflating: StyleGAN/InterFaceGAN/result/old/000_025.jpg  \n",
            "  inflating: StyleGAN/InterFaceGAN/result/old/000_026.jpg  \n",
            "  inflating: StyleGAN/InterFaceGAN/result/old/000_015.jpg  \n",
            "  inflating: StyleGAN/InterFaceGAN/result/old/000_000.jpg  \n",
            "  inflating: StyleGAN/InterFaceGAN/result/old/000_001.jpg  \n",
            "  inflating: StyleGAN/InterFaceGAN/result/old/000_035.jpg  \n",
            "  inflating: StyleGAN/InterFaceGAN/result/old/000_034.jpg  \n",
            "  inflating: StyleGAN/InterFaceGAN/result/old/000_013.jpg  \n",
            "  inflating: StyleGAN/InterFaceGAN/result/old/000_019.jpg  \n",
            "  inflating: StyleGAN/InterFaceGAN/result/old/000_031.jpg  \n",
            "  inflating: StyleGAN/InterFaceGAN/result/old/000_008.jpg  \n",
            "  inflating: StyleGAN/InterFaceGAN/result/old/000_020.jpg  \n",
            "  inflating: StyleGAN/InterFaceGAN/result/old/000_029.jpg  \n",
            "  inflating: StyleGAN/InterFaceGAN/result/old/000_030.jpg  \n",
            "  inflating: StyleGAN/InterFaceGAN/result/old/000_028.jpg  \n",
            "  inflating: StyleGAN/InterFaceGAN/result/old/000_005.jpg  \n",
            "  inflating: StyleGAN/InterFaceGAN/result/old/000_004.jpg  \n",
            "  inflating: StyleGAN/InterFaceGAN/result/old/000_033.jpg  \n",
            "  inflating: StyleGAN/InterFaceGAN/result/old/000_012.jpg  \n",
            "  inflating: StyleGAN/InterFaceGAN/result/old/000_002.jpg  \n",
            "  inflating: StyleGAN/InterFaceGAN/result/old/000_011.jpg  \n",
            "  inflating: StyleGAN/InterFaceGAN/result/old/000_017.jpg  \n",
            "  inflating: StyleGAN/InterFaceGAN/result/old/000_023.jpg  \n",
            "  inflating: StyleGAN/InterFaceGAN/result/old/000_022.jpg  \n",
            "  inflating: StyleGAN/InterFaceGAN/result/old/000_021.jpg  \n",
            "  inflating: StyleGAN/InterFaceGAN/result/old/000_009.jpg  \n",
            "  inflating: StyleGAN/InterFaceGAN/result/old/log.txt  \n",
            "  inflating: StyleGAN/InterFaceGAN/result/old/000_018.jpg  \n",
            "  inflating: StyleGAN/InterFaceGAN/result/old/000_007.jpg  \n",
            "  inflating: StyleGAN/InterFaceGAN/result/old/000_006.jpg  \n"
          ],
          "name": "stdout"
        }
      ]
    },
    {
      "cell_type": "markdown",
      "metadata": {
        "id": "vH9KrE3-EuqY"
      },
      "source": [
        "Remove zip file"
      ]
    },
    {
      "cell_type": "code",
      "metadata": {
        "id": "-0-XMJd7znCl"
      },
      "source": [
        "!rm /content/StyleGAN.zip\n",
        "n=0"
      ],
      "execution_count": null,
      "outputs": []
    },
    {
      "cell_type": "markdown",
      "metadata": {
        "id": "NxwmMQUtFMyk"
      },
      "source": [
        "Download and install miniconda"
      ]
    },
    {
      "cell_type": "code",
      "metadata": {
        "id": "MSTUVmqFtqor",
        "colab": {
          "base_uri": "https://localhost:8080/"
        },
        "outputId": "8caad7ab-4ba2-468a-c900-e52f06b0ec80"
      },
      "source": [
        "! wget https://repo.anaconda.com/miniconda/Miniconda3-py37_4.8.2-Linux-x86_64.sh\n",
        "! chmod +x Miniconda3-py37_4.8.2-Linux-x86_64.sh\n",
        "! bash ./Miniconda3-py37_4.8.2-Linux-x86_64.sh -b -f -p /usr/local\n",
        "import sys\n",
        "sys.path.append('/usr/local/lib/python3.6/site-packages/')"
      ],
      "execution_count": null,
      "outputs": [
        {
          "output_type": "stream",
          "text": [
            "--2021-01-11 00:09:47--  https://repo.anaconda.com/miniconda/Miniconda3-py37_4.8.2-Linux-x86_64.sh\n",
            "Resolving repo.anaconda.com (repo.anaconda.com)... 104.16.131.3, 104.16.130.3, 2606:4700::6810:8203, ...\n",
            "Connecting to repo.anaconda.com (repo.anaconda.com)|104.16.131.3|:443... connected.\n",
            "HTTP request sent, awaiting response... 200 OK\n",
            "Length: 85055499 (81M) [application/x-sh]\n",
            "Saving to: ‘Miniconda3-py37_4.8.2-Linux-x86_64.sh’\n",
            "\n",
            "Miniconda3-py37_4.8 100%[===================>]  81.12M   274MB/s    in 0.3s    \n",
            "\n",
            "2021-01-11 00:09:48 (274 MB/s) - ‘Miniconda3-py37_4.8.2-Linux-x86_64.sh’ saved [85055499/85055499]\n",
            "\n",
            "PREFIX=/usr/local\n",
            "Unpacking payload ...\n",
            "Collecting package metadata (current_repodata.json): - \b\b\\ \b\b| \b\bdone\n",
            "Solving environment: - \b\b\\ \b\bdone\n",
            "\n",
            "## Package Plan ##\n",
            "\n",
            "  environment location: /usr/local\n",
            "\n",
            "  added / updated specs:\n",
            "    - _libgcc_mutex==0.1=main\n",
            "    - asn1crypto==1.3.0=py37_0\n",
            "    - ca-certificates==2020.1.1=0\n",
            "    - certifi==2019.11.28=py37_0\n",
            "    - cffi==1.14.0=py37h2e261b9_0\n",
            "    - chardet==3.0.4=py37_1003\n",
            "    - conda-package-handling==1.6.0=py37h7b6447c_0\n",
            "    - conda==4.8.2=py37_0\n",
            "    - cryptography==2.8=py37h1ba5d50_0\n",
            "    - idna==2.8=py37_0\n",
            "    - ld_impl_linux-64==2.33.1=h53a641e_7\n",
            "    - libedit==3.1.20181209=hc058e9b_0\n",
            "    - libffi==3.2.1=hd88cf55_4\n",
            "    - libgcc-ng==9.1.0=hdf63c60_0\n",
            "    - libstdcxx-ng==9.1.0=hdf63c60_0\n",
            "    - ncurses==6.2=he6710b0_0\n",
            "    - openssl==1.1.1d=h7b6447c_4\n",
            "    - pip==20.0.2=py37_1\n",
            "    - pycosat==0.6.3=py37h7b6447c_0\n",
            "    - pycparser==2.19=py37_0\n",
            "    - pyopenssl==19.1.0=py37_0\n",
            "    - pysocks==1.7.1=py37_0\n",
            "    - python==3.7.6=h0371630_2\n",
            "    - readline==7.0=h7b6447c_5\n",
            "    - requests==2.22.0=py37_1\n",
            "    - ruamel_yaml==0.15.87=py37h7b6447c_0\n",
            "    - setuptools==45.2.0=py37_0\n",
            "    - six==1.14.0=py37_0\n",
            "    - sqlite==3.31.1=h7b6447c_0\n",
            "    - tk==8.6.8=hbc83047_0\n",
            "    - tqdm==4.42.1=py_0\n",
            "    - urllib3==1.25.8=py37_0\n",
            "    - wheel==0.34.2=py37_0\n",
            "    - xz==5.2.4=h14c3975_4\n",
            "    - yaml==0.1.7=had09818_2\n",
            "    - zlib==1.2.11=h7b6447c_3\n",
            "\n",
            "\n",
            "The following NEW packages will be INSTALLED:\n",
            "\n",
            "  _libgcc_mutex      pkgs/main/linux-64::_libgcc_mutex-0.1-main\n",
            "  asn1crypto         pkgs/main/linux-64::asn1crypto-1.3.0-py37_0\n",
            "  ca-certificates    pkgs/main/linux-64::ca-certificates-2020.1.1-0\n",
            "  certifi            pkgs/main/linux-64::certifi-2019.11.28-py37_0\n",
            "  cffi               pkgs/main/linux-64::cffi-1.14.0-py37h2e261b9_0\n",
            "  chardet            pkgs/main/linux-64::chardet-3.0.4-py37_1003\n",
            "  conda              pkgs/main/linux-64::conda-4.8.2-py37_0\n",
            "  conda-package-han~ pkgs/main/linux-64::conda-package-handling-1.6.0-py37h7b6447c_0\n",
            "  cryptography       pkgs/main/linux-64::cryptography-2.8-py37h1ba5d50_0\n",
            "  idna               pkgs/main/linux-64::idna-2.8-py37_0\n",
            "  ld_impl_linux-64   pkgs/main/linux-64::ld_impl_linux-64-2.33.1-h53a641e_7\n",
            "  libedit            pkgs/main/linux-64::libedit-3.1.20181209-hc058e9b_0\n",
            "  libffi             pkgs/main/linux-64::libffi-3.2.1-hd88cf55_4\n",
            "  libgcc-ng          pkgs/main/linux-64::libgcc-ng-9.1.0-hdf63c60_0\n",
            "  libstdcxx-ng       pkgs/main/linux-64::libstdcxx-ng-9.1.0-hdf63c60_0\n",
            "  ncurses            pkgs/main/linux-64::ncurses-6.2-he6710b0_0\n",
            "  openssl            pkgs/main/linux-64::openssl-1.1.1d-h7b6447c_4\n",
            "  pip                pkgs/main/linux-64::pip-20.0.2-py37_1\n",
            "  pycosat            pkgs/main/linux-64::pycosat-0.6.3-py37h7b6447c_0\n",
            "  pycparser          pkgs/main/linux-64::pycparser-2.19-py37_0\n",
            "  pyopenssl          pkgs/main/linux-64::pyopenssl-19.1.0-py37_0\n",
            "  pysocks            pkgs/main/linux-64::pysocks-1.7.1-py37_0\n",
            "  python             pkgs/main/linux-64::python-3.7.6-h0371630_2\n",
            "  readline           pkgs/main/linux-64::readline-7.0-h7b6447c_5\n",
            "  requests           pkgs/main/linux-64::requests-2.22.0-py37_1\n",
            "  ruamel_yaml        pkgs/main/linux-64::ruamel_yaml-0.15.87-py37h7b6447c_0\n",
            "  setuptools         pkgs/main/linux-64::setuptools-45.2.0-py37_0\n",
            "  six                pkgs/main/linux-64::six-1.14.0-py37_0\n",
            "  sqlite             pkgs/main/linux-64::sqlite-3.31.1-h7b6447c_0\n",
            "  tk                 pkgs/main/linux-64::tk-8.6.8-hbc83047_0\n",
            "  tqdm               pkgs/main/noarch::tqdm-4.42.1-py_0\n",
            "  urllib3            pkgs/main/linux-64::urllib3-1.25.8-py37_0\n",
            "  wheel              pkgs/main/linux-64::wheel-0.34.2-py37_0\n",
            "  xz                 pkgs/main/linux-64::xz-5.2.4-h14c3975_4\n",
            "  yaml               pkgs/main/linux-64::yaml-0.1.7-had09818_2\n",
            "  zlib               pkgs/main/linux-64::zlib-1.2.11-h7b6447c_3\n",
            "\n",
            "\n",
            "Preparing transaction: / \b\b- \b\b\\ \b\bdone\n",
            "Executing transaction: / \b\b- \b\b\\ \b\b| \b\b/ \b\b- \b\b\\ \b\b| \b\b/ \b\b- \b\b\\ \b\b| \b\b/ \b\bdone\n",
            "installation finished.\n",
            "WARNING:\n",
            "    You currently have a PYTHONPATH environment variable set. This may cause\n",
            "    unexpected behavior when running the Python interpreter in Miniconda3.\n",
            "    For best results, please verify that your PYTHONPATH only points to\n",
            "    directories of packages that are compatible with the Python interpreter\n",
            "    in Miniconda3: /usr/local\n"
          ],
          "name": "stdout"
        }
      ]
    },
    {
      "cell_type": "markdown",
      "metadata": {
        "id": "_ZUK5_wDFXBR"
      },
      "source": [
        "# Installing python 3.6, user approval is required "
      ]
    },
    {
      "cell_type": "code",
      "metadata": {
        "id": "p-EPeaQ8u7Z2",
        "colab": {
          "base_uri": "https://localhost:8080/"
        },
        "outputId": "36a4828e-1859-4593-c001-0de6681b20d4"
      },
      "source": [
        "!conda install python=3.6"
      ],
      "execution_count": null,
      "outputs": [
        {
          "output_type": "stream",
          "text": [
            "Collecting package metadata (current_repodata.json): - \b\b\\ \b\b| \b\b/ \b\b- \b\b\\ \b\b| \b\b/ \b\b- \b\b\\ \b\b| \b\b/ \b\b- \b\bdone\n",
            "Solving environment: | \b\b/ \b\b- \b\b\\ \b\bdone\n",
            "\n",
            "## Package Plan ##\n",
            "\n",
            "  environment location: /usr/local\n",
            "\n",
            "  added / updated specs:\n",
            "    - python=3.6\n",
            "\n",
            "\n",
            "The following packages will be downloaded:\n",
            "\n",
            "    package                    |            build\n",
            "    ---------------------------|-----------------\n",
            "    brotlipy-0.7.0             |py36h27cfd23_1003         320 KB\n",
            "    ca-certificates-2020.12.8  |       h06a4308_0         121 KB\n",
            "    certifi-2020.12.5          |   py36h06a4308_0         140 KB\n",
            "    cffi-1.14.4                |   py36h261ae71_0         223 KB\n",
            "    chardet-4.0.0              |py36h06a4308_1003         199 KB\n",
            "    conda-4.9.2                |   py36h06a4308_0         2.9 MB\n",
            "    conda-package-handling-1.7.2|   py36h03888b9_0         886 KB\n",
            "    cryptography-3.3.1         |   py36h3c74f83_0         557 KB\n",
            "    idna-2.10                  |             py_0          50 KB\n",
            "    libedit-3.1.20191231       |       h14c3975_1         116 KB\n",
            "    libffi-3.3                 |       he6710b0_2          50 KB\n",
            "    openssl-1.1.1i             |       h27cfd23_0         2.5 MB\n",
            "    pip-20.3.3                 |   py36h06a4308_0         1.8 MB\n",
            "    pycosat-0.6.3              |   py36h27cfd23_0          82 KB\n",
            "    pycparser-2.20             |             py_2          94 KB\n",
            "    pyopenssl-20.0.1           |     pyhd3eb1b0_1          49 KB\n",
            "    pysocks-1.7.1              |   py36h06a4308_0          31 KB\n",
            "    python-3.6.12              |       hcff3b4d_2        29.7 MB\n",
            "    readline-8.0               |       h7b6447c_0         356 KB\n",
            "    requests-2.25.1            |     pyhd3eb1b0_0          52 KB\n",
            "    ruamel_yaml-0.15.87        |   py36h7b6447c_0         257 KB\n",
            "    setuptools-51.0.0          |   py36h06a4308_2         712 KB\n",
            "    six-1.15.0                 |   py36h06a4308_0          27 KB\n",
            "    sqlite-3.33.0              |       h62c20be_0         1.1 MB\n",
            "    tk-8.6.10                  |       hbc83047_0         3.0 MB\n",
            "    urllib3-1.26.2             |     pyhd3eb1b0_0         105 KB\n",
            "    wheel-0.36.2               |     pyhd3eb1b0_0          33 KB\n",
            "    xz-5.2.5                   |       h7b6447c_0         341 KB\n",
            "    ------------------------------------------------------------\n",
            "                                           Total:        45.7 MB\n",
            "\n",
            "The following NEW packages will be INSTALLED:\n",
            "\n",
            "  brotlipy           pkgs/main/linux-64::brotlipy-0.7.0-py36h27cfd23_1003\n",
            "\n",
            "The following packages will be REMOVED:\n",
            "\n",
            "  asn1crypto-1.3.0-py37_0\n",
            "\n",
            "The following packages will be UPDATED:\n",
            "\n",
            "  ca-certificates                                2020.1.1-0 --> 2020.12.8-h06a4308_0\n",
            "  certifi                                 2019.11.28-py37_0 --> 2020.12.5-py36h06a4308_0\n",
            "  cffi                                1.14.0-py37h2e261b9_0 --> 1.14.4-py36h261ae71_0\n",
            "  chardet                                   3.0.4-py37_1003 --> 4.0.0-py36h06a4308_1003\n",
            "  conda                                        4.8.2-py37_0 --> 4.9.2-py36h06a4308_0\n",
            "  conda-package-han~                   1.6.0-py37h7b6447c_0 --> 1.7.2-py36h03888b9_0\n",
            "  cryptography                           2.8-py37h1ba5d50_0 --> 3.3.1-py36h3c74f83_0\n",
            "  idna                  pkgs/main/linux-64::idna-2.8-py37_0 --> pkgs/main/noarch::idna-2.10-py_0\n",
            "  libedit                           3.1.20181209-hc058e9b_0 --> 3.1.20191231-h14c3975_1\n",
            "  libffi                                   3.2.1-hd88cf55_4 --> 3.3-he6710b0_2\n",
            "  openssl                                 1.1.1d-h7b6447c_4 --> 1.1.1i-h27cfd23_0\n",
            "  pip                                         20.0.2-py37_1 --> 20.3.3-py36h06a4308_0\n",
            "  pycparser          pkgs/main/linux-64::pycparser-2.19-py~ --> pkgs/main/noarch::pycparser-2.20-py_2\n",
            "  pyopenssl          pkgs/main/linux-64::pyopenssl-19.1.0-~ --> pkgs/main/noarch::pyopenssl-20.0.1-pyhd3eb1b0_1\n",
            "  readline                                   7.0-h7b6447c_5 --> 8.0-h7b6447c_0\n",
            "  requests           pkgs/main/linux-64::requests-2.22.0-p~ --> pkgs/main/noarch::requests-2.25.1-pyhd3eb1b0_0\n",
            "  setuptools                                  45.2.0-py37_0 --> 51.0.0-py36h06a4308_2\n",
            "  six                                         1.14.0-py37_0 --> 1.15.0-py36h06a4308_0\n",
            "  sqlite                                  3.31.1-h7b6447c_0 --> 3.33.0-h62c20be_0\n",
            "  tk                                       8.6.8-hbc83047_0 --> 8.6.10-hbc83047_0\n",
            "  urllib3            pkgs/main/linux-64::urllib3-1.25.8-py~ --> pkgs/main/noarch::urllib3-1.26.2-pyhd3eb1b0_0\n",
            "  wheel              pkgs/main/linux-64::wheel-0.34.2-py37~ --> pkgs/main/noarch::wheel-0.36.2-pyhd3eb1b0_0\n",
            "  xz                                       5.2.4-h14c3975_4 --> 5.2.5-h7b6447c_0\n",
            "\n",
            "The following packages will be DOWNGRADED:\n",
            "\n",
            "  pycosat                              0.6.3-py37h7b6447c_0 --> 0.6.3-py36h27cfd23_0\n",
            "  pysocks                                      1.7.1-py37_0 --> 1.7.1-py36h06a4308_0\n",
            "  python                                   3.7.6-h0371630_2 --> 3.6.12-hcff3b4d_2\n",
            "  ruamel_yaml                        0.15.87-py37h7b6447c_0 --> 0.15.87-py36h7b6447c_0\n",
            "\n",
            "\n",
            "Proceed ([y]/n)? y\n",
            "\n",
            "\n",
            "Downloading and Extracting Packages\n",
            "cffi-1.14.4          | 223 KB    | : 100% 1.0/1 [00:00<00:00, 12.90it/s]\n",
            "tk-8.6.10            | 3.0 MB    | : 100% 1.0/1 [00:00<00:00,  6.22it/s]\n",
            "wheel-0.36.2         | 33 KB     | : 100% 1.0/1 [00:00<00:00, 21.73it/s]\n",
            "conda-package-handli | 886 KB    | :   0% 0/1 [00:00<?, ?it/s]y\n",
            "conda-package-handli | 886 KB    | : 100% 1.0/1 [00:00<00:00, 15.28it/s]\n",
            "ruamel_yaml-0.15.87  | 257 KB    | : 100% 1.0/1 [00:00<00:00, 20.58it/s]\n",
            "cryptography-3.3.1   | 557 KB    | : 100% 1.0/1 [00:00<00:00, 10.66it/s]\n",
            "readline-8.0         | 356 KB    | : 100% 1.0/1 [00:00<00:00, 15.62it/s]\n",
            "chardet-4.0.0        | 199 KB    | : 100% 1.0/1 [00:00<00:00, 15.05it/s]\n",
            "pycparser-2.20       | 94 KB     | : 100% 1.0/1 [00:00<00:00, 19.67it/s]\n",
            "certifi-2020.12.5    | 140 KB    | : 100% 1.0/1 [00:00<00:00, 21.00it/s]\n",
            "xz-5.2.5             | 341 KB    | : 100% 1.0/1 [00:00<00:00, 19.94it/s]\n",
            "brotlipy-0.7.0       | 320 KB    | : 100% 1.0/1 [00:00<00:00, 21.50it/s]\n",
            "pysocks-1.7.1        | 31 KB     | : 100% 1.0/1 [00:00<00:00, 30.33it/s]\n",
            "python-3.6.12        | 29.7 MB   | : 100% 1.0/1 [00:00<00:00,  1.07it/s]               \n",
            "pip-20.3.3           | 1.8 MB    | : 100% 1.0/1 [00:00<00:00,  6.49it/s]\n",
            "libffi-3.3           | 50 KB     | : 100% 1.0/1 [00:00<00:00, 19.56it/s]\n",
            "pycosat-0.6.3        | 82 KB     | : 100% 1.0/1 [00:00<00:00, 23.22it/s]\n",
            "idna-2.10            | 50 KB     | : 100% 1.0/1 [00:00<00:00, 20.83it/s]\n",
            "openssl-1.1.1i       | 2.5 MB    | : 100% 1.0/1 [00:00<00:00,  7.63it/s]\n",
            "libedit-3.1.20191231 | 116 KB    | : 100% 1.0/1 [00:00<00:00, 21.63it/s]\n",
            "conda-4.9.2          | 2.9 MB    | : 100% 1.0/1 [00:00<00:00,  6.47it/s]\n",
            "urllib3-1.26.2       | 105 KB    | : 100% 1.0/1 [00:00<00:00, 23.77it/s]\n",
            "pyopenssl-20.0.1     | 49 KB     | : 100% 1.0/1 [00:00<00:00, 17.34it/s]\n",
            "requests-2.25.1      | 52 KB     | : 100% 1.0/1 [00:00<00:00, 26.38it/s]\n",
            "setuptools-51.0.0    | 712 KB    | : 100% 1.0/1 [00:00<00:00, 16.59it/s]\n",
            "sqlite-3.33.0        | 1.1 MB    | : 100% 1.0/1 [00:00<00:00, 15.77it/s]\n",
            "six-1.15.0           | 27 KB     | : 100% 1.0/1 [00:00<00:00, 29.67it/s]\n",
            "ca-certificates-2020 | 121 KB    | : 100% 1.0/1 [00:00<00:00, 24.14it/s]\n",
            "Preparing transaction: / \b\b- \b\bdone\n",
            "Verifying transaction: | \b\b/ \b\b- \b\b\\ \b\b| \b\b/ \b\bdone\n",
            "Executing transaction: \\ \b\b| \b\b/ \b\b- \b\b\\ \b\b| \b\b/ \b\b- \b\b\\ \b\b| \b\b/ \b\b- \b\b\\ \b\b| \b\bdone\n"
          ],
          "name": "stdout"
        }
      ]
    },
    {
      "cell_type": "markdown",
      "metadata": {
        "id": "fFz49U53Fg2I"
      },
      "source": [
        "Installing **tensorflow** GPU (it may takes several minutes, cudatoolkit e cudnn will be installed too)"
      ]
    },
    {
      "cell_type": "code",
      "metadata": {
        "id": "FkI88KAJvNYh",
        "colab": {
          "base_uri": "https://localhost:8080/"
        },
        "outputId": "a70b8ffc-c104-488e-bf5c-3f6129c048a1"
      },
      "source": [
        "!conda install tensorflow-gpu==1.15"
      ],
      "execution_count": null,
      "outputs": [
        {
          "output_type": "stream",
          "text": [
            "Collecting package metadata (current_repodata.json): - \b\b\\ \b\b| \b\b/ \b\b- \b\b\\ \b\bdone\n",
            "Solving environment: / \b\bfailed with initial frozen solve. Retrying with flexible solve.\n",
            "Collecting package metadata (repodata.json): \\ \b\b| \b\b/ \b\b- \b\b\\ \b\b| \b\b/ \b\b- \b\b\\ \b\b| \b\b/ \b\b- \b\b\\ \b\b| \b\b/ \b\b- \b\b\\ \b\b| \b\b/ \b\b- \b\b\\ \b\b| \b\b/ \b\b- \b\b\\ \b\b| \b\b/ \b\b- \b\b\\ \b\b| \b\b/ \b\b- \b\b\\ \b\b| \b\b/ \b\b- \b\b\\ \b\b| \b\b/ \b\bdone\n",
            "Solving environment: \\ \b\b| \b\b/ \b\b- \b\b\\ \b\b| \b\b/ \b\b- \b\b\\ \b\b| \b\b/ \b\b- \b\b\\ \b\b| \b\b/ \b\b- \b\b\\ \b\b| \b\b/ \b\b- \b\b\\ \b\b| \b\b/ \b\b- \b\b\\ \b\b| \b\b/ \b\b- \b\b\\ \b\b| \b\b/ \b\b- \b\b\\ \b\bdone\n",
            "\n",
            "## Package Plan ##\n",
            "\n",
            "  environment location: /usr/local\n",
            "\n",
            "  added / updated specs:\n",
            "    - tensorflow-gpu==1.15\n",
            "\n",
            "\n",
            "The following packages will be downloaded:\n",
            "\n",
            "    package                    |            build\n",
            "    ---------------------------|-----------------\n",
            "    _tflow_select-2.1.0        |              gpu           2 KB\n",
            "    absl-py-0.11.0             |     pyhd3eb1b0_1         103 KB\n",
            "    astor-0.8.1                |           py36_0          47 KB\n",
            "    blas-1.0                   |              mkl           6 KB\n",
            "    c-ares-1.17.1              |       h27cfd23_0         108 KB\n",
            "    cudatoolkit-10.0.130       |                0       261.2 MB\n",
            "    cudnn-7.6.5                |       cuda10.0_0       165.0 MB\n",
            "    cupti-10.0.130             |                0         1.5 MB\n",
            "    gast-0.2.2                 |           py36_0         155 KB\n",
            "    google-pasta-0.2.0         |             py_0          46 KB\n",
            "    grpcio-1.31.0              |   py36hf8bcb03_0         2.0 MB\n",
            "    h5py-2.10.0                |   py36hd6299e0_1         901 KB\n",
            "    hdf5-1.10.6                |       hb1b8bf9_0         3.7 MB\n",
            "    importlib-metadata-2.0.0   |             py_1          35 KB\n",
            "    intel-openmp-2020.2        |              254         786 KB\n",
            "    keras-applications-1.0.8   |             py_1          29 KB\n",
            "    keras-preprocessing-1.1.0  |             py_1          37 KB\n",
            "    libgfortran-ng-7.3.0       |       hdf63c60_0        1006 KB\n",
            "    libprotobuf-3.13.0.1       |       hd408876_0         2.0 MB\n",
            "    markdown-3.3.3             |   py36h06a4308_0         128 KB\n",
            "    mkl-2020.2                 |              256       138.3 MB\n",
            "    mkl-service-2.3.0          |   py36he8ac12f_0          52 KB\n",
            "    mkl_fft-1.2.0              |   py36h23d657b_0         149 KB\n",
            "    mkl_random-1.1.1           |   py36h0573a6f_0         327 KB\n",
            "    numpy-1.19.2               |   py36h54aff64_0          22 KB\n",
            "    numpy-base-1.19.2          |   py36hfa32c7d_0         4.1 MB\n",
            "    opt_einsum-3.1.0           |             py_0          54 KB\n",
            "    protobuf-3.13.0.1          |   py36he6710b0_1         633 KB\n",
            "    scipy-1.5.2                |   py36h0b6359f_0        14.4 MB\n",
            "    tensorboard-1.15.0         |     pyhb230dea_0         3.2 MB\n",
            "    tensorflow-1.15.0          |gpu_py36h5a509aa_0           4 KB\n",
            "    tensorflow-base-1.15.0     |gpu_py36h9dcbed7_0       156.5 MB\n",
            "    tensorflow-estimator-1.15.1|     pyh2649769_0         271 KB\n",
            "    tensorflow-gpu-1.15.0      |       h0d30ee6_0           3 KB\n",
            "    termcolor-1.1.0            |           py36_1           8 KB\n",
            "    webencodings-0.5.1         |           py36_1          19 KB\n",
            "    werkzeug-0.16.1            |             py_0         258 KB\n",
            "    wrapt-1.12.1               |   py36h7b6447c_1          49 KB\n",
            "    zipp-3.4.0                 |     pyhd3eb1b0_0          15 KB\n",
            "    ------------------------------------------------------------\n",
            "                                           Total:       757.1 MB\n",
            "\n",
            "The following NEW packages will be INSTALLED:\n",
            "\n",
            "  _tflow_select      pkgs/main/linux-64::_tflow_select-2.1.0-gpu\n",
            "  absl-py            pkgs/main/noarch::absl-py-0.11.0-pyhd3eb1b0_1\n",
            "  astor              pkgs/main/linux-64::astor-0.8.1-py36_0\n",
            "  blas               pkgs/main/linux-64::blas-1.0-mkl\n",
            "  c-ares             pkgs/main/linux-64::c-ares-1.17.1-h27cfd23_0\n",
            "  cudatoolkit        pkgs/main/linux-64::cudatoolkit-10.0.130-0\n",
            "  cudnn              pkgs/main/linux-64::cudnn-7.6.5-cuda10.0_0\n",
            "  cupti              pkgs/main/linux-64::cupti-10.0.130-0\n",
            "  gast               pkgs/main/linux-64::gast-0.2.2-py36_0\n",
            "  google-pasta       pkgs/main/noarch::google-pasta-0.2.0-py_0\n",
            "  grpcio             pkgs/main/linux-64::grpcio-1.31.0-py36hf8bcb03_0\n",
            "  h5py               pkgs/main/linux-64::h5py-2.10.0-py36hd6299e0_1\n",
            "  hdf5               pkgs/main/linux-64::hdf5-1.10.6-hb1b8bf9_0\n",
            "  importlib-metadata pkgs/main/noarch::importlib-metadata-2.0.0-py_1\n",
            "  intel-openmp       pkgs/main/linux-64::intel-openmp-2020.2-254\n",
            "  keras-applications pkgs/main/noarch::keras-applications-1.0.8-py_1\n",
            "  keras-preprocessi~ pkgs/main/noarch::keras-preprocessing-1.1.0-py_1\n",
            "  libgfortran-ng     pkgs/main/linux-64::libgfortran-ng-7.3.0-hdf63c60_0\n",
            "  libprotobuf        pkgs/main/linux-64::libprotobuf-3.13.0.1-hd408876_0\n",
            "  markdown           pkgs/main/linux-64::markdown-3.3.3-py36h06a4308_0\n",
            "  mkl                pkgs/main/linux-64::mkl-2020.2-256\n",
            "  mkl-service        pkgs/main/linux-64::mkl-service-2.3.0-py36he8ac12f_0\n",
            "  mkl_fft            pkgs/main/linux-64::mkl_fft-1.2.0-py36h23d657b_0\n",
            "  mkl_random         pkgs/main/linux-64::mkl_random-1.1.1-py36h0573a6f_0\n",
            "  numpy              pkgs/main/linux-64::numpy-1.19.2-py36h54aff64_0\n",
            "  numpy-base         pkgs/main/linux-64::numpy-base-1.19.2-py36hfa32c7d_0\n",
            "  opt_einsum         pkgs/main/noarch::opt_einsum-3.1.0-py_0\n",
            "  protobuf           pkgs/main/linux-64::protobuf-3.13.0.1-py36he6710b0_1\n",
            "  scipy              pkgs/main/linux-64::scipy-1.5.2-py36h0b6359f_0\n",
            "  tensorboard        pkgs/main/noarch::tensorboard-1.15.0-pyhb230dea_0\n",
            "  tensorflow         pkgs/main/linux-64::tensorflow-1.15.0-gpu_py36h5a509aa_0\n",
            "  tensorflow-base    pkgs/main/linux-64::tensorflow-base-1.15.0-gpu_py36h9dcbed7_0\n",
            "  tensorflow-estima~ pkgs/main/noarch::tensorflow-estimator-1.15.1-pyh2649769_0\n",
            "  tensorflow-gpu     pkgs/main/linux-64::tensorflow-gpu-1.15.0-h0d30ee6_0\n",
            "  termcolor          pkgs/main/linux-64::termcolor-1.1.0-py36_1\n",
            "  webencodings       pkgs/main/linux-64::webencodings-0.5.1-py36_1\n",
            "  werkzeug           pkgs/main/noarch::werkzeug-0.16.1-py_0\n",
            "  wrapt              pkgs/main/linux-64::wrapt-1.12.1-py36h7b6447c_1\n",
            "  zipp               pkgs/main/noarch::zipp-3.4.0-pyhd3eb1b0_0\n",
            "\n",
            "\n",
            "Proceed ([y]/n)? y\n",
            "\n",
            "\n",
            "Downloading and Extracting Packages\n",
            "astor-0.8.1          | 47 KB     | : 100% 1.0/1 [00:00<00:00,  9.93it/s]\n",
            "gast-0.2.2           | 155 KB    | : 100% 1.0/1 [00:00<00:00, 15.28it/s]\n",
            "h5py-2.10.0          | 901 KB    | : 100% 1.0/1 [00:00<00:00, 11.23it/s]\n",
            "mkl_fft-1.2.0        | 149 KB    | : 100% 1.0/1 [00:00<00:00, 17.94it/s]\n",
            "tensorflow-estimator | 271 KB    | : 100% 1.0/1 [00:00<00:00, 13.74it/s]\n",
            "zipp-3.4.0           | 15 KB     | : 100% 1.0/1 [00:00<00:00, 20.57it/s]\n",
            "webencodings-0.5.1   | 19 KB     | : 100% 1.0/1 [00:00<00:00, 24.48it/s]\n",
            "wrapt-1.12.1         | 49 KB     | : 100% 1.0/1 [00:00<00:00, 18.89it/s]\n",
            "keras-applications-1 | 29 KB     | : 100% 1.0/1 [00:00<00:00, 17.10it/s]\n",
            "keras-preprocessing- | 37 KB     | : 100% 1.0/1 [00:00<00:00, 23.48it/s]\n",
            "blas-1.0             | 6 KB      | : 100% 1.0/1 [00:00<00:00, 28.20it/s]\n",
            "google-pasta-0.2.0   | 46 KB     | : 100% 1.0/1 [00:00<00:00, 15.26it/s]\n",
            "tensorflow-1.15.0    | 4 KB      | : 100% 1.0/1 [00:00<00:00, 22.54it/s]\n",
            "c-ares-1.17.1        | 108 KB    | : 100% 1.0/1 [00:00<00:00, 21.94it/s]\n",
            "termcolor-1.1.0      | 8 KB      | : 100% 1.0/1 [00:00<00:00, 26.18it/s]\n",
            "grpcio-1.31.0        | 2.0 MB    | : 100% 1.0/1 [00:00<00:00, 11.45it/s]\n",
            "numpy-base-1.19.2    | 4.1 MB    | : 100% 1.0/1 [00:00<00:00,  4.25it/s]\n",
            "cudatoolkit-10.0.130 | 261.2 MB  | : 100% 1.0/1 [00:06<00:00,  6.02s/it]               \n",
            "intel-openmp-2020.2  | 786 KB    | : 100% 1.0/1 [00:00<00:00, 12.72it/s]\n",
            "libprotobuf-3.13.0.1 | 2.0 MB    | : 100% 1.0/1 [00:00<00:00,  9.06it/s]\n",
            "scipy-1.5.2          | 14.4 MB   | : 100% 1.0/1 [00:00<00:00,  1.68it/s]\n",
            "tensorflow-gpu-1.15. | 3 KB      | : 100% 1.0/1 [00:00<00:00, 18.14it/s]\n",
            "tensorflow-base-1.15 | 156.5 MB  | : 100% 1.0/1 [00:46<00:00, 46.93s/it]               \n",
            "absl-py-0.11.0       | 103 KB    | : 100% 1.0/1 [00:00<00:00, 16.30it/s]\n",
            "cupti-10.0.130       | 1.5 MB    | : 100% 1.0/1 [00:00<00:00,  9.90it/s]\n",
            "_tflow_select-2.1.0  | 2 KB      | : 100% 1.0/1 [00:00<00:00, 23.12it/s]\n",
            "cudnn-7.6.5          | 165.0 MB  | : 100% 1.0/1 [00:17<00:00, 17.70s/it]               \n",
            "opt_einsum-3.1.0     | 54 KB     | : 100% 1.0/1 [00:00<00:00, 16.78it/s]\n",
            "libgfortran-ng-7.3.0 | 1006 KB   | : 100% 1.0/1 [00:00<00:00, 12.33it/s]\n",
            "markdown-3.3.3       | 128 KB    | : 100% 1.0/1 [00:00<00:00, 14.20it/s]\n",
            "protobuf-3.13.0.1    | 633 KB    | : 100% 1.0/1 [00:00<00:00, 11.03it/s]\n",
            "mkl-service-2.3.0    | 52 KB     | : 100% 1.0/1 [00:00<00:00, 13.35it/s]\n",
            "mkl_random-1.1.1     | 327 KB    | : 100% 1.0/1 [00:00<00:00, 16.02it/s]\n",
            "hdf5-1.10.6          | 3.7 MB    | : 100% 1.0/1 [00:01<00:00,  1.88s/it]\n",
            "mkl-2020.2           | 138.3 MB  | : 100% 1.0/1 [00:25<00:00, 25.42s/it]               \n",
            "numpy-1.19.2         | 22 KB     | : 100% 1.0/1 [00:03<00:00,  3.71s/it]\n",
            "werkzeug-0.16.1      | 258 KB    | : 100% 1.0/1 [00:00<00:00,  9.79it/s]\n",
            "importlib-metadata-2 | 35 KB     | : 100% 1.0/1 [00:00<00:00, 16.80it/s]\n",
            "tensorboard-1.15.0   | 3.2 MB    | : 100% 1.0/1 [00:00<00:00,  2.29it/s]\n",
            "Preparing transaction: / \b\b- \b\b\\ \b\b| \b\b/ \b\bdone\n",
            "Verifying transaction: \\ \b\b| \b\b/ \b\b- \b\b\\ \b\b| \b\b/ \b\b- \b\b\\ \b\b| \b\b/ \b\b- \b\b\\ \b\bdone\n",
            "Executing transaction: / \b\b- \b\b\\ \b\b| \b\b/ \b\b- \b\b\\ \b\b| \b\b/ \b\b- \b\b\\ \b\b| \b\b/ \b\b- \b\b\\ \b\b| \b\b/ \b\b- \b\b\\ \b\b| \b\b/ \b\b- \b\b\\ \b\b| \b\b/ \b\b- \b\b\\ \b\b| \b\b/ \b\b- \b\b\\ \b\b| \b\b/ \b\b- \b\b\\ \b\b| \b\b/ \b\b- \b\b\\ \b\b| \b\b/ \b\b- \b\b\\ \b\b| \b\b/ \b\b- \b\b\\ \b\b| \b\b/ \b\b- \b\b\\ \b\b| \b\b/ \b\b- \b\b\\ \b\b| \b\b/ \b\b- \b\b\\ \b\b| \b\b/ \b\b- \b\b\\ \b\b| \b\b/ \b\b- \b\b\\ \b\b| \b\b/ \b\b- \b\b\\ \b\b| \b\b/ \b\b- \b\b\\ \b\b| \b\b/ \b\b- \b\b\\ \b\b| \b\b/ \b\b- \b\b\\ \b\b| \b\b/ \b\b- \b\b\\ \b\b| \b\b/ \b\b- \b\b\\ \b\b| \b\b/ \b\b- \b\b\\ \b\b| \b\b/ \b\b- \b\b\\ \b\b| \b\b/ \b\b- \b\b\\ \b\b| \b\b/ \b\b- \b\b\\ \b\b| \b\b/ \b\b- \b\b\\ \b\b| \b\b/ \b\b- \b\b\\ \b\b| \b\b/ \b\b- \b\b\\ \b\b| \b\b/ \b\b- \b\b\\ \b\b| \b\b/ \b\b- \b\b\\ \b\b| \b\b/ \b\b- \b\b\\ \b\b| \b\b/ \b\b- \b\b\\ \b\b| \b\b/ \b\b- \b\b\\ \b\b| \b\b/ \b\b- \b\b\\ \b\b| \b\b/ \b\b- \b\b\\ \b\b| \b\b/ \b\b- \b\b\\ \b\b| \b\b/ \b\b- \b\b\\ \b\b| \b\b/ \b\b- \b\b\\ \b\b| \b\b/ \b\b- \b\b\\ \b\b| \b\b/ \b\b- \b\b\\ \b\b| \b\b/ \b\b- \b\b\\ \b\b| \b\b/ \b\b- \b\b\\ \b\b| \b\b/ \b\b- \b\b\\ \b\b| \b\b/ \b\b- \b\b\\ \b\b| \b\b/ \b\b- \b\b\\ \b\b| \b\b/ \b\b- \b\b\\ \b\b| \b\b/ \b\b- \b\b\\ \b\b| \b\b/ \b\b- \b\b\\ \b\b| \b\b/ \b\b- \b\b\\ \b\b| \b\b/ \b\b- \b\b\\ \b\b| \b\b/ \b\b- \b\b\\ \b\b| \b\b/ \b\b- \b\b\\ \b\b| \b\b/ \b\b- \b\b\\ \b\b| \b\b/ \b\b- \b\b\\ \b\b| \b\b/ \b\b- \b\b\\ \b\b| \b\b/ \b\b- \b\b\\ \b\b| \b\b/ \b\b- \b\b\\ \b\b| \b\b/ \b\b- \b\b\\ \b\b| \b\b/ \b\b- \b\b\\ \b\b| \b\b/ \b\b- \b\b\\ \b\b| \b\b/ \b\b- \b\b\\ \b\b| \b\b/ \b\b- \b\b\\ \b\b| \b\b/ \b\b- \b\b\\ \b\b| \b\b/ \b\b- \b\b\\ \b\b| \b\b/ \b\b- \b\b\\ \b\b| \b\b/ \b\b- \b\b\\ \b\b| \b\b/ \b\b- \b\b\\ \b\b| \b\b/ \b\b- \b\b\\ \b\b| \b\b/ \b\b- \b\b\\ \b\b| \b\b/ \b\b- \b\b\\ \b\b| \b\b/ \b\b- \b\b\\ \b\b| \b\b/ \b\b- \b\b\\ \b\b| \b\b/ \b\b- \b\b\\ \b\b| \b\b/ \b\b- \b\b\\ \b\b| \b\b/ \b\b- \b\b\\ \b\b| \b\b/ \b\b- \b\b\\ \b\b| \b\b/ \b\b- \b\b\\ \b\b| \b\b/ \b\b- \b\b\\ \b\b| \b\b/ \b\b- \b\b\\ \b\b| \b\b/ \b\b- \b\b\\ \b\b| \b\b/ \b\b- \b\b\\ \b\b| \b\b/ \b\b- \b\b\\ \b\b| \b\b/ \b\b- \b\b\\ \b\b| \b\b/ \b\b- \b\b\\ \b\b| \b\b/ \b\b- \b\b\\ \b\b| \b\b/ \b\b- \b\b\\ \b\b| \b\b/ \b\b- \b\b\\ \b\b| \b\b/ \b\b- \b\b\\ \b\b| \b\b/ \b\b- \b\b\\ \b\b| \b\b/ \b\b- \b\b\\ \b\b| \b\b/ \b\b- \b\b\\ \b\b| \b\b/ \b\b- \b\b\\ \b\b| \b\b/ \b\b- \b\b\\ \b\b| \b\b/ \b\b- \b\b\\ \b\b| \b\b/ \b\b- \b\b\\ \b\b| \b\b/ \b\b- \b\b\\ \b\b| \b\b/ \b\b- \b\b\\ \b\b| \b\b/ \b\b- \b\b\\ \b\b| \b\b/ \b\b- \b\b\\ \b\b| \b\b/ \b\b- \b\b\\ \b\b| \b\b/ \b\b- \b\b\\ \b\b| \b\b/ \b\b- \b\b\\ \b\b| \b\b/ \b\b- \b\b\\ \b\b| \b\b/ \b\b- \b\b\\ \b\b| \b\b/ \b\b- \b\b\\ \b\b| \b\b/ \b\b- \b\b\\ \b\b| \b\b/ \b\b- \b\b\\ \b\b| \b\b/ \b\b- \b\b\\ \b\b| \b\b/ \b\b- \b\b\\ \b\b| \b\b/ \b\b- \b\b\\ \b\b| \b\b/ \b\b- \b\b\\ \b\b| \b\bdone\n"
          ],
          "name": "stdout"
        }
      ]
    },
    {
      "cell_type": "markdown",
      "metadata": {
        "id": "l5UALDZdF3yx"
      },
      "source": [
        "Installing **Keras**"
      ]
    },
    {
      "cell_type": "code",
      "metadata": {
        "id": "MtCZrAf_wYnF",
        "colab": {
          "base_uri": "https://localhost:8080/"
        },
        "outputId": "bd1b48e6-0404-4d91-91d4-7900aa7402bf"
      },
      "source": [
        "!conda install keras "
      ],
      "execution_count": null,
      "outputs": [
        {
          "output_type": "stream",
          "text": [
            "Collecting package metadata (current_repodata.json): - \b\b\\ \b\b| \b\b/ \b\b- \b\b\\ \b\b| \b\bdone\n",
            "Solving environment: - \b\b\\ \b\b| \b\b/ \b\b- \b\b\\ \b\b| \b\b/ \b\b- \b\b\\ \b\b| \b\bdone\n",
            "\n",
            "## Package Plan ##\n",
            "\n",
            "  environment location: /usr/local\n",
            "\n",
            "  added / updated specs:\n",
            "    - keras\n",
            "\n",
            "\n",
            "The following packages will be downloaded:\n",
            "\n",
            "    package                    |            build\n",
            "    ---------------------------|-----------------\n",
            "    keras-2.3.1                |                0          12 KB\n",
            "    keras-base-2.3.1           |           py36_0         495 KB\n",
            "    pyyaml-5.3.1               |   py36h7b6447c_0         180 KB\n",
            "    ------------------------------------------------------------\n",
            "                                           Total:         687 KB\n",
            "\n",
            "The following NEW packages will be INSTALLED:\n",
            "\n",
            "  keras              pkgs/main/linux-64::keras-2.3.1-0\n",
            "  keras-base         pkgs/main/linux-64::keras-base-2.3.1-py36_0\n",
            "  pyyaml             pkgs/main/linux-64::pyyaml-5.3.1-py36h7b6447c_0\n",
            "\n",
            "\n",
            "Proceed ([y]/n)? y\n",
            "\n",
            "\n",
            "Downloading and Extracting Packages\n",
            "keras-2.3.1          | 12 KB     | : 100% 1.0/1 [00:00<00:00, 12.65it/s]\n",
            "pyyaml-5.3.1         | 180 KB    | : 100% 1.0/1 [00:00<00:00, 21.04it/s]\n",
            "keras-base-2.3.1     | 495 KB    | : 100% 1.0/1 [00:00<00:00, 13.86it/s]\n",
            "Preparing transaction: - \b\bdone\n",
            "Verifying transaction: | \b\bdone\n",
            "Executing transaction: - \b\bdone\n"
          ],
          "name": "stdout"
        }
      ]
    },
    {
      "cell_type": "markdown",
      "metadata": {
        "id": "TT0VWOZxF71i"
      },
      "source": [
        "Installing **OpenCV**"
      ]
    },
    {
      "cell_type": "code",
      "metadata": {
        "id": "A6D9xMYb8cUk",
        "colab": {
          "base_uri": "https://localhost:8080/"
        },
        "outputId": "2a0e7049-b64e-4d2d-9a63-039ffa65c522"
      },
      "source": [
        "!conda install -c anaconda opencv "
      ],
      "execution_count": null,
      "outputs": [
        {
          "output_type": "stream",
          "text": [
            "Collecting package metadata (current_repodata.json): - \b\b\\ \b\b| \b\b/ \b\b- \b\b\\ \b\b| \b\b/ \b\b- \b\b\\ \b\b| \b\b/ \b\b- \b\bdone\n",
            "Solving environment: | \b\b/ \b\b- \b\b\\ \b\b| \b\b/ \b\b- \b\b\\ \b\b| \b\b/ \b\b- \b\b\\ \b\b| \b\b/ \b\b- \b\b\\ \b\b| \b\b/ \b\b- \b\b\\ \b\b| \b\b/ \b\b- \b\b\\ \b\b| \b\b/ \b\b- \b\b\\ \b\b| \b\b/ \b\b- \b\b\\ \b\b| \b\b/ \b\b- \b\b\\ \b\b| \b\b/ \b\b- \b\b\\ \b\b| \b\b/ \b\b- \b\b\\ \b\b| \b\b/ \b\b- \b\b\\ \b\b| \b\b/ \b\b- \b\b\\ \b\b| \b\b/ \b\b- \b\b\\ \b\b| \b\b/ \b\bfailed with initial frozen solve. Retrying with flexible solve.\n",
            "Solving environment: \\ \b\b| \b\b/ \b\b- \b\b\\ \b\b| \b\b/ \b\b- \b\b\\ \b\b| \b\b/ \b\b- \b\b\\ \b\b| \b\b/ \b\b- \b\b\\ \b\b| \b\b/ \b\b- \b\b\\ \b\b| \b\b/ \b\b- \b\b\\ \b\b| \b\b/ \b\b- \b\b\\ \b\b| \b\b/ \b\b- \b\b\\ \b\b| \b\b/ \b\b- \b\b\\ \b\b| \b\b/ \b\b- \b\b\\ \b\b| \b\b/ \b\b- \b\b\\ \b\b| \b\b/ \b\b- \b\b\\ \b\b| \b\b/ \b\b- \b\b\\ \b\b| \b\b/ \b\b- \b\b\\ \b\b| \b\b/ \b\b- \b\b\\ \b\b| \b\b/ \b\b- \b\b\\ \b\b| \b\b/ \b\b- \b\b\\ \b\b| \b\b/ \b\b- \b\bfailed with repodata from current_repodata.json, will retry with next repodata source.\n",
            "Collecting package metadata (repodata.json): | \b\b/ \b\b- \b\b\\ \b\b| \b\b/ \b\b- \b\b\\ \b\b| \b\b/ \b\b- \b\b\\ \b\b| \b\b/ \b\b- \b\b\\ \b\b| \b\b/ \b\b- \b\b\\ \b\b| \b\b/ \b\b- \b\b\\ \b\b| \b\b/ \b\b- \b\b\\ \b\b| \b\b/ \b\b- \b\b\\ \b\b| \b\b/ \b\b- \b\b\\ \b\b| \b\b/ \b\b- \b\bdone\n",
            "Solving environment: | \b\b/ \b\b- \b\b\\ \b\b| \b\b/ \b\b- \b\b\\ \b\b| \b\b/ \b\b- \b\b\\ \b\b| \b\b/ \b\b- \b\b\\ \b\b| \b\b/ \b\b- \b\b\\ \b\b| \b\b/ \b\b- \b\b\\ \b\b| \b\b/ \b\b- \b\b\\ \b\b| \b\b/ \b\b- \b\b\\ \b\b| \b\b/ \b\b- \b\b\\ \b\b| \b\b/ \b\b- \b\b\\ \b\b| \b\b/ \b\b- \b\b\\ \b\b| \b\b/ \b\b- \b\b\\ \b\b| \b\b/ \b\b- \b\b\\ \b\b| \b\b/ \b\b- \b\b\\ \b\b| \b\b/ \b\b- \b\b\\ \b\b| \b\b/ \b\b- \b\b\\ \b\b| \b\b/ \b\b- \b\b\\ \b\b| \b\b/ \b\b- \b\b\\ \b\b| \b\b/ \b\b- \b\b\\ \b\b| \b\b/ \b\b- \b\b\\ \b\b| \b\b/ \b\b- \b\b\\ \b\b| \b\b/ \b\b- \b\b\\ \b\b| \b\b/ \b\b- \b\b\\ \b\b| \b\b/ \b\b- \b\b\\ \b\b| \b\b/ \b\b- \b\b\\ \b\b| \b\b/ \b\b- \b\b\\ \b\b| \b\b/ \b\b- \b\b\\ \b\b| \b\b/ \b\b- \b\b\\ \b\b| \b\b/ \b\b- \b\b\\ \b\b| \b\b/ \b\b- \b\b\\ \b\b| \b\b/ \b\b- \b\b\\ \b\b| \b\b/ \b\b- \b\b\\ \b\b| \b\b/ \b\b- \b\b\\ \b\b| \b\b/ \b\b- \b\b\\ \b\b| \b\b/ \b\b- \b\b\\ \b\b| \b\b/ \b\b- \b\b\\ \b\b| \b\b/ \b\b- \b\b\\ \b\b| \b\b/ \b\b- \b\b\\ \b\b| \b\b/ \b\b- \b\b\\ \b\b| \b\b/ \b\b- \b\b\\ \b\b| \b\b/ \b\b- \b\b\\ \b\b| \b\b/ \b\b- \b\b\\ \b\b| \b\b/ \b\b- \b\b\\ \b\b| \b\b/ \b\bdone\n",
            "\n",
            "## Package Plan ##\n",
            "\n",
            "  environment location: /usr/local\n",
            "\n",
            "  added / updated specs:\n",
            "    - opencv\n",
            "\n",
            "\n",
            "The following packages will be downloaded:\n",
            "\n",
            "    package                    |            build\n",
            "    ---------------------------|-----------------\n",
            "    bzip2-1.0.8                |       h7b6447c_0         105 KB  anaconda\n",
            "    ca-certificates-2020.10.14 |                0         128 KB  anaconda\n",
            "    cairo-1.14.12              |       h8948797_3         1.3 MB  anaconda\n",
            "    certifi-2020.6.20          |           py36_0         160 KB  anaconda\n",
            "    ffmpeg-4.0                 |       hcdf2ecd_0        73.7 MB  anaconda\n",
            "    fontconfig-2.13.0          |       h9420a91_0         291 KB  anaconda\n",
            "    freeglut-3.0.0             |       hf484d3e_5         251 KB  anaconda\n",
            "    freetype-2.10.4            |       h5ab3b9f_0         901 KB  anaconda\n",
            "    glib-2.56.2                |       hd408876_0         5.0 MB  anaconda\n",
            "    graphite2-1.3.14           |       h23475e2_0         102 KB  anaconda\n",
            "    h5py-2.8.0                 |   py36h989c5e5_3         1.1 MB  anaconda\n",
            "    harfbuzz-1.8.8             |       hffaf4a1_0         863 KB  anaconda\n",
            "    hdf5-1.10.2                |       hba1933b_1         5.2 MB  anaconda\n",
            "    icu-58.2                   |       he6710b0_3        22.7 MB  anaconda\n",
            "    jasper-2.0.14              |       h07fcdf6_1         1.1 MB  anaconda\n",
            "    jpeg-9b                    |       habf39ab_1         247 KB  anaconda\n",
            "    libglu-9.0.0               |       hf484d3e_1         377 KB  anaconda\n",
            "    libopencv-3.4.2            |       hb342d67_1        40.4 MB  anaconda\n",
            "    libopus-1.3.1              |       h7b6447c_0         570 KB  anaconda\n",
            "    libpng-1.6.37              |       hbc83047_0         364 KB  anaconda\n",
            "    libtiff-4.1.0              |       h2733197_1         607 KB  anaconda\n",
            "    libuuid-1.0.3              |       h1bed415_2          16 KB  anaconda\n",
            "    libvpx-1.7.0               |       h439df22_0         2.4 MB  anaconda\n",
            "    libxcb-1.14                |       h7b6447c_0         610 KB  anaconda\n",
            "    libxml2-2.9.10             |       hb55368b_3         1.3 MB  anaconda\n",
            "    lz4-c-1.9.2                |       heb0550a_3         203 KB  anaconda\n",
            "    opencv-3.4.2               |   py36h6fd60c2_1          11 KB  anaconda\n",
            "    pcre-8.44                  |       he6710b0_0         269 KB  anaconda\n",
            "    pixman-0.40.0              |       h7b6447c_0         628 KB  anaconda\n",
            "    py-opencv-3.4.2            |   py36hb342d67_1         1.2 MB  anaconda\n",
            "    zstd-1.4.4                 |       h0b5b093_3        1006 KB  anaconda\n",
            "    ------------------------------------------------------------\n",
            "                                           Total:       162.9 MB\n",
            "\n",
            "The following NEW packages will be INSTALLED:\n",
            "\n",
            "  bzip2              anaconda/linux-64::bzip2-1.0.8-h7b6447c_0\n",
            "  cairo              anaconda/linux-64::cairo-1.14.12-h8948797_3\n",
            "  ffmpeg             anaconda/linux-64::ffmpeg-4.0-hcdf2ecd_0\n",
            "  fontconfig         anaconda/linux-64::fontconfig-2.13.0-h9420a91_0\n",
            "  freeglut           anaconda/linux-64::freeglut-3.0.0-hf484d3e_5\n",
            "  freetype           anaconda/linux-64::freetype-2.10.4-h5ab3b9f_0\n",
            "  glib               anaconda/linux-64::glib-2.56.2-hd408876_0\n",
            "  graphite2          anaconda/linux-64::graphite2-1.3.14-h23475e2_0\n",
            "  harfbuzz           anaconda/linux-64::harfbuzz-1.8.8-hffaf4a1_0\n",
            "  icu                anaconda/linux-64::icu-58.2-he6710b0_3\n",
            "  jasper             anaconda/linux-64::jasper-2.0.14-h07fcdf6_1\n",
            "  jpeg               anaconda/linux-64::jpeg-9b-habf39ab_1\n",
            "  libglu             anaconda/linux-64::libglu-9.0.0-hf484d3e_1\n",
            "  libopencv          anaconda/linux-64::libopencv-3.4.2-hb342d67_1\n",
            "  libopus            anaconda/linux-64::libopus-1.3.1-h7b6447c_0\n",
            "  libpng             anaconda/linux-64::libpng-1.6.37-hbc83047_0\n",
            "  libtiff            anaconda/linux-64::libtiff-4.1.0-h2733197_1\n",
            "  libuuid            anaconda/linux-64::libuuid-1.0.3-h1bed415_2\n",
            "  libvpx             anaconda/linux-64::libvpx-1.7.0-h439df22_0\n",
            "  libxcb             anaconda/linux-64::libxcb-1.14-h7b6447c_0\n",
            "  libxml2            anaconda/linux-64::libxml2-2.9.10-hb55368b_3\n",
            "  lz4-c              anaconda/linux-64::lz4-c-1.9.2-heb0550a_3\n",
            "  opencv             anaconda/linux-64::opencv-3.4.2-py36h6fd60c2_1\n",
            "  pcre               anaconda/linux-64::pcre-8.44-he6710b0_0\n",
            "  pixman             anaconda/linux-64::pixman-0.40.0-h7b6447c_0\n",
            "  py-opencv          anaconda/linux-64::py-opencv-3.4.2-py36hb342d67_1\n",
            "  zstd               anaconda/linux-64::zstd-1.4.4-h0b5b093_3\n",
            "\n",
            "The following packages will be SUPERSEDED by a higher-priority channel:\n",
            "\n",
            "  ca-certificates    pkgs/main::ca-certificates-2020.12.8-~ --> anaconda::ca-certificates-2020.10.14-0\n",
            "  certifi            pkgs/main::certifi-2020.12.5-py36h06a~ --> anaconda::certifi-2020.6.20-py36_0\n",
            "  h5py                pkgs/main::h5py-2.10.0-py36hd6299e0_1 --> anaconda::h5py-2.8.0-py36h989c5e5_3\n",
            "  hdf5                    pkgs/main::hdf5-1.10.6-hb1b8bf9_0 --> anaconda::hdf5-1.10.2-hba1933b_1\n",
            "\n",
            "\n",
            "Proceed ([y]/n)? y\n",
            "\n",
            "\n",
            "Downloading and Extracting Packages\n",
            "libpng-1.6.37        | 364 KB    | : 100% 1.0/1 [00:00<00:00,  9.49it/s]\n",
            "libopencv-3.4.2      | 40.4 MB   | : 100% 1.0/1 [00:06<00:00,  6.26s/it]\n",
            "pixman-0.40.0        | 628 KB    | : 100% 1.0/1 [00:00<00:00,  7.90it/s]\n",
            "certifi-2020.6.20    | 160 KB    | : 100% 1.0/1 [00:00<00:00, 22.79it/s]\n",
            "libopus-1.3.1        | 570 KB    | : 100% 1.0/1 [00:00<00:00,  8.28it/s]\n",
            "bzip2-1.0.8          | 105 KB    | : 100% 1.0/1 [00:00<00:00, 19.55it/s]\n",
            "zstd-1.4.4           | 1006 KB   | : 100% 1.0/1 [00:00<00:00,  4.74it/s]\n",
            "graphite2-1.3.14     | 102 KB    | : 100% 1.0/1 [00:00<00:00, 20.50it/s]\n",
            "libglu-9.0.0         | 377 KB    | : 100% 1.0/1 [00:00<00:00, 11.37it/s]\n",
            "freeglut-3.0.0       | 251 KB    | : 100% 1.0/1 [00:00<00:00, 13.11it/s]\n",
            "libuuid-1.0.3        | 16 KB     | : 100% 1.0/1 [00:00<00:00, 33.00it/s]\n",
            "libtiff-4.1.0        | 607 KB    | : 100% 1.0/1 [00:00<00:00,  6.85it/s]\n",
            "jpeg-9b              | 247 KB    | : 100% 1.0/1 [00:00<00:00, 14.35it/s]\n",
            "cairo-1.14.12        | 1.3 MB    | : 100% 1.0/1 [00:00<00:00,  3.99it/s]\n",
            "harfbuzz-1.8.8       | 863 KB    | : 100% 1.0/1 [00:00<00:00,  6.00it/s]\n",
            "opencv-3.4.2         | 11 KB     | : 100% 1.0/1 [00:00<00:00, 38.49it/s]\n",
            "hdf5-1.10.2          | 5.2 MB    | : 100% 1.0/1 [00:00<00:00,  1.21it/s]\n",
            "pcre-8.44            | 269 KB    | : 100% 1.0/1 [00:00<00:00, 12.93it/s]\n",
            "freetype-2.10.4      | 901 KB    | : 100% 1.0/1 [00:00<00:00,  6.40it/s]\n",
            "h5py-2.8.0           | 1.1 MB    | : 100% 1.0/1 [00:00<00:00,  4.01it/s]\n",
            "jasper-2.0.14        | 1.1 MB    | : 100% 1.0/1 [00:00<00:00,  4.36it/s]\n",
            "ca-certificates-2020 | 128 KB    | : 100% 1.0/1 [00:00<00:00, 15.68it/s]\n",
            "libvpx-1.7.0         | 2.4 MB    | : 100% 1.0/1 [00:00<00:00,  2.61it/s]\n",
            "icu-58.2             | 22.7 MB   | : 100% 1.0/1 [00:03<00:00,  3.19s/it]               \n",
            "lz4-c-1.9.2          | 203 KB    | : 100% 1.0/1 [00:00<00:00, 12.52it/s]\n",
            "ffmpeg-4.0           | 73.7 MB   | : 100% 1.0/1 [00:09<00:00,  9.15s/it]               \n",
            "glib-2.56.2          | 5.0 MB    | : 100% 1.0/1 [00:01<00:00,  1.18s/it]\n",
            "libxml2-2.9.10       | 1.3 MB    | : 100% 1.0/1 [00:00<00:00,  2.65it/s]\n",
            "libxcb-1.14          | 610 KB    | : 100% 1.0/1 [00:00<00:00,  5.37it/s]\n",
            "fontconfig-2.13.0    | 291 KB    | : 100% 1.0/1 [00:00<00:00, 12.97it/s]\n",
            "py-opencv-3.4.2      | 1.2 MB    | : 100% 1.0/1 [00:00<00:00,  3.59it/s]\n",
            "Preparing transaction: \\ \b\b| \b\bdone\n",
            "Verifying transaction: - \b\b\\ \b\b| \b\b/ \b\b- \b\b\\ \b\b| \b\b/ \b\b- \b\b\\ \b\b| \b\b/ \b\b- \b\b\\ \b\b| \b\b/ \b\b- \b\b\\ \b\b| \b\b/ \b\b- \b\bdone\n",
            "Executing transaction: | \b\b/ \b\b- \b\bdone\n"
          ],
          "name": "stdout"
        }
      ]
    },
    {
      "cell_type": "markdown",
      "metadata": {
        "id": "VjGWnoJ-F-Sz"
      },
      "source": [
        "Installing **torchvison** (it may takes up to 1min)"
      ]
    },
    {
      "cell_type": "code",
      "metadata": {
        "id": "eLSSE_TG9QV8",
        "colab": {
          "base_uri": "https://localhost:8080/"
        },
        "outputId": "6658b485-07c8-427e-ffe6-6a7a26c0f0cf"
      },
      "source": [
        "!conda install torchvision -c pytorch "
      ],
      "execution_count": null,
      "outputs": [
        {
          "output_type": "stream",
          "text": [
            "Collecting package metadata (current_repodata.json): - \b\b\\ \b\b| \b\b/ \b\b- \b\b\\ \b\b| \b\b/ \b\b- \b\b\\ \b\b| \b\b/ \b\bdone\n",
            "Solving environment: \\ \b\b| \b\b/ \b\b- \b\b\\ \b\b| \b\b/ \b\b- \b\b\\ \b\b| \b\b/ \b\b- \b\b\\ \b\b| \b\b/ \b\b- \b\b\\ \b\b| \b\b/ \b\b- \b\b\\ \b\b| \b\b/ \b\b- \b\bdone\n",
            "\n",
            "## Package Plan ##\n",
            "\n",
            "  environment location: /usr/local\n",
            "\n",
            "  added / updated specs:\n",
            "    - torchvision\n",
            "\n",
            "\n",
            "The following packages will be downloaded:\n",
            "\n",
            "    package                    |            build\n",
            "    ---------------------------|-----------------\n",
            "    lcms2-2.11                 |       h396b838_0         307 KB\n",
            "    ninja-1.10.2               |   py36hff7bd54_0         1.4 MB\n",
            "    olefile-0.46               |           py36_0          48 KB\n",
            "    pillow-8.1.0               |   py36he98fc37_0         626 KB\n",
            "    pytorch-1.4.0              |py3.6_cuda10.0.130_cudnn7.6.3_0       422.5 MB  pytorch\n",
            "    torchvision-0.5.0          |       py36_cu100         9.1 MB  pytorch\n",
            "    ------------------------------------------------------------\n",
            "                                           Total:       434.0 MB\n",
            "\n",
            "The following NEW packages will be INSTALLED:\n",
            "\n",
            "  lcms2              pkgs/main/linux-64::lcms2-2.11-h396b838_0\n",
            "  ninja              pkgs/main/linux-64::ninja-1.10.2-py36hff7bd54_0\n",
            "  olefile            pkgs/main/linux-64::olefile-0.46-py36_0\n",
            "  pillow             pkgs/main/linux-64::pillow-8.1.0-py36he98fc37_0\n",
            "  pytorch            pytorch/linux-64::pytorch-1.4.0-py3.6_cuda10.0.130_cudnn7.6.3_0\n",
            "  torchvision        pytorch/linux-64::torchvision-0.5.0-py36_cu100\n",
            "\n",
            "The following packages will be UPDATED:\n",
            "\n",
            "  ca-certificates    anaconda::ca-certificates-2020.10.14-0 --> pkgs/main::ca-certificates-2020.12.8-h06a4308_0\n",
            "  certifi                anaconda::certifi-2020.6.20-py36_0 --> pkgs/main::certifi-2020.12.5-py36h06a4308_0\n",
            "\n",
            "\n",
            "Proceed ([y]/n)? y\n",
            "\n",
            "\n",
            "Downloading and Extracting Packages\n",
            "pillow-8.1.0         | 626 KB    | : 100% 1.0/1 [00:00<00:00,  9.31it/s]\n",
            "olefile-0.46         | 48 KB     | : 100% 1.0/1 [00:00<00:00, 22.69it/s]\n",
            "lcms2-2.11           | 307 KB    | : 100% 1.0/1 [00:00<00:00, 23.11it/s]\n",
            "ninja-1.10.2         | 1.4 MB    | : 100% 1.0/1 [00:00<00:00,  6.35it/s]               \n",
            "pytorch-1.4.0        | 422.5 MB  | :  99% 0.9897088647046499/1 [00:04<00:00,  4.21s/it]y\n",
            "y\n",
            "pytorch-1.4.0        | 422.5 MB  | : 100% 1.0/1 [00:55<00:00, 55.59s/it]               \n",
            "torchvision-0.5.0    | 9.1 MB    | : 100% 1.0/1 [00:01<00:00,  1.40s/it]\n",
            "Preparing transaction: | \b\b/ \b\bdone\n",
            "Verifying transaction: \\ \b\b| \b\b/ \b\b- \b\bdone\n",
            "Executing transaction: | \b\b/ \b\b- \b\b\\ \b\b| \b\b/ \b\b- \b\b\\ \b\b| \b\bdone\n"
          ],
          "name": "stdout"
        }
      ]
    },
    {
      "cell_type": "markdown",
      "metadata": {
        "id": "0fzXGG0ZHkmT"
      },
      "source": [
        "Installing **scikit-learn**"
      ]
    },
    {
      "cell_type": "code",
      "metadata": {
        "id": "sC7-4JXJ-KW4",
        "colab": {
          "base_uri": "https://localhost:8080/"
        },
        "outputId": "719d01d3-9a7a-4b1b-e08a-8186e9bccb61"
      },
      "source": [
        " !conda install -c anaconda scikit-learn "
      ],
      "execution_count": null,
      "outputs": [
        {
          "output_type": "stream",
          "text": [
            "Collecting package metadata (current_repodata.json): - \b\b\\ \b\b| \b\b/ \b\b- \b\b\\ \b\b| \b\b/ \b\b- \b\bdone\n",
            "Solving environment: | \b\b/ \b\b- \b\b\\ \b\b| \b\b/ \b\b- \b\b\\ \b\b| \b\b/ \b\b- \b\b\\ \b\b| \b\b/ \b\b- \b\b\\ \b\b| \b\b/ \b\b- \b\b\\ \b\b| \b\bdone\n",
            "\n",
            "## Package Plan ##\n",
            "\n",
            "  environment location: /usr/local\n",
            "\n",
            "  added / updated specs:\n",
            "    - scikit-learn\n",
            "\n",
            "\n",
            "The following packages will be downloaded:\n",
            "\n",
            "    package                    |            build\n",
            "    ---------------------------|-----------------\n",
            "    joblib-0.17.0              |             py_0         205 KB  anaconda\n",
            "    scikit-learn-0.23.2        |   py36h0573a6f_0         6.9 MB  anaconda\n",
            "    threadpoolctl-2.1.0        |     pyh5ca1d4c_0          16 KB  anaconda\n",
            "    ------------------------------------------------------------\n",
            "                                           Total:         7.1 MB\n",
            "\n",
            "The following NEW packages will be INSTALLED:\n",
            "\n",
            "  joblib             anaconda/noarch::joblib-0.17.0-py_0\n",
            "  scikit-learn       anaconda/linux-64::scikit-learn-0.23.2-py36h0573a6f_0\n",
            "  threadpoolctl      anaconda/noarch::threadpoolctl-2.1.0-pyh5ca1d4c_0\n",
            "\n",
            "The following packages will be SUPERSEDED by a higher-priority channel:\n",
            "\n",
            "  ca-certificates    pkgs/main::ca-certificates-2020.12.8-~ --> anaconda::ca-certificates-2020.10.14-0\n",
            "  certifi            pkgs/main::certifi-2020.12.5-py36h06a~ --> anaconda::certifi-2020.6.20-py36_0\n",
            "\n",
            "\n",
            "Proceed ([y]/n)? y\n",
            "\n",
            "\n",
            "Downloading and Extracting Packages\n",
            "threadpoolctl-2.1.0  | 16 KB     | : 100% 1.0/1 [00:00<00:00, 13.82it/s]\n",
            "scikit-learn-0.23.2  | 6.9 MB    | : 100% 1.0/1 [00:01<00:00,  1.28s/it]\n",
            "joblib-0.17.0        | 205 KB    | : 100% 1.0/1 [00:00<00:00, 10.93it/s]\n",
            "Preparing transaction: - \b\bdone\n",
            "Verifying transaction: | \b\b/ \b\bdone\n",
            "Executing transaction: \\ \b\b| \b\b/ \b\b- \b\b\\ \b\b| \b\b/ \b\bdone\n"
          ],
          "name": "stdout"
        }
      ]
    },
    {
      "cell_type": "markdown",
      "metadata": {
        "id": "CacelFbFHifj"
      },
      "source": [
        "Installing **dlib**, it may takes up to 15min"
      ]
    },
    {
      "cell_type": "code",
      "metadata": {
        "id": "ifPr-KyQDcVz",
        "colab": {
          "base_uri": "https://localhost:8080/"
        },
        "outputId": "c730d3ac-09c9-4a6e-bb1b-34f0f3afa304"
      },
      "source": [
        "!pip install dlib"
      ],
      "execution_count": null,
      "outputs": [
        {
          "output_type": "stream",
          "text": [
            "Collecting dlib\n",
            "  Downloading dlib-19.21.1.tar.gz (3.6 MB)\n",
            "\u001b[K     |████████████████████████████████| 3.6 MB 23.3 MB/s \n",
            "\u001b[?25hBuilding wheels for collected packages: dlib\n",
            "  Building wheel for dlib (setup.py) ... \u001b[?25l\u001b[?25hdone\n",
            "  Created wheel for dlib: filename=dlib-19.21.1-cp36-cp36m-linux_x86_64.whl size=4269510 sha256=91baaad6be10f846eb548fafd4d191d0351bf74d59ab792a897cfc5657aa2ecf\n",
            "  Stored in directory: /root/.cache/pip/wheels/7e/e5/2f/1802026ff714a362c8d1759212528780b1d2499490e7675eb9\n",
            "Successfully built dlib\n",
            "Installing collected packages: dlib\n",
            "Successfully installed dlib-19.21.1\n"
          ],
          "name": "stdout"
        }
      ]
    },
    {
      "cell_type": "markdown",
      "metadata": {
        "id": "OhYy1dBeIZBt"
      },
      "source": [
        "Installing **imutils**"
      ]
    },
    {
      "cell_type": "code",
      "metadata": {
        "id": "lTHOHhqwGnQ2",
        "colab": {
          "base_uri": "https://localhost:8080/"
        },
        "outputId": "bbdc10df-dac9-48db-f602-50e927f5de96"
      },
      "source": [
        "!pip install imutils"
      ],
      "execution_count": null,
      "outputs": [
        {
          "output_type": "stream",
          "text": [
            "Requirement already satisfied: imutils in /usr/local/lib/python3.6/site-packages (0.5.3)\n"
          ],
          "name": "stdout"
        }
      ]
    },
    {
      "cell_type": "markdown",
      "metadata": {
        "id": "CypxkkCR6bhk"
      },
      "source": [
        "**If you want to use your image you have to delete the sample photo already present by running the last cell of the notebook**\n"
      ]
    },
    {
      "cell_type": "markdown",
      "metadata": {
        "id": "nwPBow6YKcpE"
      },
      "source": [
        "Put your image in ***stylegan-encoder/input***, for best result use a high resolution photo with face close-up"
      ]
    },
    {
      "cell_type": "markdown",
      "metadata": {
        "id": "cUMu9IenaAXk"
      },
      "source": [
        "# **ALIGNMENT**"
      ]
    },
    {
      "cell_type": "markdown",
      "metadata": {
        "id": "2OzyD0FNLNLT"
      },
      "source": [
        "Performing alignment, the output will be a 1024x1024 image, you can find it in ***StyleGAN/stylegan-encoder/output/aligned***."
      ]
    },
    {
      "cell_type": "code",
      "metadata": {
        "id": "hKHzV8fQKlj4",
        "colab": {
          "base_uri": "https://localhost:8080/"
        },
        "outputId": "7ff0ef7b-d739-4919-b911-74d3b0a5820d"
      },
      "source": [
        "!python3.6 /content/StyleGAN/stylegan-encoder/align_images.py /content/StyleGAN/stylegan-encoder/input /content/StyleGAN/stylegan-encoder/output/aligned/ --output_size=1024"
      ],
      "execution_count": 60,
      "outputs": [
        {
          "output_type": "stream",
          "text": [
            "Using TensorFlow backend.\n",
            "Aligning .ipynb_checkpoints ...\n",
            "Getting landmarks...\n",
            "Starting face alignment...\n",
            "Wrote result /content/StyleGAN/stylegan-encoder/output/aligned/.ipynb_checkpoints_01.png\n",
            "Aligning face-5.jpg ...\n",
            "Getting landmarks...\n",
            "Starting face alignment...\n",
            "Wrote result /content/StyleGAN/stylegan-encoder/output/aligned/face-5_01.png\n"
          ],
          "name": "stdout"
        }
      ]
    },
    {
      "cell_type": "markdown",
      "metadata": {
        "id": "nnNRtDMkZ6GN"
      },
      "source": [
        "# **ENCODING**"
      ]
    },
    {
      "cell_type": "markdown",
      "metadata": {
        "id": "-gyJTWB3MR9J"
      },
      "source": [
        "We use the encoder to encode the aligned image in StyleGAN latent space, it is possible to modify some parameters that allow to improve the quality of the encoding, for example by increasing ***--iterations***, however, this leads to an increase in execution time. This takes a few minutes. You can see the encoding result from the folder ***StyleGAN/stylegan-encoder/output/generated***. The version in latent space i in ***StyleGAN/stylegan-encoder/output/latent***, this will be the input of InterFaceGAN for aging\n",
        "\n"
      ]
    },
    {
      "cell_type": "markdown",
      "metadata": {
        "id": "yY3KUz51OCe3"
      },
      "source": [
        "encode_image.py has been modified to load weights locally. Normally it would download the weights from a certain repository which however often runs out of the daily bandwidth quota preventing the download*"
      ]
    },
    {
      "cell_type": "code",
      "metadata": {
        "id": "BZ4-QBNaC6DA",
        "colab": {
          "base_uri": "https://localhost:8080/"
        },
        "outputId": "3d0458d5-43db-4aa6-d8b9-157f36f65d4c"
      },
      "source": [
        "!python3.6 /content/StyleGAN/stylegan-encoder/encode_images.py --optimizer=lbfgs --face_mask=True --iterations=600 --use_lpips_loss=0 --use_discriminator_loss=0 --output_video=True /content/StyleGAN/stylegan-encoder/output/aligned/ /content/StyleGAN/stylegan-encoder/output/generated/ /content/StyleGAN/stylegan-encoder/output/latent\n"
      ],
      "execution_count": 61,
      "outputs": [
        {
          "output_type": "stream",
          "text": [
            "WARNING:tensorflow:From /content/StyleGAN/stylegan-encoder/dnnlib/tflib/tfutil.py:34: The name tf.Dimension is deprecated. Please use tf.compat.v1.Dimension instead.\n",
            "\n",
            "WARNING:tensorflow:From /content/StyleGAN/stylegan-encoder/dnnlib/tflib/tfutil.py:74: The name tf.variable_scope is deprecated. Please use tf.compat.v1.variable_scope instead.\n",
            "\n",
            "WARNING:tensorflow:From /content/StyleGAN/stylegan-encoder/dnnlib/tflib/tfutil.py:128: The name tf.Session is deprecated. Please use tf.compat.v1.Session instead.\n",
            "\n",
            "Using TensorFlow backend.\n",
            "WARNING:tensorflow:From /content/StyleGAN/stylegan-encoder/dnnlib/tflib/tfutil.py:97: The name tf.get_default_session is deprecated. Please use tf.compat.v1.get_default_session instead.\n",
            "\n",
            "WARNING:tensorflow:From /content/StyleGAN/stylegan-encoder/dnnlib/tflib/tfutil.py:109: The name tf.set_random_seed is deprecated. Please use tf.compat.v1.set_random_seed instead.\n",
            "\n",
            "WARNING:tensorflow:From /content/StyleGAN/stylegan-encoder/dnnlib/tflib/tfutil.py:132: The name tf.ConfigProto is deprecated. Please use tf.compat.v1.ConfigProto instead.\n",
            "\n",
            "WARNING:tensorflow:From /content/StyleGAN/stylegan-encoder/dnnlib/tflib/network.py:142: The name tf.get_default_graph is deprecated. Please use tf.compat.v1.get_default_graph instead.\n",
            "\n",
            "WARNING:tensorflow:From /content/StyleGAN/stylegan-encoder/dnnlib/tflib/network.py:150: The name tf.AUTO_REUSE is deprecated. Please use tf.compat.v1.AUTO_REUSE instead.\n",
            "\n",
            "WARNING:tensorflow:From /content/StyleGAN/stylegan-encoder/dnnlib/tflib/tfutil.py:76: The name tf.VariableScope is deprecated. Please use tf.compat.v1.VariableScope instead.\n",
            "\n",
            "WARNING:tensorflow:From /content/StyleGAN/stylegan-encoder/dnnlib/tflib/network.py:151: The name tf.get_variable_scope is deprecated. Please use tf.compat.v1.get_variable_scope instead.\n",
            "\n",
            "WARNING:tensorflow:From /content/StyleGAN/stylegan-encoder/dnnlib/tflib/network.py:154: The name tf.placeholder is deprecated. Please use tf.compat.v1.placeholder instead.\n",
            "\n",
            "WARNING:tensorflow:From /content/StyleGAN/stylegan-encoder/dnnlib/tflib/network.py:182: The name tf.global_variables is deprecated. Please use tf.compat.v1.global_variables instead.\n",
            "\n",
            "WARNING:tensorflow:From /content/StyleGAN/stylegan-encoder/dnnlib/tflib/tfutil.py:200: The name tf.assign is deprecated. Please use tf.compat.v1.assign instead.\n",
            "\n",
            "WARNING:tensorflow:From <string>:364: where (from tensorflow.python.ops.array_ops) is deprecated and will be removed in a future version.\n",
            "Instructions for updating:\n",
            "Use tf.where in 2.0, which has the same broadcast rule as np.where\n",
            "WARNING:tensorflow:From /content/StyleGAN/stylegan-encoder/encoder/generator_model.py:92: The name tf.random_normal is deprecated. Please use tf.random.normal instead.\n",
            "\n",
            "WARNING:tensorflow:From /content/StyleGAN/stylegan-encoder/encoder/perceptual_model.py:130: The name tf.assign_add is deprecated. Please use tf.compat.v1.assign_add instead.\n",
            "\n",
            "WARNING:tensorflow:From /content/StyleGAN/stylegan-encoder/encoder/perceptual_model.py:132: The name tf.train.exponential_decay is deprecated. Please use tf.compat.v1.train.exponential_decay instead.\n",
            "\n",
            "WARNING:tensorflow:From /content/StyleGAN/stylegan-encoder/encoder/perceptual_model.py:140: The name tf.image.resize_nearest_neighbor is deprecated. Please use tf.compat.v1.image.resize_nearest_neighbor instead.\n",
            "\n",
            "WARNING:tensorflow:From /usr/local/lib/python3.6/site-packages/tensorflow_core/python/ops/resource_variable_ops.py:1630: calling BaseResourceVariable.__init__ (from tensorflow.python.ops.resource_variable_ops) with constraint is deprecated and will be removed in a future version.\n",
            "Instructions for updating:\n",
            "If using Keras pass *_constraint arguments to layers.\n",
            "WARNING:tensorflow:From /usr/local/lib/python3.6/site-packages/keras/backend/tensorflow_backend.py:4070: The name tf.nn.max_pool is deprecated. Please use tf.nn.max_pool2d instead.\n",
            "\n",
            "  0% 0/2 [00:00<?, ?it/s]WARNING:tensorflow:From /usr/local/lib/python3.6/site-packages/keras/backend/tensorflow_backend.py:431: The name tf.is_variable_initialized is deprecated. Please use tf.compat.v1.is_variable_initialized instead.\n",
            "\n",
            "WARNING:tensorflow:From /usr/local/lib/python3.6/site-packages/keras/backend/tensorflow_backend.py:438: The name tf.variables_initializer is deprecated. Please use tf.compat.v1.variables_initializer instead.\n",
            "\n",
            "Saving mask masks/face-5_01.png\n",
            "\n",
            "  0% 0/600 [00:00<?, ?it/s]\u001b[AWARNING:tensorflow:\n",
            "The TensorFlow contrib module will not be included in TensorFlow 2.0.\n",
            "For more information, please see:\n",
            "  * https://github.com/tensorflow/community/blob/master/rfcs/20180907-contrib-sunset.md\n",
            "  * https://github.com/tensorflow/addons\n",
            "  * https://github.com/tensorflow/io (for I/O related ops)\n",
            "If you depend on functionality not listed there, please file an issue.\n",
            "\n",
            "WARNING:tensorflow:From /usr/local/lib/python3.6/site-packages/tensorflow_core/python/ops/math_grad.py:281: setdiff1d (from tensorflow.python.ops.array_ops) is deprecated and will be removed after 2018-11-30.\n",
            "Instructions for updating:\n",
            "This op will be removed after the deprecation date. Please switch to tf.sets.difference().\n",
            "\n",
            "face-5_01: loss 63.0851:   0% 0/600 [01:27<?, ?it/s]\u001b[A\n",
            "face-5_01: loss 63.0851:   0% 1/600 [01:27<14:37:39, 87.91s/it]\u001b[A\n",
            "face-5_01: loss 63.0836:   0% 1/600 [01:29<14:37:39, 87.91s/it]\u001b[A\n",
            "face-5_01: loss 63.0836:   0% 2/600 [01:29<10:19:16, 62.13s/it]\u001b[A\n",
            "face-5_01: loss 63.0163:   0% 2/600 [01:42<10:19:16, 62.13s/it]\u001b[A\n",
            "face-5_01: loss 63.0163:   0% 3/600 [01:42<7:49:14, 47.16s/it] \u001b[A\n",
            "face-5_01: loss 63.0228:   0% 3/600 [01:44<7:49:14, 47.16s/it]\u001b[A\n",
            "face-5_01: loss 63.0228:   1% 4/600 [01:44<5:33:52, 33.61s/it]\u001b[A\n",
            "face-5_01: loss 63.0229:   1% 4/600 [01:46<5:33:52, 33.61s/it]\u001b[A\n",
            "face-5_01: loss 63.0229:   1% 5/600 [01:46<4:01:17, 24.33s/it]\u001b[A\n",
            "face-5_01: loss 63.0223:   1% 5/600 [01:48<4:01:17, 24.33s/it]\u001b[A\n",
            "face-5_01: loss 63.0223:   1% 6/600 [01:48<2:54:30, 17.63s/it]\u001b[A\n",
            "face-5_01: loss 63.0220:   1% 6/600 [01:51<2:54:30, 17.63s/it]\u001b[A\n",
            "face-5_01: loss 63.0220:   1% 7/600 [01:51<2:11:07, 13.27s/it]\u001b[A\n",
            "face-5_01: loss 63.0221:   1% 7/600 [01:56<2:11:07, 13.27s/it]\u001b[A\n",
            "face-5_01: loss 63.0221:   1% 8/600 [01:56<1:44:35, 10.60s/it]\u001b[A\n",
            "face-5_01: loss 63.0224:   1% 8/600 [01:58<1:44:35, 10.60s/it]\u001b[A\n",
            "face-5_01: loss 63.0224:   2% 9/600 [01:58<1:18:57,  8.02s/it]\u001b[A\n",
            "face-5_01: loss 63.0220:   2% 9/600 [02:01<1:18:57,  8.02s/it]\u001b[A\n",
            "face-5_01: loss 63.0220:   2% 10/600 [02:01<1:05:36,  6.67s/it]\u001b[A\n",
            "face-5_01: loss 63.0218:   2% 10/600 [02:03<1:05:36,  6.67s/it]\u001b[A\n",
            "face-5_01: loss 63.0218:   2% 11/600 [02:03<50:02,  5.10s/it]  \u001b[A\n",
            "face-5_01: loss 63.0219:   2% 11/600 [02:05<50:02,  5.10s/it]\u001b[A\n",
            "face-5_01: loss 63.0219:   2% 12/600 [02:05<42:28,  4.33s/it]\u001b[A\n",
            "face-5_01  Loss 63.0163\n",
            " 50% 1/2 [02:11<02:11, 131.53s/it]Saving mask masks/.ipynb_checkpoints_01.png\n",
            "\n",
            "\n",
            "  0% 0/600 [00:00<?, ?it/s]\u001b[A\u001b[A\n",
            "\n",
            ".ipynb_checkpoints_01: loss 63.6165:   0% 0/600 [01:22<?, ?it/s]\u001b[A\u001b[A\n",
            "\n",
            ".ipynb_checkpoints_01: loss 63.6165:   0% 1/600 [01:22<13:42:17, 82.37s/it]\u001b[A\u001b[A\n",
            "\n",
            ".ipynb_checkpoints_01: loss 63.6166:   0% 1/600 [01:23<13:42:17, 82.37s/it]\u001b[A\u001b[A\n",
            "\n",
            ".ipynb_checkpoints_01: loss 63.6166:   0% 2/600 [01:23<9:38:56, 58.09s/it] \u001b[A\u001b[A\n",
            "\n",
            ".ipynb_checkpoints_01: loss 63.6164:   0% 2/600 [01:25<9:38:56, 58.09s/it]\u001b[A\u001b[A\n",
            "\n",
            ".ipynb_checkpoints_01: loss 63.6164:   0% 3/600 [01:25<6:48:52, 41.09s/it]\u001b[A\u001b[A\n",
            "\n",
            ".ipynb_checkpoints_01: loss 63.6163:   0% 3/600 [01:26<6:48:52, 41.09s/it]\u001b[A\u001b[A\n",
            "\n",
            ".ipynb_checkpoints_01: loss 63.6163:   1% 4/600 [01:26<4:50:03, 29.20s/it]\u001b[A\u001b[A\n",
            "\n",
            ".ipynb_checkpoints_01: loss 63.6166:   1% 4/600 [01:28<4:50:03, 29.20s/it]\u001b[A\u001b[A\n",
            "\n",
            ".ipynb_checkpoints_01: loss 63.6166:   1% 5/600 [01:28<3:27:00, 20.87s/it]\u001b[A\u001b[A\n",
            "\n",
            ".ipynb_checkpoints_01: loss 63.6168:   1% 5/600 [01:29<3:27:00, 20.87s/it]\u001b[A\u001b[A\n",
            "\n",
            ".ipynb_checkpoints_01: loss 63.6168:   1% 6/600 [01:29<2:29:20, 15.09s/it]\u001b[A\u001b[A\n",
            "\n",
            ".ipynb_checkpoints_01: loss 63.6167:   1% 6/600 [01:33<2:29:20, 15.09s/it]\u001b[A\u001b[A\n",
            "\n",
            ".ipynb_checkpoints_01: loss 63.6167:   1% 7/600 [01:33<1:55:47, 11.72s/it]\u001b[A\u001b[A\n",
            "\n",
            ".ipynb_checkpoints_01: loss 63.6165:   1% 7/600 [01:34<1:55:47, 11.72s/it]\u001b[A\u001b[A\n",
            "\n",
            ".ipynb_checkpoints_01: loss 63.6165:   1% 8/600 [01:34<1:24:45,  8.59s/it]\u001b[A\u001b[A\n",
            "\n",
            ".ipynb_checkpoints_01: loss 63.6162:   1% 8/600 [01:37<1:24:45,  8.59s/it]\u001b[A\u001b[A\n",
            "\n",
            ".ipynb_checkpoints_01: loss 63.6162:   2% 9/600 [01:38<1:08:32,  6.96s/it]\u001b[A\u001b[A\n",
            "\n",
            ".ipynb_checkpoints_01: loss 63.6168:   2% 9/600 [01:39<1:08:32,  6.96s/it]\u001b[A\u001b[A\n",
            "\n",
            ".ipynb_checkpoints_01: loss 63.6168:   2% 10/600 [01:39<52:59,  5.39s/it] \u001b[A\u001b[A\n",
            "\n",
            ".ipynb_checkpoints_01: loss 63.6172:   2% 10/600 [01:42<52:59,  5.39s/it]\u001b[A\u001b[A\n",
            "\n",
            ".ipynb_checkpoints_01: loss 63.6172:   2% 11/600 [01:42<44:38,  4.55s/it]\u001b[A\u001b[A\n",
            "\n",
            ".ipynb_checkpoints_01: loss 63.6170:   2% 11/600 [01:43<44:38,  4.55s/it]\u001b[A\u001b[A\n",
            "\n",
            ".ipynb_checkpoints_01: loss 63.6170:   2% 12/600 [01:43<35:28,  3.62s/it]\u001b[A\u001b[A\n",
            ".ipynb_checkpoints_01  Loss 63.6162\n",
            "100% 2/2 [04:00<00:00, 124.64s/it]\n",
            "\n",
            "\u001b[A\u001b[A\n",
            "100% 2/2 [04:00<00:00, 120.04s/it]\n",
            "\n"
          ],
          "name": "stdout"
        }
      ]
    },
    {
      "cell_type": "markdown",
      "metadata": {
        "id": "OpjNFmFGaKTc"
      },
      "source": [
        "# **AGE PROGRESSION**"
      ]
    },
    {
      "cell_type": "markdown",
      "metadata": {
        "id": "kqkwGLD5PdBO"
      },
      "source": [
        "We carry out the aging process on the result:\n",
        "\n",
        "\n",
        "*   ***--start_distance*** indicates how far to move in the young direction\n",
        "*   ***--end_distance*** indicates how far to move in the senior direction\n",
        "\n",
        "\n",
        "*   ***--steps*** indicates how many images of the transformation to generate\n",
        "\n",
        "\n",
        "\n",
        "\n",
        "\n"
      ]
    },
    {
      "cell_type": "markdown",
      "metadata": {
        "id": "-5oZq76qCsFv"
      },
      "source": [
        "**remove output_vectors.npy because is from an old run, will update the .zip in the future**\n"
      ]
    },
    {
      "cell_type": "code",
      "metadata": {
        "colab": {
          "base_uri": "https://localhost:8080/"
        },
        "id": "6WbhqR7rCkMd",
        "outputId": "6285deb3-60d2-4354-f958-30a508d8cf30"
      },
      "source": [
        "!rm /content/StyleGAN/stylegan-encoder/output/latent/output_vectors.npy"
      ],
      "execution_count": 47,
      "outputs": [
        {
          "output_type": "stream",
          "text": [
            "rm: cannot remove '/content/StyleGAN/stylegan-encoder/output/latent/output_vectors.npy': No such file or directory\n"
          ],
          "name": "stdout"
        }
      ]
    },
    {
      "cell_type": "code",
      "metadata": {
        "id": "ZR2XCCdmclDE"
      },
      "source": [
        "out_latent='/content/StyleGAN/stylegan-encoder/output/latent/*'"
      ],
      "execution_count": 62,
      "outputs": []
    },
    {
      "cell_type": "code",
      "metadata": {
        "id": "7whNNIJGh7Bn"
      },
      "source": [
        "n+=1\n",
        "my_result='/content/StyleGAN/InterFaceGAN/my_result_%02d' %(n)\n"
      ],
      "execution_count": 63,
      "outputs": []
    },
    {
      "cell_type": "code",
      "metadata": {
        "id": "kKqBjdOsw3Dg",
        "colab": {
          "base_uri": "https://localhost:8080/"
        },
        "outputId": "e1b22d5f-f9ec-451a-9167-d4385c6da1b4"
      },
      "source": [
        "\n",
        "latent_direction = 'age'\n",
        "!python /content/StyleGAN/InterFaceGAN/edit.py \\\n",
        "    -m stylegan_ffhq \\\n",
        "    -b /content/StyleGAN/InterFaceGAN/boundaries/stylegan_ffhq_age_w_boundary.npy \\\n",
        "    -s Wp \\\n",
        "    -i $out_latent \\\n",
        "    -o $my_result \\\n",
        "    --start_distance -4.0 \\\n",
        "    --end_distance 4.0 \\\n",
        "    --steps=36"
      ],
      "execution_count": 64,
      "outputs": [
        {
          "output_type": "stream",
          "text": [
            "[2021-01-11 01:46:00,025][INFO] Initializing generator.\n",
            "[2021-01-11 01:46:00,240][INFO] Loading pytorch model from `StyleGAN/InterFaceGAN/models/pretrain/stylegan_ffhq.pth`.\n",
            "[2021-01-11 01:46:00,507][INFO] Successfully loaded!\n",
            "[2021-01-11 01:46:03,427][INFO] Preparing boundary.\n",
            "[2021-01-11 01:46:03,433][INFO] Preparing latent codes.\n",
            "[2021-01-11 01:46:03,433][INFO]   Load latent codes from `/content/StyleGAN/stylegan-encoder/output/latent/face-5_01.npy`.\n",
            "[2021-01-11 01:46:03,434][INFO] Editing 1 samples.\n",
            "[2021-01-11 01:46:08,743][INFO] Successfully edited 1 samples.\n"
          ],
          "name": "stdout"
        }
      ]
    },
    {
      "cell_type": "markdown",
      "metadata": {
        "id": "YbklMLQQj07l"
      },
      "source": [
        "# The result is in:"
      ]
    },
    {
      "cell_type": "code",
      "metadata": {
        "id": "94f38QhKj39X",
        "colab": {
          "base_uri": "https://localhost:8080/"
        },
        "outputId": "9b300c0a-b525-4a74-8008-af2817932edb"
      },
      "source": [
        "!echo $my_result"
      ],
      "execution_count": 65,
      "outputs": [
        {
          "output_type": "stream",
          "text": [
            "/content/StyleGAN/InterFaceGAN/my_result_07\n"
          ],
          "name": "stdout"
        }
      ]
    },
    {
      "cell_type": "markdown",
      "metadata": {
        "id": "6nhW_p4uQcSk"
      },
      "source": [
        " We create  an MP4 video of the transformation."
      ]
    },
    {
      "cell_type": "code",
      "metadata": {
        "id": "FYAw-JdsL3wc"
      },
      "source": [
        "image_folder = my_result\n",
        "video_fps = 12."
      ],
      "execution_count": 66,
      "outputs": []
    },
    {
      "cell_type": "markdown",
      "metadata": {
        "id": "S5CqDXTORipb"
      },
      "source": [
        "You can find the video in ***StyleGAN/InterFaceGAN/output_videos/***"
      ]
    },
    {
      "cell_type": "code",
      "metadata": {
        "id": "9yLUPiYSLvcO",
        "colab": {
          "base_uri": "https://localhost:8080/"
        },
        "outputId": "8e8ef31d-3d23-4658-f40e-54345f35a989"
      },
      "source": [
        "from moviepy.editor import *\n",
        "import cv2\n",
        "\n",
        "out_path = '/content/StyleGAN/InterFaceGAN/output_videos/'\n",
        "\n",
        "images = [img_path for img_path in sorted(os.listdir(image_folder)) if '.jpg' in img_path]\n",
        "os.makedirs(out_path, exist_ok=True)\n",
        "\n",
        "prev_id = None\n",
        "img_sets = []\n",
        "for img_path in images:\n",
        "  img_id = img_path.split('_')[0]\n",
        "  if img_id == prev_id: #append\n",
        "    img_sets[-1].append(img_path)\n",
        "    \n",
        "  else: #start a new img set\n",
        "    img_sets.append([])\n",
        "    img_sets[-1].append(img_path)\n",
        "  prev_id = img_id\n",
        "\n",
        "print(\"Found %d image sets!\\n\" %len(img_sets))\n",
        "if image_folder[-1] != '/':\n",
        "  image_folder += '/'\n",
        "\n",
        "def make_video(images, vid_name):\n",
        "    fourcc = cv2.VideoWriter_fourcc(*'mp4v')\n",
        "    video = cv2.VideoWriter(vid_name, fourcc, video_fps, (1024, 1024))\n",
        "    gen = {}\n",
        "    for img in images:\n",
        "      video.write(img)\n",
        "    video.release()\n",
        "    print('finished '+ vid_name)\n",
        "    \n",
        "    \n",
        "for i in range(len(img_sets)):\n",
        "  print(\"############################\")\n",
        "  print(\"\\nGenerating video %d...\" %i)\n",
        "  set_images = []\n",
        "  vid_name = out_path + 'out_video_%s_%02d.mp4' %(latent_direction,i)\n",
        "  for img_path in img_sets[i]:\n",
        "    set_images.append(cv2.imread(image_folder + img_path))\n",
        "\n",
        "  set_images.extend(reversed(set_images))\n",
        "  make_video(set_images, vid_name)"
      ],
      "execution_count": 67,
      "outputs": [
        {
          "output_type": "stream",
          "text": [
            "Found 1 image sets!\n",
            "\n",
            "############################\n",
            "\n",
            "Generating video 0...\n",
            "finished /content/StyleGAN/InterFaceGAN/output_videos/out_video_age_00.mp4\n"
          ],
          "name": "stdout"
        }
      ]
    },
    {
      "cell_type": "markdown",
      "metadata": {
        "id": "c3mRpYtZYUwJ"
      },
      "source": [
        "Download and save images locally. The following cell creates an archive named **my_result.tar** in the root folder with all the frames and the generated video"
      ]
    },
    {
      "cell_type": "code",
      "metadata": {
        "id": "ToJERqB4lgu9",
        "colab": {
          "base_uri": "https://localhost:8080/"
        },
        "outputId": "ec7f5fc0-ba33-4c8b-b232-2b4044bb4e15"
      },
      "source": [
        "!tar cvf my_result.tar $my_result $vid_name"
      ],
      "execution_count": null,
      "outputs": [
        {
          "output_type": "stream",
          "text": [
            "tar: Removing leading `/' from member names\n",
            "/content/StyleGAN/InterFaceGAN/my_result_03/\n",
            "/content/StyleGAN/InterFaceGAN/my_result_03/000_035.jpg\n",
            "/content/StyleGAN/InterFaceGAN/my_result_03/000_028.jpg\n",
            "/content/StyleGAN/InterFaceGAN/my_result_03/000_020.jpg\n",
            "/content/StyleGAN/InterFaceGAN/my_result_03/000_025.jpg\n",
            "/content/StyleGAN/InterFaceGAN/my_result_03/log.txt\n",
            "/content/StyleGAN/InterFaceGAN/my_result_03/000_016.jpg\n",
            "/content/StyleGAN/InterFaceGAN/my_result_03/000_015.jpg\n",
            "/content/StyleGAN/InterFaceGAN/my_result_03/000_007.jpg\n",
            "/content/StyleGAN/InterFaceGAN/my_result_03/000_000.jpg\n",
            "/content/StyleGAN/InterFaceGAN/my_result_03/000_032.jpg\n",
            "/content/StyleGAN/InterFaceGAN/my_result_03/000_024.jpg\n",
            "/content/StyleGAN/InterFaceGAN/my_result_03/000_012.jpg\n",
            "/content/StyleGAN/InterFaceGAN/my_result_03/000_031.jpg\n",
            "/content/StyleGAN/InterFaceGAN/my_result_03/000_011.jpg\n",
            "/content/StyleGAN/InterFaceGAN/my_result_03/000_019.jpg\n",
            "/content/StyleGAN/InterFaceGAN/my_result_03/000_005.jpg\n",
            "/content/StyleGAN/InterFaceGAN/my_result_03/000_029.jpg\n",
            "/content/StyleGAN/InterFaceGAN/my_result_03/000_026.jpg\n",
            "/content/StyleGAN/InterFaceGAN/my_result_03/000_018.jpg\n",
            "/content/StyleGAN/InterFaceGAN/my_result_03/boundary.npy\n",
            "/content/StyleGAN/InterFaceGAN/my_result_03/latent_codes.npy\n",
            "/content/StyleGAN/InterFaceGAN/my_result_03/000_021.jpg\n",
            "/content/StyleGAN/InterFaceGAN/my_result_03/000_034.jpg\n",
            "/content/StyleGAN/InterFaceGAN/my_result_03/000_030.jpg\n",
            "/content/StyleGAN/InterFaceGAN/my_result_03/000_008.jpg\n",
            "/content/StyleGAN/InterFaceGAN/my_result_03/000_006.jpg\n",
            "/content/StyleGAN/InterFaceGAN/my_result_03/000_033.jpg\n",
            "/content/StyleGAN/InterFaceGAN/my_result_03/000_022.jpg\n",
            "/content/StyleGAN/InterFaceGAN/my_result_03/000_010.jpg\n",
            "/content/StyleGAN/InterFaceGAN/my_result_03/000_003.jpg\n",
            "/content/StyleGAN/InterFaceGAN/my_result_03/000_017.jpg\n",
            "/content/StyleGAN/InterFaceGAN/my_result_03/000_001.jpg\n",
            "/content/StyleGAN/InterFaceGAN/my_result_03/000_004.jpg\n",
            "/content/StyleGAN/InterFaceGAN/my_result_03/000_023.jpg\n",
            "/content/StyleGAN/InterFaceGAN/my_result_03/000_014.jpg\n",
            "/content/StyleGAN/InterFaceGAN/my_result_03/000_002.jpg\n",
            "/content/StyleGAN/InterFaceGAN/my_result_03/000_027.jpg\n",
            "/content/StyleGAN/InterFaceGAN/my_result_03/000_013.jpg\n",
            "/content/StyleGAN/InterFaceGAN/my_result_03/000_009.jpg\n",
            "/content/StyleGAN/InterFaceGAN/output_videos/out_video_age_00.mp4\n"
          ],
          "name": "stdout"
        }
      ]
    },
    {
      "cell_type": "markdown",
      "metadata": {
        "id": "hMxfYMHdnDHs"
      },
      "source": [
        "To proceed with the aging of a new image use the next cell to delete the image just used then load the new image in **/content/StyleGAN/stylegan-encoder/input** and restart from the alignment"
      ]
    },
    {
      "cell_type": "code",
      "metadata": {
        "id": "nSZpmFIcnZhF"
      },
      "source": [
        "!rm -r /content/StyleGAN/stylegan-encoder/input/*\n",
        "!rm -r /content/StyleGAN/stylegan-encoder/output/latent/*\n",
        "!rm -r /content/StyleGAN/stylegan-encoder/output/aligned/*\n",
        "!rm -r /content/StyleGAN/stylegan-encoder/output/generated/*"
      ],
      "execution_count": 68,
      "outputs": []
    }
  ]
}