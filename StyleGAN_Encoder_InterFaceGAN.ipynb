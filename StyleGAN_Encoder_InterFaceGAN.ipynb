{
  "nbformat": 4,
  "nbformat_minor": 0,
  "metadata": {
    "colab": {
      "name": "StyleGAN_Encoder_InterFaceGAN.ipynb",
      "provenance": [],
      "collapsed_sections": [],
      "toc_visible": true
    },
    "kernelspec": {
      "name": "python3",
      "display_name": "Python 3"
    },
    "accelerator": "GPU"
  },
  "cells": [
    {
      "cell_type": "markdown",
      "metadata": {
        "id": "dmnmX3_BDGYn"
      },
      "source": [
        "# **Soluzione per Age Progression ad alta risoluzione**\n",
        "StyleGAN Encoder + InterFaceGAN\n",
        "\n",
        "\n",
        "\n",
        "\n",
        "---\n",
        "\n"
      ]
    },
    {
      "cell_type": "markdown",
      "metadata": {
        "id": "jsIZ0PuxD-dN"
      },
      "source": [
        "Assicurarsi che il runtime sia supportato da GPU (Runtime->Change runtime type -> Hardware Accelerator GPU)\n",
        "\n",
        "\n",
        "\n"
      ]
    },
    {
      "cell_type": "markdown",
      "metadata": {
        "id": "cvJF6qQNKA5-"
      },
      "source": [
        "Si consiglia di eseguire una cella alla volta e dopo un'operazione che genera un qualche output cliccare in alto a sinistra l'icona della cartella ***Refresh*** per aggiornare la vista"
      ]
    },
    {
      "cell_type": "markdown",
      "metadata": {
        "id": "M5MFEYD7D_32"
      },
      "source": [
        "Installiamo **gdown** per scaricare da Google Drive il pacchetto con StyleGAN Encoder e InterFaceGAN creato appositamente contenente anche i modelli pre-trained "
      ]
    },
    {
      "cell_type": "code",
      "metadata": {
        "id": "pJJfo_W5yeOL",
        "colab": {
          "base_uri": "https://localhost:8080/",
          "height": 176
        },
        "outputId": "f2e7b48e-2538-444f-fe6f-26aac2451abc"
      },
      "source": [
        "!pip install gdown"
      ],
      "execution_count": null,
      "outputs": [
        {
          "output_type": "stream",
          "text": [
            "Requirement already satisfied: gdown in /usr/local/lib/python3.6/dist-packages (3.6.4)\n",
            "Requirement already satisfied: requests in /usr/local/lib/python3.6/dist-packages (from gdown) (2.23.0)\n",
            "Requirement already satisfied: six in /usr/local/lib/python3.6/dist-packages (from gdown) (1.12.0)\n",
            "Requirement already satisfied: tqdm in /usr/local/lib/python3.6/dist-packages (from gdown) (4.41.1)\n",
            "Requirement already satisfied: urllib3!=1.25.0,!=1.25.1,<1.26,>=1.21.1 in /usr/local/lib/python3.6/dist-packages (from requests->gdown) (1.24.3)\n",
            "Requirement already satisfied: certifi>=2017.4.17 in /usr/local/lib/python3.6/dist-packages (from requests->gdown) (2020.6.20)\n",
            "Requirement already satisfied: chardet<4,>=3.0.2 in /usr/local/lib/python3.6/dist-packages (from requests->gdown) (3.0.4)\n",
            "Requirement already satisfied: idna<3,>=2.5 in /usr/local/lib/python3.6/dist-packages (from requests->gdown) (2.10)\n"
          ],
          "name": "stdout"
        }
      ]
    },
    {
      "cell_type": "markdown",
      "metadata": {
        "id": "D7loAwg-Emyg"
      },
      "source": [
        "Scarichiamo il pacchetto dall'account Google Drive di un membro del gruppo (circa 1GB)"
      ]
    },
    {
      "cell_type": "code",
      "metadata": {
        "id": "f8opJo1Tyfrm",
        "colab": {
          "base_uri": "https://localhost:8080/",
          "height": 86
        },
        "outputId": "f010b767-d559-443a-9147-500020b4ed8d"
      },
      "source": [
        "!gdown https://drive.google.com/uc?id=1EHyZAuItAj6rzLnv7dZcmHJUS8C65nS1"
      ],
      "execution_count": null,
      "outputs": [
        {
          "output_type": "stream",
          "text": [
            "Downloading...\n",
            "From: https://drive.google.com/uc?id=1EHyZAuItAj6rzLnv7dZcmHJUS8C65nS1\n",
            "To: /content/StyleGAN.zip\n",
            "1.06GB [00:06, 155MB/s]\n"
          ],
          "name": "stdout"
        }
      ]
    },
    {
      "cell_type": "markdown",
      "metadata": {
        "id": "BqxjnQ0cErYh"
      },
      "source": [
        "Unzippiamo"
      ]
    },
    {
      "cell_type": "code",
      "metadata": {
        "id": "osqM8eB9zgrJ",
        "colab": {
          "base_uri": "https://localhost:8080/",
          "height": 1000
        },
        "outputId": "f5986fca-ea90-45c6-abc4-3cb31f293bb5"
      },
      "source": [
        "!unzip /content/StyleGAN.zip"
      ],
      "execution_count": null,
      "outputs": [
        {
          "output_type": "stream",
          "text": [
            "Archive:  /content/StyleGAN.zip\n",
            "   creating: StyleGAN/\n",
            "   creating: StyleGAN/stylegan-encoder/\n",
            "   creating: StyleGAN/stylegan-encoder/.git/\n",
            "   creating: StyleGAN/stylegan-encoder/.git/branches/\n",
            "   creating: StyleGAN/stylegan-encoder/.git/info/\n",
            "  inflating: StyleGAN/stylegan-encoder/.git/info/exclude  \n",
            "   creating: StyleGAN/stylegan-encoder/.git/hooks/\n",
            "  inflating: StyleGAN/stylegan-encoder/.git/hooks/pre-commit.sample  \n",
            "  inflating: StyleGAN/stylegan-encoder/.git/hooks/prepare-commit-msg.sample  \n",
            "  inflating: StyleGAN/stylegan-encoder/.git/hooks/fsmonitor-watchman.sample  \n",
            "  inflating: StyleGAN/stylegan-encoder/.git/hooks/pre-rebase.sample  \n",
            "  inflating: StyleGAN/stylegan-encoder/.git/hooks/applypatch-msg.sample  \n",
            "  inflating: StyleGAN/stylegan-encoder/.git/hooks/post-update.sample  \n",
            "  inflating: StyleGAN/stylegan-encoder/.git/hooks/pre-push.sample  \n",
            "  inflating: StyleGAN/stylegan-encoder/.git/hooks/pre-receive.sample  \n",
            "  inflating: StyleGAN/stylegan-encoder/.git/hooks/commit-msg.sample  \n",
            "  inflating: StyleGAN/stylegan-encoder/.git/hooks/update.sample  \n",
            "  inflating: StyleGAN/stylegan-encoder/.git/hooks/pre-applypatch.sample  \n",
            "  inflating: StyleGAN/stylegan-encoder/.git/description  \n",
            "   creating: StyleGAN/stylegan-encoder/.git/refs/\n",
            "   creating: StyleGAN/stylegan-encoder/.git/refs/heads/\n",
            "  inflating: StyleGAN/stylegan-encoder/.git/refs/heads/master  \n",
            "   creating: StyleGAN/stylegan-encoder/.git/refs/tags/\n",
            "   creating: StyleGAN/stylegan-encoder/.git/refs/remotes/\n",
            "   creating: StyleGAN/stylegan-encoder/.git/refs/remotes/origin/\n",
            "  inflating: StyleGAN/stylegan-encoder/.git/refs/remotes/origin/HEAD  \n",
            "   creating: StyleGAN/stylegan-encoder/.git/objects/\n",
            "   creating: StyleGAN/stylegan-encoder/.git/objects/pack/\n",
            "  inflating: StyleGAN/stylegan-encoder/.git/objects/pack/pack-79ea4dabdb204160e654c84ed69f03ee3ef29c35.pack  \n",
            "  inflating: StyleGAN/stylegan-encoder/.git/objects/pack/pack-79ea4dabdb204160e654c84ed69f03ee3ef29c35.idx  \n",
            "   creating: StyleGAN/stylegan-encoder/.git/objects/info/\n",
            "  inflating: StyleGAN/stylegan-encoder/.git/HEAD  \n",
            "  inflating: StyleGAN/stylegan-encoder/.git/packed-refs  \n",
            "   creating: StyleGAN/stylegan-encoder/.git/logs/\n",
            "   creating: StyleGAN/stylegan-encoder/.git/logs/refs/\n",
            "   creating: StyleGAN/stylegan-encoder/.git/logs/refs/remotes/\n",
            "   creating: StyleGAN/stylegan-encoder/.git/logs/refs/remotes/origin/\n",
            "  inflating: StyleGAN/stylegan-encoder/.git/logs/refs/remotes/origin/HEAD  \n",
            "   creating: StyleGAN/stylegan-encoder/.git/logs/refs/heads/\n",
            "  inflating: StyleGAN/stylegan-encoder/.git/logs/refs/heads/master  \n",
            "  inflating: StyleGAN/stylegan-encoder/.git/logs/HEAD  \n",
            "  inflating: StyleGAN/stylegan-encoder/.git/config  \n",
            "  inflating: StyleGAN/stylegan-encoder/.git/index  \n",
            "  inflating: StyleGAN/stylegan-encoder/LICENSE.txt  \n",
            "  inflating: StyleGAN/stylegan-encoder/Learn_direction_in_latent_space.ipynb  \n",
            "  inflating: StyleGAN/stylegan-encoder/Play_with_latent_directions.ipynb  \n",
            "  inflating: StyleGAN/stylegan-encoder/README.md  \n",
            "  inflating: StyleGAN/stylegan-encoder/StyleGAN_Encoder_Tutorial.ipynb  \n",
            "  inflating: StyleGAN/stylegan-encoder/adaptive.py  \n",
            "  inflating: StyleGAN/stylegan-encoder/align_images.py  \n",
            "  inflating: StyleGAN/stylegan-encoder/config.py  \n",
            "  inflating: StyleGAN/stylegan-encoder/dataset_tool.py  \n",
            "   creating: StyleGAN/stylegan-encoder/dnnlib/\n",
            "   creating: StyleGAN/stylegan-encoder/dnnlib/submission/\n",
            "  inflating: StyleGAN/stylegan-encoder/dnnlib/submission/__init__.py  \n",
            "   creating: StyleGAN/stylegan-encoder/dnnlib/submission/_internal/\n",
            "  inflating: StyleGAN/stylegan-encoder/dnnlib/submission/_internal/run.py  \n",
            "  inflating: StyleGAN/stylegan-encoder/dnnlib/submission/run_context.py  \n",
            "  inflating: StyleGAN/stylegan-encoder/dnnlib/submission/submit.py  \n",
            "   creating: StyleGAN/stylegan-encoder/dnnlib/submission/__pycache__/\n",
            "  inflating: StyleGAN/stylegan-encoder/dnnlib/submission/__pycache__/__init__.cpython-36.pyc  \n",
            "  inflating: StyleGAN/stylegan-encoder/dnnlib/submission/__pycache__/run_context.cpython-36.pyc  \n",
            "  inflating: StyleGAN/stylegan-encoder/dnnlib/submission/__pycache__/submit.cpython-36.pyc  \n",
            "  inflating: StyleGAN/stylegan-encoder/dnnlib/__init__.py  \n",
            "   creating: StyleGAN/stylegan-encoder/dnnlib/tflib/\n",
            "  inflating: StyleGAN/stylegan-encoder/dnnlib/tflib/__init__.py  \n",
            "  inflating: StyleGAN/stylegan-encoder/dnnlib/tflib/autosummary.py  \n",
            "  inflating: StyleGAN/stylegan-encoder/dnnlib/tflib/network.py  \n",
            "  inflating: StyleGAN/stylegan-encoder/dnnlib/tflib/optimizer.py  \n",
            "  inflating: StyleGAN/stylegan-encoder/dnnlib/tflib/tfutil.py  \n",
            "   creating: StyleGAN/stylegan-encoder/dnnlib/tflib/__pycache__/\n",
            "  inflating: StyleGAN/stylegan-encoder/dnnlib/tflib/__pycache__/__init__.cpython-36.pyc  \n",
            "  inflating: StyleGAN/stylegan-encoder/dnnlib/tflib/__pycache__/autosummary.cpython-36.pyc  \n",
            "  inflating: StyleGAN/stylegan-encoder/dnnlib/tflib/__pycache__/tfutil.cpython-36.pyc  \n",
            "  inflating: StyleGAN/stylegan-encoder/dnnlib/tflib/__pycache__/network.cpython-36.pyc  \n",
            "  inflating: StyleGAN/stylegan-encoder/dnnlib/tflib/__pycache__/optimizer.cpython-36.pyc  \n",
            "  inflating: StyleGAN/stylegan-encoder/dnnlib/util.py  \n",
            "   creating: StyleGAN/stylegan-encoder/dnnlib/__pycache__/\n",
            "  inflating: StyleGAN/stylegan-encoder/dnnlib/__pycache__/__init__.cpython-36.pyc  \n",
            "  inflating: StyleGAN/stylegan-encoder/dnnlib/__pycache__/util.cpython-36.pyc  \n",
            "   creating: StyleGAN/stylegan-encoder/encoder/\n",
            "  inflating: StyleGAN/stylegan-encoder/encoder/__init__.py  \n",
            "  inflating: StyleGAN/stylegan-encoder/encoder/generator_model.py  \n",
            "  inflating: StyleGAN/stylegan-encoder/encoder/perceptual_model.py  \n",
            "   creating: StyleGAN/stylegan-encoder/encoder/__pycache__/\n",
            "  inflating: StyleGAN/stylegan-encoder/encoder/__pycache__/__init__.cpython-36.pyc  \n",
            "  inflating: StyleGAN/stylegan-encoder/encoder/__pycache__/generator_model.cpython-36.pyc  \n",
            "  inflating: StyleGAN/stylegan-encoder/encoder/__pycache__/perceptual_model.cpython-36.pyc  \n",
            "   creating: StyleGAN/stylegan-encoder/ffhq_dataset/\n",
            "  inflating: StyleGAN/stylegan-encoder/ffhq_dataset/__init__.py  \n",
            "  inflating: StyleGAN/stylegan-encoder/ffhq_dataset/face_alignment.py  \n",
            "  inflating: StyleGAN/stylegan-encoder/ffhq_dataset/landmarks_detector.py  \n",
            "   creating: StyleGAN/stylegan-encoder/ffhq_dataset/latent_directions/\n",
            "  inflating: StyleGAN/stylegan-encoder/ffhq_dataset/latent_directions/age.npy  \n",
            "  inflating: StyleGAN/stylegan-encoder/ffhq_dataset/latent_directions/gender.npy  \n",
            "  inflating: StyleGAN/stylegan-encoder/ffhq_dataset/latent_directions/smile.npy  \n",
            "   creating: StyleGAN/stylegan-encoder/ffhq_dataset/latent_representations/\n",
            "  inflating: StyleGAN/stylegan-encoder/ffhq_dataset/latent_representations/donald_trump_01.npy  \n",
            "  inflating: StyleGAN/stylegan-encoder/ffhq_dataset/latent_representations/hillary_clinton_01.npy  \n",
            "   creating: StyleGAN/stylegan-encoder/ffhq_dataset/__pycache__/\n",
            "  inflating: StyleGAN/stylegan-encoder/ffhq_dataset/__pycache__/__init__.cpython-36.pyc  \n",
            "  inflating: StyleGAN/stylegan-encoder/ffhq_dataset/__pycache__/face_alignment.cpython-36.pyc  \n",
            "  inflating: StyleGAN/stylegan-encoder/ffhq_dataset/__pycache__/landmarks_detector.cpython-36.pyc  \n",
            "  inflating: StyleGAN/stylegan-encoder/ffhq_dataset/__pycache__/__init__.cpython-37.pyc  \n",
            "  inflating: StyleGAN/stylegan-encoder/ffhq_dataset/__pycache__/face_alignment.cpython-37.pyc  \n",
            "  inflating: StyleGAN/stylegan-encoder/ffhq_dataset/__pycache__/landmarks_detector.cpython-37.pyc  \n",
            "  inflating: StyleGAN/stylegan-encoder/generate_figures.py  \n",
            "   creating: StyleGAN/stylegan-encoder/metrics/\n",
            "  inflating: StyleGAN/stylegan-encoder/metrics/__init__.py  \n",
            "  inflating: StyleGAN/stylegan-encoder/metrics/frechet_inception_distance.py  \n",
            "  inflating: StyleGAN/stylegan-encoder/metrics/linear_separability.py  \n",
            "  inflating: StyleGAN/stylegan-encoder/metrics/metric_base.py  \n",
            "  inflating: StyleGAN/stylegan-encoder/metrics/perceptual_path_length.py  \n",
            "  inflating: StyleGAN/stylegan-encoder/mona_example.jpg  \n",
            "  inflating: StyleGAN/stylegan-encoder/pretrained_example.py  \n",
            "  inflating: StyleGAN/stylegan-encoder/requirements.txt  \n",
            "   creating: StyleGAN/stylegan-encoder/robust_loss/\n",
            "  inflating: StyleGAN/stylegan-encoder/robust_loss/README.md  \n",
            "  inflating: StyleGAN/stylegan-encoder/robust_loss/cubic_spline.py  \n",
            "   creating: StyleGAN/stylegan-encoder/robust_loss/data/\n",
            "  inflating: StyleGAN/stylegan-encoder/robust_loss/data/partition_spline.npz  \n",
            "  inflating: StyleGAN/stylegan-encoder/robust_loss/distribution.py  \n",
            "  inflating: StyleGAN/stylegan-encoder/robust_loss/general.py  \n",
            "  inflating: StyleGAN/stylegan-encoder/robust_loss/requirements.txt  \n",
            "  inflating: StyleGAN/stylegan-encoder/robust_loss/run.sh  \n",
            "  inflating: StyleGAN/stylegan-encoder/robust_loss/util.py  \n",
            "  inflating: StyleGAN/stylegan-encoder/robust_loss/wavelet.py  \n",
            "  inflating: StyleGAN/stylegan-encoder/run_metrics.py  \n",
            "  inflating: StyleGAN/stylegan-encoder/swa.py  \n",
            "  inflating: StyleGAN/stylegan-encoder/teaser.png  \n",
            "  inflating: StyleGAN/stylegan-encoder/train.py  \n",
            "  inflating: StyleGAN/stylegan-encoder/train_effnet.py  \n",
            "  inflating: StyleGAN/stylegan-encoder/train_resnet.py  \n",
            "   creating: StyleGAN/stylegan-encoder/training/\n",
            "  inflating: StyleGAN/stylegan-encoder/training/__init__.py  \n",
            "  inflating: StyleGAN/stylegan-encoder/training/dataset.py  \n",
            "  inflating: StyleGAN/stylegan-encoder/training/loss.py  \n",
            "  inflating: StyleGAN/stylegan-encoder/training/misc.py  \n",
            "  inflating: StyleGAN/stylegan-encoder/training/networks_progan.py  \n",
            "  inflating: StyleGAN/stylegan-encoder/training/networks_stylegan.py  \n",
            "  inflating: StyleGAN/stylegan-encoder/training/training_loop.py  \n",
            "   creating: StyleGAN/stylegan-encoder/input/\n",
            "  inflating: StyleGAN/stylegan-encoder/input/Dicaprio.jpg  \n",
            "   creating: StyleGAN/stylegan-encoder/output/\n",
            "   creating: StyleGAN/stylegan-encoder/output/aligned/\n",
            "  inflating: StyleGAN/stylegan-encoder/output/aligned/Dicaprio_01.png  \n",
            "   creating: StyleGAN/stylegan-encoder/output/generated/\n",
            "  inflating: StyleGAN/stylegan-encoder/output/generated/Dicaprio_01.png  \n",
            "   creating: StyleGAN/stylegan-encoder/output/latent/\n",
            "  inflating: StyleGAN/stylegan-encoder/output/latent/Dicaprio_01.npy  \n",
            "  inflating: StyleGAN/stylegan-encoder/output/latent/output_vectors.npy  \n",
            "   creating: StyleGAN/stylegan-encoder/stylegan-weights/\n",
            "  inflating: StyleGAN/stylegan-encoder/stylegan-weights/karras2019stylegan-ffhq-1024x1024.pkl  \n",
            "   creating: StyleGAN/stylegan-encoder/__pycache__/\n",
            "  inflating: StyleGAN/stylegan-encoder/__pycache__/config.cpython-36.pyc  \n",
            "   creating: StyleGAN/stylegan-encoder/data/\n",
            "   creating: StyleGAN/stylegan-encoder/masks/\n",
            "   creating: StyleGAN/stylegan-encoder/cache/\n",
            "  inflating: StyleGAN/stylegan-encoder/cache/263e666dc20e26dcbfa514733c1d1f81_karras2019stylegan-ffhq-1024x1024.pkl  \n",
            "  inflating: StyleGAN/stylegan-encoder/run.sh  \n",
            "  inflating: StyleGAN/stylegan-encoder/styleganNPY.py  \n",
            "  inflating: StyleGAN/stylegan-encoder/encode_images.py  \n",
            "   creating: StyleGAN/InterFaceGAN/\n",
            "   creating: StyleGAN/InterFaceGAN/.git/\n",
            "   creating: StyleGAN/InterFaceGAN/.git/branches/\n",
            "   creating: StyleGAN/InterFaceGAN/.git/info/\n",
            "  inflating: StyleGAN/InterFaceGAN/.git/info/exclude  \n",
            "   creating: StyleGAN/InterFaceGAN/.git/hooks/\n",
            "  inflating: StyleGAN/InterFaceGAN/.git/hooks/pre-commit.sample  \n",
            "  inflating: StyleGAN/InterFaceGAN/.git/hooks/prepare-commit-msg.sample  \n",
            "  inflating: StyleGAN/InterFaceGAN/.git/hooks/fsmonitor-watchman.sample  \n",
            "  inflating: StyleGAN/InterFaceGAN/.git/hooks/pre-rebase.sample  \n",
            "  inflating: StyleGAN/InterFaceGAN/.git/hooks/applypatch-msg.sample  \n",
            "  inflating: StyleGAN/InterFaceGAN/.git/hooks/post-update.sample  \n",
            "  inflating: StyleGAN/InterFaceGAN/.git/hooks/pre-push.sample  \n",
            "  inflating: StyleGAN/InterFaceGAN/.git/hooks/pre-receive.sample  \n",
            "  inflating: StyleGAN/InterFaceGAN/.git/hooks/commit-msg.sample  \n",
            "  inflating: StyleGAN/InterFaceGAN/.git/hooks/update.sample  \n",
            "  inflating: StyleGAN/InterFaceGAN/.git/hooks/pre-applypatch.sample  \n",
            "  inflating: StyleGAN/InterFaceGAN/.git/description  \n",
            "   creating: StyleGAN/InterFaceGAN/.git/refs/\n",
            "   creating: StyleGAN/InterFaceGAN/.git/refs/heads/\n",
            "  inflating: StyleGAN/InterFaceGAN/.git/refs/heads/master  \n",
            "   creating: StyleGAN/InterFaceGAN/.git/refs/tags/\n",
            "   creating: StyleGAN/InterFaceGAN/.git/refs/remotes/\n",
            "   creating: StyleGAN/InterFaceGAN/.git/refs/remotes/origin/\n",
            "  inflating: StyleGAN/InterFaceGAN/.git/refs/remotes/origin/HEAD  \n",
            "  inflating: StyleGAN/InterFaceGAN/.git/index  \n",
            "   creating: StyleGAN/InterFaceGAN/.git/objects/\n",
            "   creating: StyleGAN/InterFaceGAN/.git/objects/pack/\n",
            "  inflating: StyleGAN/InterFaceGAN/.git/objects/pack/pack-f947293759036a19a75e651544d687e0f63cb86d.pack  \n",
            "  inflating: StyleGAN/InterFaceGAN/.git/objects/pack/pack-f947293759036a19a75e651544d687e0f63cb86d.idx  \n",
            "   creating: StyleGAN/InterFaceGAN/.git/objects/info/\n",
            "  inflating: StyleGAN/InterFaceGAN/.git/packed-refs  \n",
            "   creating: StyleGAN/InterFaceGAN/.git/logs/\n",
            "   creating: StyleGAN/InterFaceGAN/.git/logs/refs/\n",
            "   creating: StyleGAN/InterFaceGAN/.git/logs/refs/remotes/\n",
            "   creating: StyleGAN/InterFaceGAN/.git/logs/refs/remotes/origin/\n",
            "  inflating: StyleGAN/InterFaceGAN/.git/logs/refs/remotes/origin/HEAD  \n",
            "   creating: StyleGAN/InterFaceGAN/.git/logs/refs/heads/\n",
            "  inflating: StyleGAN/InterFaceGAN/.git/logs/refs/heads/master  \n",
            "  inflating: StyleGAN/InterFaceGAN/.git/logs/HEAD  \n",
            "  inflating: StyleGAN/InterFaceGAN/.git/HEAD  \n",
            "  inflating: StyleGAN/InterFaceGAN/.git/config  \n",
            "  inflating: StyleGAN/InterFaceGAN/.gitignore  \n",
            "  inflating: StyleGAN/InterFaceGAN/LICENSE  \n",
            "  inflating: StyleGAN/InterFaceGAN/README.md  \n",
            "   creating: StyleGAN/InterFaceGAN/boundaries/\n",
            "  inflating: StyleGAN/InterFaceGAN/boundaries/pggan_celebahq_age_boundary.npy  \n",
            "  inflating: StyleGAN/InterFaceGAN/boundaries/pggan_celebahq_age_c_eyeglasses_boundary.npy  \n",
            "  inflating: StyleGAN/InterFaceGAN/boundaries/pggan_celebahq_age_c_gender_boundary.npy  \n",
            "  inflating: StyleGAN/InterFaceGAN/boundaries/pggan_celebahq_age_c_gender_eyeglasses_boundary.npy  \n",
            "  inflating: StyleGAN/InterFaceGAN/boundaries/pggan_celebahq_eyeglasses_boundary.npy  \n",
            "  inflating: StyleGAN/InterFaceGAN/boundaries/pggan_celebahq_eyeglasses_c_age_boundary.npy  \n",
            "  inflating: StyleGAN/InterFaceGAN/boundaries/pggan_celebahq_eyeglasses_c_age_gender_boundary.npy  \n",
            "  inflating: StyleGAN/InterFaceGAN/boundaries/pggan_celebahq_eyeglasses_c_gender_boundary.npy  \n",
            "  inflating: StyleGAN/InterFaceGAN/boundaries/pggan_celebahq_gender_boundary.npy  \n",
            "  inflating: StyleGAN/InterFaceGAN/boundaries/pggan_celebahq_gender_c_age_boundary.npy  \n",
            "  inflating: StyleGAN/InterFaceGAN/boundaries/pggan_celebahq_gender_c_age_eyeglasses_boundary.npy  \n",
            "  inflating: StyleGAN/InterFaceGAN/boundaries/pggan_celebahq_gender_c_eyeglasses_boundary.npy  \n",
            "  inflating: StyleGAN/InterFaceGAN/boundaries/pggan_celebahq_pose_boundary.npy  \n",
            "  inflating: StyleGAN/InterFaceGAN/boundaries/pggan_celebahq_quality_boundary.npy  \n",
            "  inflating: StyleGAN/InterFaceGAN/boundaries/pggan_celebahq_smile_boundary.npy  \n",
            "  inflating: StyleGAN/InterFaceGAN/boundaries/stylegan_celebahq_age_boundary.npy  \n",
            "  inflating: StyleGAN/InterFaceGAN/boundaries/stylegan_celebahq_age_w_boundary.npy  \n",
            "  inflating: StyleGAN/InterFaceGAN/boundaries/stylegan_celebahq_eyeglasses_boundary.npy  \n",
            "  inflating: StyleGAN/InterFaceGAN/boundaries/stylegan_celebahq_eyeglasses_w_boundary.npy  \n",
            "  inflating: StyleGAN/InterFaceGAN/boundaries/stylegan_celebahq_gender_boundary.npy  \n",
            "  inflating: StyleGAN/InterFaceGAN/boundaries/stylegan_celebahq_gender_w_boundary.npy  \n",
            "  inflating: StyleGAN/InterFaceGAN/boundaries/stylegan_celebahq_pose_boundary.npy  \n",
            "  inflating: StyleGAN/InterFaceGAN/boundaries/stylegan_celebahq_pose_w_boundary.npy  \n",
            "  inflating: StyleGAN/InterFaceGAN/boundaries/stylegan_celebahq_smile_boundary.npy  \n",
            "  inflating: StyleGAN/InterFaceGAN/boundaries/stylegan_celebahq_smile_w_boundary.npy  \n",
            "  inflating: StyleGAN/InterFaceGAN/boundaries/stylegan_ffhq_age_boundary.npy  \n",
            "  inflating: StyleGAN/InterFaceGAN/boundaries/stylegan_ffhq_age_c_eyeglasses_boundary.npy  \n",
            "  inflating: StyleGAN/InterFaceGAN/boundaries/stylegan_ffhq_age_c_gender_boundary.npy  \n",
            "  inflating: StyleGAN/InterFaceGAN/boundaries/stylegan_ffhq_age_w_boundary.npy  \n",
            "  inflating: StyleGAN/InterFaceGAN/boundaries/stylegan_ffhq_eyeglasses_boundary.npy  \n",
            "  inflating: StyleGAN/InterFaceGAN/boundaries/stylegan_ffhq_eyeglasses_c_age_boundary.npy  \n",
            "  inflating: StyleGAN/InterFaceGAN/boundaries/stylegan_ffhq_eyeglasses_c_gender_boundary.npy  \n",
            "  inflating: StyleGAN/InterFaceGAN/boundaries/stylegan_ffhq_eyeglasses_w_boundary.npy  \n",
            "  inflating: StyleGAN/InterFaceGAN/boundaries/stylegan_ffhq_gender_boundary.npy  \n",
            "  inflating: StyleGAN/InterFaceGAN/boundaries/stylegan_ffhq_gender_w_boundary.npy  \n",
            "  inflating: StyleGAN/InterFaceGAN/boundaries/stylegan_ffhq_pose_boundary.npy  \n",
            "  inflating: StyleGAN/InterFaceGAN/boundaries/stylegan_ffhq_pose_w_boundary.npy  \n",
            "  inflating: StyleGAN/InterFaceGAN/boundaries/stylegan_ffhq_smile_boundary.npy  \n",
            "  inflating: StyleGAN/InterFaceGAN/boundaries/stylegan_ffhq_smile_w_boundary.npy  \n",
            "  inflating: StyleGAN/InterFaceGAN/edit.py  \n",
            "  inflating: StyleGAN/InterFaceGAN/generate_data.py  \n",
            "   creating: StyleGAN/InterFaceGAN/models/\n",
            "  inflating: StyleGAN/InterFaceGAN/models/__init__.py  \n",
            "  inflating: StyleGAN/InterFaceGAN/models/base_generator.py  \n",
            "  inflating: StyleGAN/InterFaceGAN/models/model_settings.py  \n",
            "  inflating: StyleGAN/InterFaceGAN/models/pggan_generator.py  \n",
            "  inflating: StyleGAN/InterFaceGAN/models/pggan_generator_model.py  \n",
            "   creating: StyleGAN/InterFaceGAN/models/pggan_tf_official/\n",
            "  inflating: StyleGAN/InterFaceGAN/models/pggan_tf_official/LICENSE.txt  \n",
            "  inflating: StyleGAN/InterFaceGAN/models/pggan_tf_official/README.md  \n",
            "  inflating: StyleGAN/InterFaceGAN/models/pggan_tf_official/config.py  \n",
            "  inflating: StyleGAN/InterFaceGAN/models/pggan_tf_official/dataset.py  \n",
            "  inflating: StyleGAN/InterFaceGAN/models/pggan_tf_official/dataset_tool.py  \n",
            "  inflating: StyleGAN/InterFaceGAN/models/pggan_tf_official/legacy.py  \n",
            "  inflating: StyleGAN/InterFaceGAN/models/pggan_tf_official/loss.py  \n",
            "   creating: StyleGAN/InterFaceGAN/models/pggan_tf_official/metrics/\n",
            "  inflating: StyleGAN/InterFaceGAN/models/pggan_tf_official/metrics/__init__.py  \n",
            "  inflating: StyleGAN/InterFaceGAN/models/pggan_tf_official/metrics/frechet_inception_distance.py  \n",
            "  inflating: StyleGAN/InterFaceGAN/models/pggan_tf_official/metrics/inception_score.py  \n",
            "  inflating: StyleGAN/InterFaceGAN/models/pggan_tf_official/metrics/ms_ssim.py  \n",
            "  inflating: StyleGAN/InterFaceGAN/models/pggan_tf_official/metrics/sliced_wasserstein.py  \n",
            "  inflating: StyleGAN/InterFaceGAN/models/pggan_tf_official/misc.py  \n",
            "  inflating: StyleGAN/InterFaceGAN/models/pggan_tf_official/networks.py  \n",
            "  inflating: StyleGAN/InterFaceGAN/models/pggan_tf_official/requirements-pip.txt  \n",
            "  inflating: StyleGAN/InterFaceGAN/models/pggan_tf_official/tfutil.py  \n",
            "  inflating: StyleGAN/InterFaceGAN/models/pggan_tf_official/train.py  \n",
            "  inflating: StyleGAN/InterFaceGAN/models/pggan_tf_official/util_scripts.py  \n",
            "   creating: StyleGAN/InterFaceGAN/models/pretrain/\n",
            "  inflating: StyleGAN/InterFaceGAN/models/pretrain/Pretrained_Models_Should_Be_Placed_Here  \n",
            "  inflating: StyleGAN/InterFaceGAN/models/pretrain/karras2019stylegan-ffhq-1024x1024.pkl  \n",
            "  inflating: StyleGAN/InterFaceGAN/models/pretrain/stylegan_ffhq.pth  \n",
            "  inflating: StyleGAN/InterFaceGAN/models/stylegan_generator.py  \n",
            "  inflating: StyleGAN/InterFaceGAN/models/stylegan_generator_model.py  \n",
            "   creating: StyleGAN/InterFaceGAN/models/stylegan_tf_official/\n",
            "  inflating: StyleGAN/InterFaceGAN/models/stylegan_tf_official/LICENSE.txt  \n",
            "  inflating: StyleGAN/InterFaceGAN/models/stylegan_tf_official/README.md  \n",
            "  inflating: StyleGAN/InterFaceGAN/models/stylegan_tf_official/config.py  \n",
            "  inflating: StyleGAN/InterFaceGAN/models/stylegan_tf_official/dataset_tool.py  \n",
            "   creating: StyleGAN/InterFaceGAN/models/stylegan_tf_official/dnnlib/\n",
            "  inflating: StyleGAN/InterFaceGAN/models/stylegan_tf_official/dnnlib/__init__.py  \n",
            "   creating: StyleGAN/InterFaceGAN/models/stylegan_tf_official/dnnlib/submission/\n",
            "  inflating: StyleGAN/InterFaceGAN/models/stylegan_tf_official/dnnlib/submission/__init__.py  \n",
            "   creating: StyleGAN/InterFaceGAN/models/stylegan_tf_official/dnnlib/submission/_internal/\n",
            "  inflating: StyleGAN/InterFaceGAN/models/stylegan_tf_official/dnnlib/submission/_internal/run.py  \n",
            "  inflating: StyleGAN/InterFaceGAN/models/stylegan_tf_official/dnnlib/submission/run_context.py  \n",
            "  inflating: StyleGAN/InterFaceGAN/models/stylegan_tf_official/dnnlib/submission/submit.py  \n",
            "   creating: StyleGAN/InterFaceGAN/models/stylegan_tf_official/dnnlib/submission/__pycache__/\n",
            "  inflating: StyleGAN/InterFaceGAN/models/stylegan_tf_official/dnnlib/submission/__pycache__/__init__.cpython-36.pyc  \n",
            "  inflating: StyleGAN/InterFaceGAN/models/stylegan_tf_official/dnnlib/submission/__pycache__/run_context.cpython-36.pyc  \n",
            "  inflating: StyleGAN/InterFaceGAN/models/stylegan_tf_official/dnnlib/submission/__pycache__/submit.cpython-36.pyc  \n",
            "   creating: StyleGAN/InterFaceGAN/models/stylegan_tf_official/dnnlib/tflib/\n",
            "  inflating: StyleGAN/InterFaceGAN/models/stylegan_tf_official/dnnlib/tflib/__init__.py  \n",
            "  inflating: StyleGAN/InterFaceGAN/models/stylegan_tf_official/dnnlib/tflib/autosummary.py  \n",
            "  inflating: StyleGAN/InterFaceGAN/models/stylegan_tf_official/dnnlib/tflib/network.py  \n",
            "  inflating: StyleGAN/InterFaceGAN/models/stylegan_tf_official/dnnlib/tflib/optimizer.py  \n",
            "  inflating: StyleGAN/InterFaceGAN/models/stylegan_tf_official/dnnlib/tflib/tfutil.py  \n",
            "   creating: StyleGAN/InterFaceGAN/models/stylegan_tf_official/dnnlib/tflib/__pycache__/\n",
            "  inflating: StyleGAN/InterFaceGAN/models/stylegan_tf_official/dnnlib/tflib/__pycache__/__init__.cpython-36.pyc  \n",
            "  inflating: StyleGAN/InterFaceGAN/models/stylegan_tf_official/dnnlib/tflib/__pycache__/autosummary.cpython-36.pyc  \n",
            "  inflating: StyleGAN/InterFaceGAN/models/stylegan_tf_official/dnnlib/tflib/__pycache__/tfutil.cpython-36.pyc  \n",
            "  inflating: StyleGAN/InterFaceGAN/models/stylegan_tf_official/dnnlib/tflib/__pycache__/network.cpython-36.pyc  \n",
            "  inflating: StyleGAN/InterFaceGAN/models/stylegan_tf_official/dnnlib/tflib/__pycache__/optimizer.cpython-36.pyc  \n",
            "  inflating: StyleGAN/InterFaceGAN/models/stylegan_tf_official/dnnlib/util.py  \n",
            "   creating: StyleGAN/InterFaceGAN/models/stylegan_tf_official/dnnlib/__pycache__/\n",
            "  inflating: StyleGAN/InterFaceGAN/models/stylegan_tf_official/dnnlib/__pycache__/__init__.cpython-36.pyc  \n",
            "  inflating: StyleGAN/InterFaceGAN/models/stylegan_tf_official/dnnlib/__pycache__/util.cpython-36.pyc  \n",
            "  inflating: StyleGAN/InterFaceGAN/models/stylegan_tf_official/generate_figures.py  \n",
            "   creating: StyleGAN/InterFaceGAN/models/stylegan_tf_official/metrics/\n",
            "  inflating: StyleGAN/InterFaceGAN/models/stylegan_tf_official/metrics/__init__.py  \n",
            "  inflating: StyleGAN/InterFaceGAN/models/stylegan_tf_official/metrics/frechet_inception_distance.py  \n",
            "  inflating: StyleGAN/InterFaceGAN/models/stylegan_tf_official/metrics/linear_separability.py  \n",
            "  inflating: StyleGAN/InterFaceGAN/models/stylegan_tf_official/metrics/metric_base.py  \n",
            "  inflating: StyleGAN/InterFaceGAN/models/stylegan_tf_official/metrics/perceptual_path_length.py  \n",
            "  inflating: StyleGAN/InterFaceGAN/models/stylegan_tf_official/pretrained_example.py  \n",
            "  inflating: StyleGAN/InterFaceGAN/models/stylegan_tf_official/run_metrics.py  \n",
            "  inflating: StyleGAN/InterFaceGAN/models/stylegan_tf_official/train.py  \n",
            "   creating: StyleGAN/InterFaceGAN/models/stylegan_tf_official/training/\n",
            "  inflating: StyleGAN/InterFaceGAN/models/stylegan_tf_official/training/__init__.py  \n",
            "  inflating: StyleGAN/InterFaceGAN/models/stylegan_tf_official/training/dataset.py  \n",
            "  inflating: StyleGAN/InterFaceGAN/models/stylegan_tf_official/training/loss.py  \n",
            "  inflating: StyleGAN/InterFaceGAN/models/stylegan_tf_official/training/misc.py  \n",
            "  inflating: StyleGAN/InterFaceGAN/models/stylegan_tf_official/training/networks_progan.py  \n",
            "  inflating: StyleGAN/InterFaceGAN/models/stylegan_tf_official/training/networks_stylegan.py  \n",
            "  inflating: StyleGAN/InterFaceGAN/models/stylegan_tf_official/training/training_loop.py  \n",
            "   creating: StyleGAN/InterFaceGAN/models/__pycache__/\n",
            "  inflating: StyleGAN/InterFaceGAN/models/__pycache__/__init__.cpython-36.pyc  \n",
            "  inflating: StyleGAN/InterFaceGAN/models/__pycache__/model_settings.cpython-36.pyc  \n",
            "  inflating: StyleGAN/InterFaceGAN/models/__pycache__/pggan_generator.cpython-36.pyc  \n",
            "  inflating: StyleGAN/InterFaceGAN/models/__pycache__/pggan_generator_model.cpython-36.pyc  \n",
            "  inflating: StyleGAN/InterFaceGAN/models/__pycache__/base_generator.cpython-36.pyc  \n",
            "  inflating: StyleGAN/InterFaceGAN/models/__pycache__/stylegan_generator.cpython-36.pyc  \n",
            "  inflating: StyleGAN/InterFaceGAN/models/__pycache__/stylegan_generator_model.cpython-36.pyc  \n",
            "  inflating: StyleGAN/InterFaceGAN/teaser.jpg  \n",
            "  inflating: StyleGAN/InterFaceGAN/train_boundary.py  \n",
            "   creating: StyleGAN/InterFaceGAN/utils/\n",
            "  inflating: StyleGAN/InterFaceGAN/utils/__init__.py  \n",
            "  inflating: StyleGAN/InterFaceGAN/utils/logger.py  \n",
            "  inflating: StyleGAN/InterFaceGAN/utils/manipulator.py  \n",
            "   creating: StyleGAN/InterFaceGAN/utils/__pycache__/\n",
            "  inflating: StyleGAN/InterFaceGAN/utils/__pycache__/__init__.cpython-36.pyc  \n",
            "  inflating: StyleGAN/InterFaceGAN/utils/__pycache__/logger.cpython-36.pyc  \n",
            "  inflating: StyleGAN/InterFaceGAN/utils/__pycache__/manipulator.cpython-36.pyc  \n",
            "  inflating: StyleGAN/InterFaceGAN/runEdit.sh  \n",
            "  inflating: StyleGAN/InterFaceGAN/runediting.sh  \n",
            "   creating: StyleGAN/InterFaceGAN/output_videos/\n",
            "  inflating: StyleGAN/InterFaceGAN/output_videos/out_video_age_00.mp4  \n",
            "   creating: StyleGAN/InterFaceGAN/result/\n",
            "   creating: StyleGAN/InterFaceGAN/result/old/\n",
            "  inflating: StyleGAN/InterFaceGAN/result/old/000_032.jpg  \n",
            "  inflating: StyleGAN/InterFaceGAN/result/old/000_010.jpg  \n",
            "  inflating: StyleGAN/InterFaceGAN/result/old/000_024.jpg  \n",
            "  inflating: StyleGAN/InterFaceGAN/result/old/000_027.jpg  \n",
            "  inflating: StyleGAN/InterFaceGAN/result/old/000_003.jpg  \n",
            "  inflating: StyleGAN/InterFaceGAN/result/old/latent_codes.npy  \n",
            "  inflating: StyleGAN/InterFaceGAN/result/old/boundary.npy  \n",
            "  inflating: StyleGAN/InterFaceGAN/result/old/000_014.jpg  \n",
            "  inflating: StyleGAN/InterFaceGAN/result/old/000_016.jpg  \n",
            "  inflating: StyleGAN/InterFaceGAN/result/old/000_025.jpg  \n",
            "  inflating: StyleGAN/InterFaceGAN/result/old/000_026.jpg  \n",
            "  inflating: StyleGAN/InterFaceGAN/result/old/000_015.jpg  \n",
            "  inflating: StyleGAN/InterFaceGAN/result/old/000_000.jpg  \n",
            "  inflating: StyleGAN/InterFaceGAN/result/old/000_001.jpg  \n",
            "  inflating: StyleGAN/InterFaceGAN/result/old/000_035.jpg  \n",
            "  inflating: StyleGAN/InterFaceGAN/result/old/000_034.jpg  \n",
            "  inflating: StyleGAN/InterFaceGAN/result/old/000_013.jpg  \n",
            "  inflating: StyleGAN/InterFaceGAN/result/old/000_019.jpg  \n",
            "  inflating: StyleGAN/InterFaceGAN/result/old/000_031.jpg  \n",
            "  inflating: StyleGAN/InterFaceGAN/result/old/000_008.jpg  \n",
            "  inflating: StyleGAN/InterFaceGAN/result/old/000_020.jpg  \n",
            "  inflating: StyleGAN/InterFaceGAN/result/old/000_029.jpg  \n",
            "  inflating: StyleGAN/InterFaceGAN/result/old/000_030.jpg  \n",
            "  inflating: StyleGAN/InterFaceGAN/result/old/000_028.jpg  \n",
            "  inflating: StyleGAN/InterFaceGAN/result/old/000_005.jpg  \n",
            "  inflating: StyleGAN/InterFaceGAN/result/old/000_004.jpg  \n",
            "  inflating: StyleGAN/InterFaceGAN/result/old/000_033.jpg  \n",
            "  inflating: StyleGAN/InterFaceGAN/result/old/000_012.jpg  \n",
            "  inflating: StyleGAN/InterFaceGAN/result/old/000_002.jpg  \n",
            "  inflating: StyleGAN/InterFaceGAN/result/old/000_011.jpg  \n",
            "  inflating: StyleGAN/InterFaceGAN/result/old/000_017.jpg  \n",
            "  inflating: StyleGAN/InterFaceGAN/result/old/000_023.jpg  \n",
            "  inflating: StyleGAN/InterFaceGAN/result/old/000_022.jpg  \n",
            "  inflating: StyleGAN/InterFaceGAN/result/old/000_021.jpg  \n",
            "  inflating: StyleGAN/InterFaceGAN/result/old/000_009.jpg  \n",
            "  inflating: StyleGAN/InterFaceGAN/result/old/log.txt  \n",
            "  inflating: StyleGAN/InterFaceGAN/result/old/000_018.jpg  \n",
            "  inflating: StyleGAN/InterFaceGAN/result/old/000_007.jpg  \n",
            "  inflating: StyleGAN/InterFaceGAN/result/old/000_006.jpg  \n"
          ],
          "name": "stdout"
        }
      ]
    },
    {
      "cell_type": "markdown",
      "metadata": {
        "id": "vH9KrE3-EuqY"
      },
      "source": [
        "Rimuoviamo il file zip"
      ]
    },
    {
      "cell_type": "code",
      "metadata": {
        "id": "-0-XMJd7znCl"
      },
      "source": [
        "!rm /content/StyleGAN.zip\n",
        "n=0"
      ],
      "execution_count": null,
      "outputs": []
    },
    {
      "cell_type": "markdown",
      "metadata": {
        "id": "NxwmMQUtFMyk"
      },
      "source": [
        "Scarichiamo ed installiamo **miniconda**, versione più leggera di Anaconda per gestire frameworks e packages di sviluppo che andremo successivamente ad installare"
      ]
    },
    {
      "cell_type": "code",
      "metadata": {
        "id": "MSTUVmqFtqor",
        "colab": {
          "base_uri": "https://localhost:8080/",
          "height": 1000
        },
        "outputId": "8c7267b4-c8b8-41f2-a60e-0475b434426c"
      },
      "source": [
        "! wget https://repo.anaconda.com/miniconda/Miniconda3-py37_4.8.2-Linux-x86_64.sh\n",
        "! chmod +x Miniconda3-py37_4.8.2-Linux-x86_64.sh\n",
        "! bash ./Miniconda3-py37_4.8.2-Linux-x86_64.sh -b -f -p /usr/local\n",
        "import sys\n",
        "sys.path.append('/usr/local/lib/python3.6/site-packages/')"
      ],
      "execution_count": null,
      "outputs": [
        {
          "output_type": "stream",
          "text": [
            "--2020-07-16 06:47:50--  https://repo.anaconda.com/miniconda/Miniconda3-py37_4.8.2-Linux-x86_64.sh\n",
            "Resolving repo.anaconda.com (repo.anaconda.com)... 104.16.131.3, 104.16.130.3, 2606:4700::6810:8203, ...\n",
            "Connecting to repo.anaconda.com (repo.anaconda.com)|104.16.131.3|:443... connected.\n",
            "HTTP request sent, awaiting response... 200 OK\n",
            "Length: 85055499 (81M) [application/x-sh]\n",
            "Saving to: ‘Miniconda3-py37_4.8.2-Linux-x86_64.sh’\n",
            "\n",
            "\r          Miniconda   0%[                    ]       0  --.-KB/s               \r         Miniconda3  30%[=====>              ]  25.01M   123MB/s               \r        Miniconda3-  61%[===========>        ]  50.19M   124MB/s               \r       Miniconda3-p  90%[=================>  ]  73.62M   122MB/s               \rMiniconda3-py37_4.8 100%[===================>]  81.12M   122MB/s    in 0.7s    \n",
            "\n",
            "2020-07-16 06:47:51 (122 MB/s) - ‘Miniconda3-py37_4.8.2-Linux-x86_64.sh’ saved [85055499/85055499]\n",
            "\n",
            "PREFIX=/usr/local\n",
            "Unpacking payload ...\n",
            "Collecting package metadata (current_repodata.json): - \b\b\\ \b\b| \b\bdone\n",
            "Solving environment: - \b\bdone\n",
            "\n",
            "## Package Plan ##\n",
            "\n",
            "  environment location: /usr/local\n",
            "\n",
            "  added / updated specs:\n",
            "    - _libgcc_mutex==0.1=main\n",
            "    - asn1crypto==1.3.0=py37_0\n",
            "    - ca-certificates==2020.1.1=0\n",
            "    - certifi==2019.11.28=py37_0\n",
            "    - cffi==1.14.0=py37h2e261b9_0\n",
            "    - chardet==3.0.4=py37_1003\n",
            "    - conda-package-handling==1.6.0=py37h7b6447c_0\n",
            "    - conda==4.8.2=py37_0\n",
            "    - cryptography==2.8=py37h1ba5d50_0\n",
            "    - idna==2.8=py37_0\n",
            "    - ld_impl_linux-64==2.33.1=h53a641e_7\n",
            "    - libedit==3.1.20181209=hc058e9b_0\n",
            "    - libffi==3.2.1=hd88cf55_4\n",
            "    - libgcc-ng==9.1.0=hdf63c60_0\n",
            "    - libstdcxx-ng==9.1.0=hdf63c60_0\n",
            "    - ncurses==6.2=he6710b0_0\n",
            "    - openssl==1.1.1d=h7b6447c_4\n",
            "    - pip==20.0.2=py37_1\n",
            "    - pycosat==0.6.3=py37h7b6447c_0\n",
            "    - pycparser==2.19=py37_0\n",
            "    - pyopenssl==19.1.0=py37_0\n",
            "    - pysocks==1.7.1=py37_0\n",
            "    - python==3.7.6=h0371630_2\n",
            "    - readline==7.0=h7b6447c_5\n",
            "    - requests==2.22.0=py37_1\n",
            "    - ruamel_yaml==0.15.87=py37h7b6447c_0\n",
            "    - setuptools==45.2.0=py37_0\n",
            "    - six==1.14.0=py37_0\n",
            "    - sqlite==3.31.1=h7b6447c_0\n",
            "    - tk==8.6.8=hbc83047_0\n",
            "    - tqdm==4.42.1=py_0\n",
            "    - urllib3==1.25.8=py37_0\n",
            "    - wheel==0.34.2=py37_0\n",
            "    - xz==5.2.4=h14c3975_4\n",
            "    - yaml==0.1.7=had09818_2\n",
            "    - zlib==1.2.11=h7b6447c_3\n",
            "\n",
            "\n",
            "The following NEW packages will be INSTALLED:\n",
            "\n",
            "  _libgcc_mutex      pkgs/main/linux-64::_libgcc_mutex-0.1-main\n",
            "  asn1crypto         pkgs/main/linux-64::asn1crypto-1.3.0-py37_0\n",
            "  ca-certificates    pkgs/main/linux-64::ca-certificates-2020.1.1-0\n",
            "  certifi            pkgs/main/linux-64::certifi-2019.11.28-py37_0\n",
            "  cffi               pkgs/main/linux-64::cffi-1.14.0-py37h2e261b9_0\n",
            "  chardet            pkgs/main/linux-64::chardet-3.0.4-py37_1003\n",
            "  conda              pkgs/main/linux-64::conda-4.8.2-py37_0\n",
            "  conda-package-han~ pkgs/main/linux-64::conda-package-handling-1.6.0-py37h7b6447c_0\n",
            "  cryptography       pkgs/main/linux-64::cryptography-2.8-py37h1ba5d50_0\n",
            "  idna               pkgs/main/linux-64::idna-2.8-py37_0\n",
            "  ld_impl_linux-64   pkgs/main/linux-64::ld_impl_linux-64-2.33.1-h53a641e_7\n",
            "  libedit            pkgs/main/linux-64::libedit-3.1.20181209-hc058e9b_0\n",
            "  libffi             pkgs/main/linux-64::libffi-3.2.1-hd88cf55_4\n",
            "  libgcc-ng          pkgs/main/linux-64::libgcc-ng-9.1.0-hdf63c60_0\n",
            "  libstdcxx-ng       pkgs/main/linux-64::libstdcxx-ng-9.1.0-hdf63c60_0\n",
            "  ncurses            pkgs/main/linux-64::ncurses-6.2-he6710b0_0\n",
            "  openssl            pkgs/main/linux-64::openssl-1.1.1d-h7b6447c_4\n",
            "  pip                pkgs/main/linux-64::pip-20.0.2-py37_1\n",
            "  pycosat            pkgs/main/linux-64::pycosat-0.6.3-py37h7b6447c_0\n",
            "  pycparser          pkgs/main/linux-64::pycparser-2.19-py37_0\n",
            "  pyopenssl          pkgs/main/linux-64::pyopenssl-19.1.0-py37_0\n",
            "  pysocks            pkgs/main/linux-64::pysocks-1.7.1-py37_0\n",
            "  python             pkgs/main/linux-64::python-3.7.6-h0371630_2\n",
            "  readline           pkgs/main/linux-64::readline-7.0-h7b6447c_5\n",
            "  requests           pkgs/main/linux-64::requests-2.22.0-py37_1\n",
            "  ruamel_yaml        pkgs/main/linux-64::ruamel_yaml-0.15.87-py37h7b6447c_0\n",
            "  setuptools         pkgs/main/linux-64::setuptools-45.2.0-py37_0\n",
            "  six                pkgs/main/linux-64::six-1.14.0-py37_0\n",
            "  sqlite             pkgs/main/linux-64::sqlite-3.31.1-h7b6447c_0\n",
            "  tk                 pkgs/main/linux-64::tk-8.6.8-hbc83047_0\n",
            "  tqdm               pkgs/main/noarch::tqdm-4.42.1-py_0\n",
            "  urllib3            pkgs/main/linux-64::urllib3-1.25.8-py37_0\n",
            "  wheel              pkgs/main/linux-64::wheel-0.34.2-py37_0\n",
            "  xz                 pkgs/main/linux-64::xz-5.2.4-h14c3975_4\n",
            "  yaml               pkgs/main/linux-64::yaml-0.1.7-had09818_2\n",
            "  zlib               pkgs/main/linux-64::zlib-1.2.11-h7b6447c_3\n",
            "\n",
            "\n",
            "Preparing transaction: | \b\b/ \b\b- \b\b\\ \b\bdone\n",
            "Executing transaction: / \b\b- \b\b\\ \b\b| \b\b/ \b\b- \b\b\\ \b\b| \b\b/ \b\b- \b\b\\ \b\b| \b\b/ \b\b- \b\b\\ \b\b| \b\bdone\n",
            "installation finished.\n",
            "WARNING:\n",
            "    You currently have a PYTHONPATH environment variable set. This may cause\n",
            "    unexpected behavior when running the Python interpreter in Miniconda3.\n",
            "    For best results, please verify that your PYTHONPATH only points to\n",
            "    directories of packages that are compatible with the Python interpreter\n",
            "    in Miniconda3: /usr/local\n"
          ],
          "name": "stdout"
        }
      ]
    },
    {
      "cell_type": "markdown",
      "metadata": {
        "id": "_ZUK5_wDFXBR"
      },
      "source": [
        "Usiamo miniconda per installare **python 3.6**  (sarà richiesto il consenso da parte dell'user per ogni \n",
        "installazione effettuata con conda)"
      ]
    },
    {
      "cell_type": "code",
      "metadata": {
        "id": "p-EPeaQ8u7Z2",
        "colab": {
          "base_uri": "https://localhost:8080/",
          "height": 1000
        },
        "outputId": "57a2e219-6bce-4d8d-badd-cefe8bb0d0c3"
      },
      "source": [
        "!conda install python=3.6"
      ],
      "execution_count": null,
      "outputs": [
        {
          "output_type": "stream",
          "text": [
            "Collecting package metadata (current_repodata.json): - \b\b\\ \b\b| \b\b/ \b\b- \b\b\\ \b\b| \b\b/ \b\b- \b\b\\ \b\b| \b\b/ \b\b- \b\b\\ \b\bdone\n",
            "Solving environment: / \b\b- \b\b\\ \b\b| \b\b/ \b\b- \b\bdone\n",
            "\n",
            "## Package Plan ##\n",
            "\n",
            "  environment location: /usr/local\n",
            "\n",
            "  added / updated specs:\n",
            "    - python=3.6\n",
            "\n",
            "\n",
            "The following packages will be downloaded:\n",
            "\n",
            "    package                    |            build\n",
            "    ---------------------------|-----------------\n",
            "    brotlipy-0.7.0             |py36h7b6447c_1000         323 KB\n",
            "    ca-certificates-2020.6.24  |                0         125 KB\n",
            "    certifi-2020.6.20          |           py36_0         156 KB\n",
            "    cffi-1.14.0                |   py36h2e261b9_0         223 KB\n",
            "    chardet-3.0.4              |        py36_1003         180 KB\n",
            "    conda-4.8.3                |           py36_0         2.8 MB\n",
            "    conda-package-handling-1.6.1|   py36h7b6447c_0         797 KB\n",
            "    cryptography-2.9.2         |   py36h1ba5d50_0         556 KB\n",
            "    idna-2.10                  |             py_0          50 KB\n",
            "    openssl-1.1.1g             |       h7b6447c_0         2.5 MB\n",
            "    pip-20.1.1                 |           py36_1         1.8 MB\n",
            "    pycosat-0.6.3              |   py36h7b6447c_0          82 KB\n",
            "    pycparser-2.20             |             py_2          94 KB\n",
            "    pyopenssl-19.1.0           |             py_1          48 KB\n",
            "    pysocks-1.7.1              |           py36_0          30 KB\n",
            "    python-3.6.10              |       h191fe78_1        29.7 MB\n",
            "    requests-2.24.0            |             py_0          56 KB\n",
            "    ruamel_yaml-0.15.87        |   py36h7b6447c_0         257 KB\n",
            "    setuptools-49.2.0          |           py36_0         748 KB\n",
            "    six-1.15.0                 |             py_0          13 KB\n",
            "    urllib3-1.25.9             |             py_0         103 KB\n",
            "    wheel-0.34.2               |           py36_0          51 KB\n",
            "    ------------------------------------------------------------\n",
            "                                           Total:        40.6 MB\n",
            "\n",
            "The following NEW packages will be INSTALLED:\n",
            "\n",
            "  brotlipy           pkgs/main/linux-64::brotlipy-0.7.0-py36h7b6447c_1000\n",
            "\n",
            "The following packages will be REMOVED:\n",
            "\n",
            "  asn1crypto-1.3.0-py37_0\n",
            "\n",
            "The following packages will be UPDATED:\n",
            "\n",
            "  ca-certificates                                2020.1.1-0 --> 2020.6.24-0\n",
            "  certifi                                 2019.11.28-py37_0 --> 2020.6.20-py36_0\n",
            "  conda                                        4.8.2-py37_0 --> 4.8.3-py36_0\n",
            "  conda-package-han~                   1.6.0-py37h7b6447c_0 --> 1.6.1-py36h7b6447c_0\n",
            "  cryptography                           2.8-py37h1ba5d50_0 --> 2.9.2-py36h1ba5d50_0\n",
            "  idna                  pkgs/main/linux-64::idna-2.8-py37_0 --> pkgs/main/noarch::idna-2.10-py_0\n",
            "  openssl                                 1.1.1d-h7b6447c_4 --> 1.1.1g-h7b6447c_0\n",
            "  pip                                         20.0.2-py37_1 --> 20.1.1-py36_1\n",
            "  pycparser          pkgs/main/linux-64::pycparser-2.19-py~ --> pkgs/main/noarch::pycparser-2.20-py_2\n",
            "  pyopenssl          pkgs/main/linux-64::pyopenssl-19.1.0-~ --> pkgs/main/noarch::pyopenssl-19.1.0-py_1\n",
            "  requests           pkgs/main/linux-64::requests-2.22.0-p~ --> pkgs/main/noarch::requests-2.24.0-py_0\n",
            "  setuptools                                  45.2.0-py37_0 --> 49.2.0-py36_0\n",
            "  six                 pkgs/main/linux-64::six-1.14.0-py37_0 --> pkgs/main/noarch::six-1.15.0-py_0\n",
            "  urllib3            pkgs/main/linux-64::urllib3-1.25.8-py~ --> pkgs/main/noarch::urllib3-1.25.9-py_0\n",
            "\n",
            "The following packages will be DOWNGRADED:\n",
            "\n",
            "  cffi                                1.14.0-py37h2e261b9_0 --> 1.14.0-py36h2e261b9_0\n",
            "  chardet                                   3.0.4-py37_1003 --> 3.0.4-py36_1003\n",
            "  pycosat                              0.6.3-py37h7b6447c_0 --> 0.6.3-py36h7b6447c_0\n",
            "  pysocks                                      1.7.1-py37_0 --> 1.7.1-py36_0\n",
            "  python                                   3.7.6-h0371630_2 --> 3.6.10-h191fe78_1\n",
            "  ruamel_yaml                        0.15.87-py37h7b6447c_0 --> 0.15.87-py36h7b6447c_0\n",
            "  wheel                                       0.34.2-py37_0 --> 0.34.2-py36_0\n",
            "\n",
            "\n",
            "Proceed ([y]/n)? y\n",
            "\n",
            "\n",
            "Downloading and Extracting Packages\n",
            "ruamel_yaml-0.15.87  | 257 KB    | : 100% 1.0/1 [00:00<00:00,  8.37it/s]\n",
            "chardet-3.0.4        | 180 KB    | : 100% 1.0/1 [00:00<00:00, 16.70it/s]\n",
            "pycosat-0.6.3        | 82 KB     | : 100% 1.0/1 [00:00<00:00, 25.55it/s]\n",
            "brotlipy-0.7.0       | 323 KB    | : 100% 1.0/1 [00:00<00:00, 16.44it/s]\n",
            "idna-2.10            | 50 KB     | : 100% 1.0/1 [00:00<00:00, 22.09it/s]\n",
            "requests-2.24.0      | 56 KB     | : 100% 1.0/1 [00:00<00:00, 21.88it/s]\n",
            "python-3.6.10        | 29.7 MB   | : 100% 1.0/1 [00:00<00:00,  1.02it/s]               \n",
            "certifi-2020.6.20    | 156 KB    | : 100% 1.0/1 [00:00<00:00, 21.09it/s]\n",
            "openssl-1.1.1g       | 2.5 MB    | : 100% 1.0/1 [00:00<00:00,  6.52it/s]\n",
            "setuptools-49.2.0    | 748 KB    | : 100% 1.0/1 [00:00<00:00,  7.43it/s]\n",
            "pycparser-2.20       | 94 KB     | : 100% 1.0/1 [00:00<00:00, 18.17it/s]\n",
            "cryptography-2.9.2   | 556 KB    | : 100% 1.0/1 [00:00<00:00, 11.21it/s]\n",
            "conda-4.8.3          | 2.8 MB    | : 100% 1.0/1 [00:00<00:00,  6.21it/s]\n",
            "wheel-0.34.2         | 51 KB     | : 100% 1.0/1 [00:00<00:00, 24.68it/s]\n",
            "pip-20.1.1           | 1.8 MB    | : 100% 1.0/1 [00:00<00:00,  6.58it/s]\n",
            "cffi-1.14.0          | 223 KB    | : 100% 1.0/1 [00:00<00:00, 17.60it/s]\n",
            "ca-certificates-2020 | 125 KB    | : 100% 1.0/1 [00:00<00:00, 22.42it/s]\n",
            "pyopenssl-19.1.0     | 48 KB     | : 100% 1.0/1 [00:00<00:00, 23.66it/s]\n",
            "pysocks-1.7.1        | 30 KB     | : 100% 1.0/1 [00:00<00:00, 20.60it/s]\n",
            "six-1.15.0           | 13 KB     | : 100% 1.0/1 [00:00<00:00, 23.57it/s]\n",
            "urllib3-1.25.9       | 103 KB    | : 100% 1.0/1 [00:00<00:00, 22.01it/s]\n",
            "conda-package-handli | 797 KB    | : 100% 1.0/1 [00:00<00:00, 14.42it/s]\n",
            "Preparing transaction: | \b\b/ \b\b- \b\bdone\n",
            "Verifying transaction: | \b\b/ \b\b- \b\b\\ \b\b| \b\b/ \b\bdone\n",
            "Executing transaction: \\ \b\b| \b\b/ \b\b- \b\b\\ \b\b| \b\b/ \b\b- \b\b\\ \b\b| \b\b/ \b\b- \b\b\\ \b\b| \b\b/ \b\b- \b\bdone\n"
          ],
          "name": "stdout"
        }
      ]
    },
    {
      "cell_type": "markdown",
      "metadata": {
        "id": "fFz49U53Fg2I"
      },
      "source": [
        "Installiamo **tensorflow** versione GPU (potrebbe richiedere diversi minuti, verranno installate anche le librerie cudatoolkit e cudnnn)"
      ]
    },
    {
      "cell_type": "code",
      "metadata": {
        "id": "FkI88KAJvNYh",
        "colab": {
          "base_uri": "https://localhost:8080/",
          "height": 1000
        },
        "outputId": "bd315de6-35a2-4264-9cbd-e86266879409"
      },
      "source": [
        "!conda install tensorflow-gpu==1.15"
      ],
      "execution_count": null,
      "outputs": [
        {
          "output_type": "stream",
          "text": [
            "Collecting package metadata (current_repodata.json): - \b\b\\ \b\b| \b\b/ \b\b- \b\b\\ \b\b| \b\bdone\n",
            "Solving environment: - \b\bfailed with initial frozen solve. Retrying with flexible solve.\n",
            "Collecting package metadata (repodata.json): | \b\b/ \b\b- \b\b\\ \b\b| \b\b/ \b\b- \b\b\\ \b\b| \b\b/ \b\b- \b\b\\ \b\b| \b\b/ \b\b- \b\b\\ \b\b| \b\b/ \b\b- \b\b\\ \b\b| \b\b/ \b\b- \b\b\\ \b\b| \b\b/ \b\b- \b\b\\ \b\b| \b\b/ \b\b- \b\b\\ \b\b| \b\b/ \b\b- \b\b\\ \b\b| \b\b/ \b\b- \b\b\\ \b\b| \b\b/ \b\b- \b\b\\ \b\b| \b\b/ \b\b- \b\b\\ \b\bdone\n",
            "Solving environment: / \b\b- \b\b\\ \b\b| \b\b/ \b\b- \b\b\\ \b\b| \b\b/ \b\b- \b\b\\ \b\b| \b\b/ \b\b- \b\b\\ \b\b| \b\b/ \b\b- \b\b\\ \b\b| \b\b/ \b\b- \b\b\\ \b\b| \b\b/ \b\b- \b\b\\ \b\b| \b\b/ \b\b- \b\b\\ \b\b| \b\b/ \b\b- \b\b\\ \b\bdone\n",
            "\n",
            "## Package Plan ##\n",
            "\n",
            "  environment location: /usr/local\n",
            "\n",
            "  added / updated specs:\n",
            "    - tensorflow-gpu==1.15\n",
            "\n",
            "\n",
            "The following packages will be downloaded:\n",
            "\n",
            "    package                    |            build\n",
            "    ---------------------------|-----------------\n",
            "    _tflow_select-2.1.0        |              gpu           2 KB\n",
            "    absl-py-0.9.0              |           py36_0         167 KB\n",
            "    astor-0.8.0                |           py36_0          46 KB\n",
            "    blas-1.0                   |              mkl           6 KB\n",
            "    c-ares-1.15.0              |    h7b6447c_1001          89 KB\n",
            "    cudatoolkit-10.0.130       |                0       261.2 MB\n",
            "    cudnn-7.6.5                |       cuda10.0_0       165.0 MB\n",
            "    cupti-10.0.130             |                0         1.5 MB\n",
            "    gast-0.2.2                 |           py36_0         155 KB\n",
            "    google-pasta-0.2.0         |             py_0          46 KB\n",
            "    grpcio-1.27.2              |   py36hf8bcb03_0         1.3 MB\n",
            "    h5py-2.10.0                |   py36hd6299e0_1         901 KB\n",
            "    hdf5-1.10.6                |       hb1b8bf9_0         3.7 MB\n",
            "    intel-openmp-2020.1        |              217         780 KB\n",
            "    keras-applications-1.0.8   |             py_1          29 KB\n",
            "    keras-preprocessing-1.1.0  |             py_1          37 KB\n",
            "    libgfortran-ng-7.3.0       |       hdf63c60_0        1006 KB\n",
            "    libprotobuf-3.12.3         |       hd408876_0         2.9 MB\n",
            "    markdown-3.1.1             |           py36_0         116 KB\n",
            "    mkl-2020.1                 |              217       129.0 MB\n",
            "    mkl-service-2.3.0          |   py36he904b0f_0         219 KB\n",
            "    mkl_fft-1.1.0              |   py36h23d657b_0         144 KB\n",
            "    mkl_random-1.1.1           |   py36h0573a6f_0         327 KB\n",
            "    numpy-1.18.5               |   py36ha1c710e_0           5 KB\n",
            "    numpy-base-1.18.5          |   py36hde5b4d6_0         4.1 MB\n",
            "    opt_einsum-3.1.0           |             py_0          54 KB\n",
            "    protobuf-3.12.3            |   py36he6710b0_0         644 KB\n",
            "    scipy-1.5.0                |   py36h0b6359f_0        14.4 MB\n",
            "    tensorboard-1.15.0         |     pyhb230dea_0         3.2 MB\n",
            "    tensorflow-1.15.0          |gpu_py36h5a509aa_0           4 KB\n",
            "    tensorflow-base-1.15.0     |gpu_py36h9dcbed7_0       156.5 MB\n",
            "    tensorflow-estimator-1.15.1|     pyh2649769_0         271 KB\n",
            "    tensorflow-gpu-1.15.0      |       h0d30ee6_0           3 KB\n",
            "    termcolor-1.1.0            |           py36_1           8 KB\n",
            "    webencodings-0.5.1         |           py36_1          19 KB\n",
            "    werkzeug-0.16.1            |             py_0         258 KB\n",
            "    wrapt-1.12.1               |   py36h7b6447c_1          49 KB\n",
            "    ------------------------------------------------------------\n",
            "                                           Total:       748.0 MB\n",
            "\n",
            "The following NEW packages will be INSTALLED:\n",
            "\n",
            "  _tflow_select      pkgs/main/linux-64::_tflow_select-2.1.0-gpu\n",
            "  absl-py            pkgs/main/linux-64::absl-py-0.9.0-py36_0\n",
            "  astor              pkgs/main/linux-64::astor-0.8.0-py36_0\n",
            "  blas               pkgs/main/linux-64::blas-1.0-mkl\n",
            "  c-ares             pkgs/main/linux-64::c-ares-1.15.0-h7b6447c_1001\n",
            "  cudatoolkit        pkgs/main/linux-64::cudatoolkit-10.0.130-0\n",
            "  cudnn              pkgs/main/linux-64::cudnn-7.6.5-cuda10.0_0\n",
            "  cupti              pkgs/main/linux-64::cupti-10.0.130-0\n",
            "  gast               pkgs/main/linux-64::gast-0.2.2-py36_0\n",
            "  google-pasta       pkgs/main/noarch::google-pasta-0.2.0-py_0\n",
            "  grpcio             pkgs/main/linux-64::grpcio-1.27.2-py36hf8bcb03_0\n",
            "  h5py               pkgs/main/linux-64::h5py-2.10.0-py36hd6299e0_1\n",
            "  hdf5               pkgs/main/linux-64::hdf5-1.10.6-hb1b8bf9_0\n",
            "  intel-openmp       pkgs/main/linux-64::intel-openmp-2020.1-217\n",
            "  keras-applications pkgs/main/noarch::keras-applications-1.0.8-py_1\n",
            "  keras-preprocessi~ pkgs/main/noarch::keras-preprocessing-1.1.0-py_1\n",
            "  libgfortran-ng     pkgs/main/linux-64::libgfortran-ng-7.3.0-hdf63c60_0\n",
            "  libprotobuf        pkgs/main/linux-64::libprotobuf-3.12.3-hd408876_0\n",
            "  markdown           pkgs/main/linux-64::markdown-3.1.1-py36_0\n",
            "  mkl                pkgs/main/linux-64::mkl-2020.1-217\n",
            "  mkl-service        pkgs/main/linux-64::mkl-service-2.3.0-py36he904b0f_0\n",
            "  mkl_fft            pkgs/main/linux-64::mkl_fft-1.1.0-py36h23d657b_0\n",
            "  mkl_random         pkgs/main/linux-64::mkl_random-1.1.1-py36h0573a6f_0\n",
            "  numpy              pkgs/main/linux-64::numpy-1.18.5-py36ha1c710e_0\n",
            "  numpy-base         pkgs/main/linux-64::numpy-base-1.18.5-py36hde5b4d6_0\n",
            "  opt_einsum         pkgs/main/noarch::opt_einsum-3.1.0-py_0\n",
            "  protobuf           pkgs/main/linux-64::protobuf-3.12.3-py36he6710b0_0\n",
            "  scipy              pkgs/main/linux-64::scipy-1.5.0-py36h0b6359f_0\n",
            "  tensorboard        pkgs/main/noarch::tensorboard-1.15.0-pyhb230dea_0\n",
            "  tensorflow         pkgs/main/linux-64::tensorflow-1.15.0-gpu_py36h5a509aa_0\n",
            "  tensorflow-base    pkgs/main/linux-64::tensorflow-base-1.15.0-gpu_py36h9dcbed7_0\n",
            "  tensorflow-estima~ pkgs/main/noarch::tensorflow-estimator-1.15.1-pyh2649769_0\n",
            "  tensorflow-gpu     pkgs/main/linux-64::tensorflow-gpu-1.15.0-h0d30ee6_0\n",
            "  termcolor          pkgs/main/linux-64::termcolor-1.1.0-py36_1\n",
            "  webencodings       pkgs/main/linux-64::webencodings-0.5.1-py36_1\n",
            "  werkzeug           pkgs/main/noarch::werkzeug-0.16.1-py_0\n",
            "  wrapt              pkgs/main/linux-64::wrapt-1.12.1-py36h7b6447c_1\n",
            "\n",
            "\n",
            "Proceed ([y]/n)? y\n",
            "\n",
            "\n",
            "Downloading and Extracting Packages\n",
            "blas-1.0             | 6 KB      | : 100% 1.0/1 [00:00<00:00, 11.69it/s]\n",
            "termcolor-1.1.0      | 8 KB      | : 100% 1.0/1 [00:00<00:00, 21.77it/s]\n",
            "grpcio-1.27.2        | 1.3 MB    | : 100% 1.0/1 [00:00<00:00,  8.15it/s]\n",
            "mkl_fft-1.1.0        | 144 KB    | : 100% 1.0/1 [00:00<00:00, 18.93it/s]\n",
            "numpy-base-1.18.5    | 4.1 MB    | : 100% 1.0/1 [00:00<00:00,  4.06it/s]\n",
            "markdown-3.1.1       | 116 KB    | : 100% 1.0/1 [00:00<00:00, 15.81it/s]\n",
            "_tflow_select-2.1.0  | 2 KB      | : 100% 1.0/1 [00:00<00:00, 24.66it/s]\n",
            "werkzeug-0.16.1      | 258 KB    | : 100% 1.0/1 [00:00<00:00, 17.38it/s]\n",
            "h5py-2.10.0          | 901 KB    | : 100% 1.0/1 [00:00<00:00, 13.04it/s]\n",
            "numpy-1.18.5         | 5 KB      | : 100% 1.0/1 [00:00<00:00, 21.88it/s]\n",
            "keras-applications-1 | 29 KB     | : 100% 1.0/1 [00:00<00:00, 19.47it/s]\n",
            "cudatoolkit-10.0.130 | 261.2 MB  | : 100% 1.0/1 [00:06<00:00,  6.42s/it]               \n",
            "absl-py-0.9.0        | 167 KB    | : 100% 1.0/1 [00:00<00:00, 15.85it/s]\n",
            "mkl-2020.1           | 129.0 MB  | : 100% 1.0/1 [00:22<00:00, 22.74s/it]               \n",
            "protobuf-3.12.3      | 644 KB    | : 100% 1.0/1 [00:00<00:00,  5.65it/s]\n",
            "webencodings-0.5.1   | 19 KB     | : 100% 1.0/1 [00:00<00:00,  9.73it/s]\n",
            "scipy-1.5.0          | 14.4 MB   | : 100% 1.0/1 [00:00<00:00,  1.72it/s]                \n",
            "tensorflow-base-1.15 | 156.5 MB  | : 100% 1.0/1 [00:48<00:00, 205.47s/it]              \n",
            "libprotobuf-3.12.3   | 2.9 MB    | : 100% 1.0/1 [00:00<00:00,  3.74it/s]\n",
            "astor-0.8.0          | 46 KB     | : 100% 1.0/1 [00:00<00:00, 16.01it/s]\n",
            "wrapt-1.12.1         | 49 KB     | : 100% 1.0/1 [00:00<00:00, 20.98it/s]\n",
            "tensorflow-estimator | 271 KB    | : 100% 1.0/1 [00:00<00:00, 12.37it/s]\n",
            "mkl-service-2.3.0    | 219 KB    | : 100% 1.0/1 [00:00<00:00, 14.55it/s]\n",
            "tensorflow-1.15.0    | 4 KB      | : 100% 1.0/1 [00:00<00:00, 19.44it/s]\n",
            "c-ares-1.15.0        | 89 KB     | : 100% 1.0/1 [00:00<00:00, 18.54it/s]\n",
            "mkl_random-1.1.1     | 327 KB    | : 100% 1.0/1 [00:00<00:00, 15.28it/s]\n",
            "tensorflow-gpu-1.15. | 3 KB      | : 100% 1.0/1 [00:00<00:00, 22.10it/s]\n",
            "cudnn-7.6.5          | 165.0 MB  | : 100% 1.0/1 [00:17<00:00, 17.99s/it]               \n",
            "hdf5-1.10.6          | 3.7 MB    | : 100% 1.0/1 [00:00<00:00,  3.85it/s]\n",
            "intel-openmp-2020.1  | 780 KB    | : 100% 1.0/1 [00:00<00:00, 13.44it/s]\n",
            "libgfortran-ng-7.3.0 | 1006 KB   | : 100% 1.0/1 [00:00<00:00,  7.92it/s]\n",
            "cupti-10.0.130       | 1.5 MB    | : 100% 1.0/1 [00:00<00:00,  9.07it/s]\n",
            "gast-0.2.2           | 155 KB    | : 100% 1.0/1 [00:00<00:00, 16.65it/s]\n",
            "keras-preprocessing- | 37 KB     | : 100% 1.0/1 [00:00<00:00, 21.33it/s]\n",
            "tensorboard-1.15.0   | 3.2 MB    | : 100% 1.0/1 [00:00<00:00,  5.58it/s]\n",
            "opt_einsum-3.1.0     | 54 KB     | : 100% 1.0/1 [00:00<00:00, 17.42it/s]\n",
            "google-pasta-0.2.0   | 46 KB     | : 100% 1.0/1 [00:00<00:00,  7.29it/s]                \n",
            "Preparing transaction: / \b\b- \b\b\\ \b\b| \b\b/ \b\b- \b\b\\ \b\b| \b\b/ \b\b- \b\b\\ \b\b| \b\b/ \b\b- \b\b\\ \b\b| \b\b/ \b\b- \b\b\\ \b\b| \b\b/ \b\b- \b\b\\ \b\b| \b\b/ \b\b- \b\b\\ \b\b| \b\b/ \b\b- \b\b\\ \b\b| \b\b/ \b\b- \b\b\\ \b\b| \b\b/ \b\b- \b\b\\ \b\b| \b\b/ \b\b- \b\b\\ \b\b| \b\b/ \b\b- \b\b\\ \b\b| \b\bdone\n",
            "Verifying transaction: - \b\b\\ \b\b| \b\b/ \b\b- \b\b\\ \b\b| \b\b/ \b\b- \b\b\\ \b\b| \b\b/ \b\b- \b\b\\ \b\b| \b\b/ \b\b- \b\bdone\n",
            "Executing transaction: | \b\b/ \b\b- \b\b\\ \b\b| \b\b/ \b\b- \b\b\\ \b\b| \b\b/ \b\b- \b\b\\ \b\b| \b\b/ \b\b- \b\b\\ \b\b| \b\b/ \b\b- \b\b\\ \b\b| \b\b/ \b\b- \b\b\\ \b\b| \b\b/ \b\b- \b\b\\ \b\b| \b\b/ \b\b- \b\b\\ \b\b| \b\b/ \b\b- \b\b\\ \b\b| \b\b/ \b\b- \b\b\\ \b\b| \b\b/ \b\b- \b\b\\ \b\b| \b\b/ \b\b- \b\b\\ \b\b| \b\b/ \b\b- \b\b\\ \b\b| \b\b/ \b\b- \b\b\\ \b\b| \b\b/ \b\b- \b\b\\ \b\b| \b\b/ \b\b- \b\b\\ \b\b| \b\b/ \b\b- \b\b\\ \b\b| \b\b/ \b\b- \b\b\\ \b\b| \b\b/ \b\b- \b\b\\ \b\b| \b\b/ \b\b- \b\b\\ \b\b| \b\b/ \b\b- \b\b\\ \b\b| \b\b/ \b\b- \b\b\\ \b\b| \b\b/ \b\b- \b\b\\ \b\b| \b\b/ \b\b- \b\b\\ \b\b| \b\b/ \b\b- \b\b\\ \b\b| \b\b/ \b\b- \b\b\\ \b\b| \b\b/ \b\b- \b\b\\ \b\b| \b\b/ \b\b- \b\b\\ \b\b| \b\b/ \b\b- \b\b\\ \b\b| \b\b/ \b\b- \b\b\\ \b\b| \b\b/ \b\b- \b\b\\ \b\b| \b\b/ \b\b- \b\b\\ \b\b| \b\b/ \b\b- \b\b\\ \b\b| \b\b/ \b\b- \b\b\\ \b\b| \b\b/ \b\b- \b\b\\ \b\b| \b\b/ \b\b- \b\b\\ \b\b| \b\b/ \b\b- \b\b\\ \b\b| \b\b/ \b\b- \b\b\\ \b\b| \b\b/ \b\b- \b\b\\ \b\b| \b\b/ \b\b- \b\b\\ \b\b| \b\b/ \b\b- \b\b\\ \b\b| \b\b/ \b\b- \b\b\\ \b\b| \b\b/ \b\b- \b\b\\ \b\b| \b\b/ \b\b- \b\b\\ \b\b| \b\b/ \b\b- \b\b\\ \b\b| \b\b/ \b\b- \b\b\\ \b\b| \b\b/ \b\b- \b\b\\ \b\b| \b\b/ \b\b- \b\b\\ \b\b| \b\b/ \b\b- \b\b\\ \b\b| \b\b/ \b\b- \b\b\\ \b\b| \b\b/ \b\b- \b\b\\ \b\b| \b\b/ \b\b- \b\b\\ \b\b| \b\b/ \b\b- \b\b\\ \b\b| \b\b/ \b\b- \b\b\\ \b\b| \b\b/ \b\b- \b\b\\ \b\b| \b\b/ \b\b- \b\b\\ \b\b| \b\b/ \b\b- \b\b\\ \b\b| \b\b/ \b\b- \b\b\\ \b\b| \b\b/ \b\b- \b\b\\ \b\b| \b\b/ \b\b- \b\b\\ \b\b| \b\b/ \b\b- \b\b\\ \b\b| \b\b/ \b\b- \b\b\\ \b\b| \b\b/ \b\b- \b\b\\ \b\b| \b\b/ \b\b- \b\b\\ \b\b| \b\b/ \b\b- \b\b\\ \b\b| \b\b/ \b\b- \b\b\\ \b\b| \b\b/ \b\b- \b\b\\ \b\b| \b\b/ \b\b- \b\b\\ \b\b| \b\b/ \b\b- \b\b\\ \b\b| \b\b/ \b\b- \b\b\\ \b\b| \b\b/ \b\b- \b\b\\ \b\b| \b\b/ \b\b- \b\b\\ \b\b| \b\b/ \b\b- \b\b\\ \b\b| \b\b/ \b\b- \b\b\\ \b\b| \b\b/ \b\b- \b\b\\ \b\b| \b\b/ \b\b- \b\b\\ \b\b| \b\b/ \b\b- \b\b\\ \b\b| \b\b/ \b\b- \b\b\\ \b\b| \b\b/ \b\b- \b\b\\ \b\b| \b\b/ \b\b- \b\b\\ \b\b| \b\b/ \b\b- \b\b\\ \b\b| \b\b/ \b\b- \b\b\\ \b\b| \b\b/ \b\b- \b\b\\ \b\b| \b\b/ \b\b- \b\b\\ \b\b| \b\b/ \b\b- \b\b\\ \b\b| \b\b/ \b\b- \b\b\\ \b\b| \b\b/ \b\b- \b\b\\ \b\b| \b\b/ \b\b- \b\b\\ \b\b| \b\b/ \b\b- \b\b\\ \b\b| \b\b/ \b\b- \b\b\\ \b\b| \b\b/ \b\b- \b\b\\ \b\b| \b\b/ \b\b- \b\b\\ \b\b| \b\b/ \b\b- \b\b\\ \b\b| \b\b/ \b\b- \b\b\\ \b\b| \b\b/ \b\b- \b\b\\ \b\b| \b\b/ \b\b- \b\b\\ \b\b| \b\b/ \b\b- \b\b\\ \b\b| \b\b/ \b\b- \b\b\\ \b\b| \b\b/ \b\b- \b\b\\ \b\b| \b\b/ \b\b- \b\b\\ \b\b| \b\b/ \b\b- \b\b\\ \b\b| \b\b/ \b\b- \b\b\\ \b\b| \b\b/ \b\b- \b\b\\ \b\b| \b\b/ \b\b- \b\b\\ \b\b| \b\b/ \b\b- \b\b\\ \b\b| \b\b/ \b\b- \b\b\\ \b\b| \b\b/ \b\b- \b\b\\ \b\b| \b\b/ \b\b- \b\b\\ \b\b| \b\b/ \b\b- \b\b\\ \b\b| \b\b/ \b\b- \b\b\\ \b\b| \b\b/ \b\b- \b\b\\ \b\b| \b\b/ \b\b- \b\b\\ \b\b| \b\b/ \b\bdone\n"
          ],
          "name": "stdout"
        }
      ]
    },
    {
      "cell_type": "markdown",
      "metadata": {
        "id": "l5UALDZdF3yx"
      },
      "source": [
        "Installiamo il framework **Keras**"
      ]
    },
    {
      "cell_type": "code",
      "metadata": {
        "id": "MtCZrAf_wYnF",
        "colab": {
          "base_uri": "https://localhost:8080/",
          "height": 677
        },
        "outputId": "b109a65b-84d3-4fe4-e295-9c4e340b4b56"
      },
      "source": [
        "!conda install keras "
      ],
      "execution_count": null,
      "outputs": [
        {
          "output_type": "stream",
          "text": [
            "Collecting package metadata (current_repodata.json): - \b\b\\ \b\b| \b\b/ \b\b- \b\b\\ \b\b| \b\b/ \b\b- \b\bdone\n",
            "Solving environment: | \b\b/ \b\b- \b\b\\ \b\b| \b\b/ \b\b- \b\b\\ \b\b| \b\b/ \b\b- \b\b\\ \b\b| \b\b/ \b\b- \b\bdone\n",
            "\n",
            "## Package Plan ##\n",
            "\n",
            "  environment location: /usr/local\n",
            "\n",
            "  added / updated specs:\n",
            "    - keras\n",
            "\n",
            "\n",
            "The following packages will be downloaded:\n",
            "\n",
            "    package                    |            build\n",
            "    ---------------------------|-----------------\n",
            "    keras-2.3.1                |                0          12 KB\n",
            "    keras-base-2.3.1           |           py36_0         495 KB\n",
            "    pyyaml-5.3.1               |   py36h7b6447c_0         180 KB\n",
            "    ------------------------------------------------------------\n",
            "                                           Total:         687 KB\n",
            "\n",
            "The following NEW packages will be INSTALLED:\n",
            "\n",
            "  keras              pkgs/main/linux-64::keras-2.3.1-0\n",
            "  keras-base         pkgs/main/linux-64::keras-base-2.3.1-py36_0\n",
            "  pyyaml             pkgs/main/linux-64::pyyaml-5.3.1-py36h7b6447c_0\n",
            "\n",
            "\n",
            "Proceed ([y]/n)? y\n",
            "\n",
            "\n",
            "Downloading and Extracting Packages\n",
            "pyyaml-5.3.1         | 180 KB    | : 100% 1.0/1 [00:00<00:00,  8.73it/s]\n",
            "keras-base-2.3.1     | 495 KB    | : 100% 1.0/1 [00:00<00:00, 11.62it/s]\n",
            "keras-2.3.1          | 12 KB     | : 100% 1.0/1 [00:00<00:00, 25.07it/s]\n",
            "Preparing transaction: | \b\bdone\n",
            "Verifying transaction: - \b\bdone\n",
            "Executing transaction: | \b\bdone\n"
          ],
          "name": "stdout"
        }
      ]
    },
    {
      "cell_type": "markdown",
      "metadata": {
        "id": "TT0VWOZxF71i"
      },
      "source": [
        "Installiamo **OpenCV**"
      ]
    },
    {
      "cell_type": "code",
      "metadata": {
        "id": "A6D9xMYb8cUk",
        "colab": {
          "base_uri": "https://localhost:8080/",
          "height": 1000
        },
        "outputId": "0e40697c-4e8c-450c-b447-95777f561c64"
      },
      "source": [
        "!conda install -c anaconda opencv "
      ],
      "execution_count": null,
      "outputs": [
        {
          "output_type": "stream",
          "text": [
            "Collecting package metadata (current_repodata.json): - \b\b\\ \b\b| \b\b/ \b\b- \b\b\\ \b\b| \b\b/ \b\b- \b\b\\ \b\b| \b\bdone\n",
            "Solving environment: - \b\b\\ \b\b| \b\b/ \b\b- \b\b\\ \b\b| \b\b/ \b\b- \b\b\\ \b\b| \b\b/ \b\b- \b\b\\ \b\b| \b\b/ \b\b- \b\b\\ \b\b| \b\b/ \b\b- \b\b\\ \b\b| \b\b/ \b\b- \b\b\\ \b\b| \b\b/ \b\b- \b\b\\ \b\b| \b\b/ \b\b- \b\b\\ \b\b| \b\b/ \b\b- \b\b\\ \b\b| \b\b/ \b\b- \b\b\\ \b\b| \b\b/ \b\b- \b\b\\ \b\b| \b\b/ \b\b- \b\b\\ \b\b| \b\b/ \b\b- \b\b\\ \b\b| \b\b/ \b\b- \b\b\\ \b\b| \b\b/ \b\b- \b\b\\ \b\b| \b\b/ \b\b- \b\b\\ \b\b| \b\b/ \b\b- \b\b\\ \b\b| \b\b/ \b\b- \b\b\\ \b\bfailed with initial frozen solve. Retrying with flexible solve.\n",
            "Solving environment: / \b\b- \b\b\\ \b\b| \b\b/ \b\b- \b\b\\ \b\b| \b\b/ \b\b- \b\b\\ \b\b| \b\b/ \b\b- \b\b\\ \b\b| \b\b/ \b\b- \b\b\\ \b\b| \b\b/ \b\b- \b\b\\ \b\b| \b\b/ \b\b- \b\b\\ \b\b| \b\b/ \b\b- \b\b\\ \b\b| \b\b/ \b\b- \b\b\\ \b\b| \b\b/ \b\b- \b\b\\ \b\b| \b\b/ \b\b- \b\b\\ \b\b| \b\b/ \b\b- \b\b\\ \b\b| \b\b/ \b\b- \b\b\\ \b\b| \b\b/ \b\b- \b\b\\ \b\b| \b\b/ \b\b- \b\b\\ \b\b| \b\b/ \b\b- \b\b\\ \b\b| \b\b/ \b\b- \b\b\\ \b\b| \b\b/ \b\b- \b\b\\ \b\b| \b\b/ \b\b- \b\b\\ \b\b| \b\b/ \b\b- \b\b\\ \b\b| \b\b/ \b\b- \b\b\\ \b\b| \b\b/ \b\b- \b\b\\ \b\b| \b\b/ \b\b- \b\b\\ \b\b| \b\b/ \b\b- \b\b\\ \b\bfailed with repodata from current_repodata.json, will retry with next repodata source.\n",
            "Collecting package metadata (repodata.json): / \b\b- \b\b\\ \b\b| \b\b/ \b\b- \b\b\\ \b\b| \b\b/ \b\b- \b\b\\ \b\b| \b\b/ \b\b- \b\b\\ \b\b| \b\b/ \b\b- \b\b\\ \b\b| \b\b/ \b\b- \b\b\\ \b\b| \b\b/ \b\b- \b\b\\ \b\b| \b\b/ \b\b- \b\bdone\n",
            "Solving environment: | \b\b/ \b\b- \b\b\\ \b\b| \b\b/ \b\b- \b\b\\ \b\b| \b\b/ \b\b- \b\b\\ \b\b| \b\b/ \b\b- \b\b\\ \b\b| \b\b/ \b\b- \b\b\\ \b\b| \b\b/ \b\b- \b\b\\ \b\b| \b\b/ \b\b- \b\b\\ \b\b| \b\b/ \b\b- \b\b\\ \b\b| \b\b/ \b\b- \b\b\\ \b\b| \b\b/ \b\b- \b\b\\ \b\b| \b\b/ \b\b- \b\b\\ \b\b| \b\b/ \b\b- \b\b\\ \b\b| \b\b/ \b\b- \b\b\\ \b\b| \b\b/ \b\b- \b\b\\ \b\b| \b\b/ \b\b- \b\b\\ \b\b| \b\b/ \b\b- \b\b\\ \b\b| \b\b/ \b\b- \b\b\\ \b\b| \b\b/ \b\b- \b\b\\ \b\b| \b\b/ \b\b- \b\b\\ \b\b| \b\b/ \b\b- \b\b\\ \b\b| \b\b/ \b\b- \b\b\\ \b\b| \b\b/ \b\b- \b\b\\ \b\b| \b\b/ \b\b- \b\b\\ \b\b| \b\b/ \b\b- \b\b\\ \b\b| \b\b/ \b\b- \b\b\\ \b\b| \b\b/ \b\b- \b\b\\ \b\b| \b\b/ \b\b- \b\b\\ \b\b| \b\b/ \b\b- \b\b\\ \b\b| \b\b/ \b\b- \b\b\\ \b\b| \b\b/ \b\b- \b\b\\ \b\b| \b\b/ \b\b- \b\b\\ \b\b| \b\b/ \b\b- \b\b\\ \b\b| \b\b/ \b\b- \b\b\\ \b\b| \b\b/ \b\b- \b\b\\ \b\b| \b\b/ \b\b- \b\b\\ \b\b| \b\b/ \b\b- \b\b\\ \b\b| \b\b/ \b\b- \b\b\\ \b\b| \b\b/ \b\b- \b\b\\ \b\b| \b\b/ \b\b- \b\b\\ \b\b| \b\b/ \b\b- \b\b\\ \b\b| \b\b/ \b\b- \b\b\\ \b\b| \b\b/ \b\b- \b\b\\ \b\b| \b\b/ \b\b- \b\b\\ \b\b| \b\b/ \b\b- \b\b\\ \b\b| \b\b/ \b\b- \b\b\\ \b\b| \b\b/ \b\b- \b\b\\ \b\b| \b\b/ \b\b- \b\b\\ \b\b| \b\b/ \b\b- \b\b\\ \b\b| \b\b/ \b\b- \b\b\\ \b\b| \b\b/ \b\b- \b\b\\ \b\b| \b\b/ \b\b- \b\b\\ \b\b| \b\b/ \b\b- \b\b\\ \b\bdone\n",
            "\n",
            "## Package Plan ##\n",
            "\n",
            "  environment location: /usr/local\n",
            "\n",
            "  added / updated specs:\n",
            "    - opencv\n",
            "\n",
            "\n",
            "The following packages will be downloaded:\n",
            "\n",
            "    package                    |            build\n",
            "    ---------------------------|-----------------\n",
            "    bzip2-1.0.8                |       h7b6447c_0         105 KB  anaconda\n",
            "    ca-certificates-2020.6.24  |                0         133 KB  anaconda\n",
            "    cairo-1.14.12              |       h8948797_3         1.3 MB  anaconda\n",
            "    certifi-2020.6.20          |           py36_0         160 KB  anaconda\n",
            "    conda-4.8.3                |           py36_0         3.0 MB  anaconda\n",
            "    ffmpeg-4.0                 |       hcdf2ecd_0        73.7 MB  anaconda\n",
            "    fontconfig-2.13.0          |       h9420a91_0         291 KB  anaconda\n",
            "    freeglut-3.0.0             |       hf484d3e_5         251 KB  anaconda\n",
            "    freetype-2.10.2            |       h5ab3b9f_0         915 KB  anaconda\n",
            "    glib-2.56.2                |       hd408876_0         5.0 MB  anaconda\n",
            "    graphite2-1.3.14           |       h23475e2_0         102 KB  anaconda\n",
            "    h5py-2.8.0                 |   py36h989c5e5_3         1.1 MB  anaconda\n",
            "    harfbuzz-1.8.8             |       hffaf4a1_0         863 KB  anaconda\n",
            "    hdf5-1.10.2                |       hba1933b_1         5.2 MB  anaconda\n",
            "    icu-58.2                   |       he6710b0_3        22.7 MB  anaconda\n",
            "    jasper-2.0.14              |       h07fcdf6_1         1.1 MB  anaconda\n",
            "    jpeg-9b                    |       habf39ab_1         247 KB  anaconda\n",
            "    libglu-9.0.0               |       hf484d3e_1         377 KB  anaconda\n",
            "    libopencv-3.4.2            |       hb342d67_1        40.4 MB  anaconda\n",
            "    libopus-1.3.1              |       h7b6447c_0         570 KB  anaconda\n",
            "    libpng-1.6.37              |       hbc83047_0         364 KB  anaconda\n",
            "    libtiff-4.1.0              |       h2733197_0         589 KB  anaconda\n",
            "    libuuid-1.0.3              |       h1bed415_2          16 KB  anaconda\n",
            "    libvpx-1.7.0               |       h439df22_0         2.4 MB  anaconda\n",
            "    libxcb-1.14                |       h7b6447c_0         610 KB  anaconda\n",
            "    libxml2-2.9.9              |       hea5a465_1         2.0 MB  anaconda\n",
            "    opencv-3.4.2               |   py36h6fd60c2_1          11 KB  anaconda\n",
            "    openssl-1.1.1g             |       h7b6447c_0         3.8 MB  anaconda\n",
            "    pcre-8.44                  |       he6710b0_0         269 KB  anaconda\n",
            "    pixman-0.40.0              |       h7b6447c_0         628 KB  anaconda\n",
            "    py-opencv-3.4.2            |   py36hb342d67_1         1.2 MB  anaconda\n",
            "    zstd-1.3.7                 |       h0b5b093_0         887 KB  anaconda\n",
            "    ------------------------------------------------------------\n",
            "                                           Total:       170.1 MB\n",
            "\n",
            "The following NEW packages will be INSTALLED:\n",
            "\n",
            "  bzip2              anaconda/linux-64::bzip2-1.0.8-h7b6447c_0\n",
            "  cairo              anaconda/linux-64::cairo-1.14.12-h8948797_3\n",
            "  ffmpeg             anaconda/linux-64::ffmpeg-4.0-hcdf2ecd_0\n",
            "  fontconfig         anaconda/linux-64::fontconfig-2.13.0-h9420a91_0\n",
            "  freeglut           anaconda/linux-64::freeglut-3.0.0-hf484d3e_5\n",
            "  freetype           anaconda/linux-64::freetype-2.10.2-h5ab3b9f_0\n",
            "  glib               anaconda/linux-64::glib-2.56.2-hd408876_0\n",
            "  graphite2          anaconda/linux-64::graphite2-1.3.14-h23475e2_0\n",
            "  harfbuzz           anaconda/linux-64::harfbuzz-1.8.8-hffaf4a1_0\n",
            "  icu                anaconda/linux-64::icu-58.2-he6710b0_3\n",
            "  jasper             anaconda/linux-64::jasper-2.0.14-h07fcdf6_1\n",
            "  jpeg               anaconda/linux-64::jpeg-9b-habf39ab_1\n",
            "  libglu             anaconda/linux-64::libglu-9.0.0-hf484d3e_1\n",
            "  libopencv          anaconda/linux-64::libopencv-3.4.2-hb342d67_1\n",
            "  libopus            anaconda/linux-64::libopus-1.3.1-h7b6447c_0\n",
            "  libpng             anaconda/linux-64::libpng-1.6.37-hbc83047_0\n",
            "  libtiff            anaconda/linux-64::libtiff-4.1.0-h2733197_0\n",
            "  libuuid            anaconda/linux-64::libuuid-1.0.3-h1bed415_2\n",
            "  libvpx             anaconda/linux-64::libvpx-1.7.0-h439df22_0\n",
            "  libxcb             anaconda/linux-64::libxcb-1.14-h7b6447c_0\n",
            "  libxml2            anaconda/linux-64::libxml2-2.9.9-hea5a465_1\n",
            "  opencv             anaconda/linux-64::opencv-3.4.2-py36h6fd60c2_1\n",
            "  pcre               anaconda/linux-64::pcre-8.44-he6710b0_0\n",
            "  pixman             anaconda/linux-64::pixman-0.40.0-h7b6447c_0\n",
            "  py-opencv          anaconda/linux-64::py-opencv-3.4.2-py36hb342d67_1\n",
            "  zstd               anaconda/linux-64::zstd-1.3.7-h0b5b093_0\n",
            "\n",
            "The following packages will be SUPERSEDED by a higher-priority channel:\n",
            "\n",
            "  ca-certificates                                 pkgs/main --> anaconda\n",
            "  certifi                                         pkgs/main --> anaconda\n",
            "  conda                                           pkgs/main --> anaconda\n",
            "  h5py                pkgs/main::h5py-2.10.0-py36hd6299e0_1 --> anaconda::h5py-2.8.0-py36h989c5e5_3\n",
            "  hdf5                    pkgs/main::hdf5-1.10.6-hb1b8bf9_0 --> anaconda::hdf5-1.10.2-hba1933b_1\n",
            "  openssl                                         pkgs/main --> anaconda\n",
            "\n",
            "\n",
            "Proceed ([y]/n)? y\n",
            "\n",
            "\n",
            "Downloading and Extracting Packages\n",
            "jpeg-9b              | 247 KB    | : 100% 1.0/1 [00:00<00:00,  7.77it/s]\n",
            "zstd-1.3.7           | 887 KB    | : 100% 1.0/1 [00:00<00:00,  6.07it/s]\n",
            "libpng-1.6.37        | 364 KB    | : 100% 1.0/1 [00:00<00:00, 10.35it/s]\n",
            "libopencv-3.4.2      | 40.4 MB   | : 100% 1.0/1 [00:08<00:00,  8.58s/it]               \n",
            "libglu-9.0.0         | 377 KB    | : 100% 1.0/1 [00:00<00:00,  9.01it/s]\n",
            "libvpx-1.7.0         | 2.4 MB    | : 100% 1.0/1 [00:00<00:00,  2.47it/s]\n",
            "libuuid-1.0.3        | 16 KB     | : 100% 1.0/1 [00:00<00:00, 36.77it/s]\n",
            "ca-certificates-2020 | 133 KB    | : 100% 1.0/1 [00:00<00:00, 16.42it/s]\n",
            "pcre-8.44            | 269 KB    | : 100% 1.0/1 [00:00<00:00, 12.01it/s]\n",
            "hdf5-1.10.2          | 5.2 MB    | : 100% 1.0/1 [00:01<00:00, 21.21s/it]               \n",
            "glib-2.56.2          | 5.0 MB    | : 100% 1.0/1 [00:01<00:00,  1.37s/it]\n",
            "openssl-1.1.1g       | 3.8 MB    | : 100% 1.0/1 [00:00<00:00,  1.50it/s]\n",
            "icu-58.2             | 22.7 MB   | : 100% 1.0/1 [00:03<00:00,  4.76s/it]              \n",
            "libxml2-2.9.9        | 2.0 MB    | : 100% 1.0/1 [00:00<00:00,  2.08it/s]\n",
            "libxcb-1.14          | 610 KB    | : 100% 1.0/1 [00:00<00:00,  5.46it/s]\n",
            "libopus-1.3.1        | 570 KB    | : 100% 1.0/1 [00:00<00:00,  7.71it/s]\n",
            "jasper-2.0.14        | 1.1 MB    | : 100% 1.0/1 [00:00<00:00,  4.64it/s]\n",
            "freetype-2.10.2      | 915 KB    | : 100% 1.0/1 [00:00<00:00,  5.50it/s]\n",
            "cairo-1.14.12        | 1.3 MB    | : 100% 1.0/1 [00:00<00:00,  3.50it/s]\n",
            "pixman-0.40.0        | 628 KB    | : 100% 1.0/1 [00:00<00:00,  8.06it/s]\n",
            "py-opencv-3.4.2      | 1.2 MB    | : 100% 1.0/1 [00:00<00:00,  3.93it/s]\n",
            "certifi-2020.6.20    | 160 KB    | : 100% 1.0/1 [00:00<00:00, 14.49it/s]\n",
            "ffmpeg-4.0           | 73.7 MB   | : 100% 1.0/1 [00:10<00:00, 10.22s/it]               \n",
            "opencv-3.4.2         | 11 KB     | : 100% 1.0/1 [00:00<00:00, 36.95it/s]\n",
            "conda-4.8.3          | 3.0 MB    | : 100% 1.0/1 [00:00<00:00,  1.42it/s]\n",
            "harfbuzz-1.8.8       | 863 KB    | : 100% 1.0/1 [00:00<00:00,  5.87it/s]\n",
            "graphite2-1.3.14     | 102 KB    | : 100% 1.0/1 [00:00<00:00, 11.98it/s]\n",
            "libtiff-4.1.0        | 589 KB    | : 100% 1.0/1 [00:00<00:00,  7.41it/s]\n",
            "bzip2-1.0.8          | 105 KB    | : 100% 1.0/1 [00:00<00:00, 17.70it/s]\n",
            "fontconfig-2.13.0    | 291 KB    | : 100% 1.0/1 [00:00<00:00, 10.37it/s]\n",
            "freeglut-3.0.0       | 251 KB    | : 100% 1.0/1 [00:00<00:00, 12.19it/s]\n",
            "h5py-2.8.0           | 1.1 MB    | : 100% 1.0/1 [00:00<00:00,  4.00s/it]               \n",
            "Preparing transaction: / \b\b- \b\bdone\n",
            "Verifying transaction: | \b\b/ \b\b- \b\b\\ \b\b| \b\b/ \b\b- \b\b\\ \b\b| \b\b/ \b\b- \b\b\\ \b\b| \b\b/ \b\b- \b\b\\ \b\b| \b\b/ \b\b- \b\b\\ \b\b| \b\b/ \b\b- \b\b\\ \b\b| \b\b/ \b\b- \b\bdone\n",
            "Executing transaction: | \b\b/ \b\b- \b\b\\ \b\b| \b\bdone\n"
          ],
          "name": "stdout"
        }
      ]
    },
    {
      "cell_type": "markdown",
      "metadata": {
        "id": "VjGWnoJ-F-Sz"
      },
      "source": [
        "Installiamo **torchvison** (può richiedere più di 1min)"
      ]
    },
    {
      "cell_type": "code",
      "metadata": {
        "id": "eLSSE_TG9QV8",
        "colab": {
          "base_uri": "https://localhost:8080/",
          "height": 1000
        },
        "outputId": "d1c97bcc-9c6e-456f-b61d-6661b2a80c33"
      },
      "source": [
        "!conda install torchvision -c pytorch "
      ],
      "execution_count": null,
      "outputs": [
        {
          "output_type": "stream",
          "text": [
            "Collecting package metadata (current_repodata.json): - \b\b\\ \b\b| \b\b/ \b\b- \b\b\\ \b\b| \b\b/ \b\b- \b\b\\ \b\b| \b\b/ \b\b- \b\b\\ \b\b| \b\b/ \b\b- \b\b\\ \b\b| \b\b/ \b\b- \b\b\\ \b\b| \b\b/ \b\b- \b\b\\ \b\b| \b\bdone\n",
            "Solving environment: - \b\b\\ \b\b| \b\b/ \b\b- \b\b\\ \b\b| \b\b/ \b\b- \b\b\\ \b\b| \b\b/ \b\b- \b\b\\ \b\b| \b\b/ \b\b- \b\b\\ \b\b| \b\b/ \b\b- \b\b\\ \b\b| \b\b/ \b\b- \b\b\\ \b\b| \b\b/ \b\b- \b\b\\ \b\b| \n",
            "Warning: >10 possible package resolutions (only showing differing packages):\n",
            "  - anaconda/linux-64::ca-certificates-2020.6.24-0, anaconda/linux-64::certifi-2020.6.20-py36_0, anaconda/linux-64::conda-4.8.3-py36_0, anaconda/linux-64::openssl-1.1.1g-h7b6447c_0\n",
            "  - anaconda/linux-64::ca-certificates-2020.6.24-0, anaconda/linux-64::certifi-2020.6.20-py36_0, anaconda/linux-64::openssl-1.1.1g-h7b6447c_0, defaults/linux-64::conda-4.8.3-py36_0\n",
            "  - anaconda/linux-64::ca-certificates-2020.6.24-0, anaconda/linux-64::conda-4.8.3-py36_0, anaconda/linux-64::openssl-1.1.1g-h7b6447c_0, defaults/linux-64::certifi-2020.6.20-py36_0\n",
            "  - anaconda/linux-64::ca-certificates-2020.6.24-0, anaconda/linux-64::openssl-1.1.1g-h7b6447c_0, defaults/linux-64::certifi-2020.6.20-py36_0, defaults/linux-64::conda-4.8.3-py36_0\n",
            "  - anaconda/linux-64::conda-4.8.3-py36_0, anaconda/linux-64::openssl-1.1.1g-h7b6447c_0, defaults/linux-64::ca-certificates-2020.6.24-0, defaults/linux-64::certifi-2020.6.20-py36_0\n",
            "  - anaconda/linux-64::openssl-1.1.1g-h7b6447c_0, defaults/linux-64::ca-certificates-2020.6.24-0, defaults/linux-64::certifi-2020.6.20-py36_0, defaults/linux-64::conda-4.8.3-py36_0\n",
            "  - anaconda/linux-64::certifi-2020.6.20-py36_0, anaconda/linux-64::conda-4.8.3-py36_0, anaconda/linux-64::openssl-1.1.1g-h7b6447c_0, defaults/linux-64::ca-certificates-2020.6.24-0\n",
            "  - anaconda/linux-64::certifi-2020.6.20-py36_0, anaconda/linux-64::openssl-1.1.1g-h7b6447c_0, defaults/linux-64::ca-certificates-2020.6.24-0, defaults/linux-64::conda-4.8.3-py36_0\n",
            "  - anaconda/linux-64::certifi-2020.6.20-py36_0, anaconda/linux-64::conda-4.8.3-py36_0, defaults/linux-64::ca-certificates-2020.6.24-0, defaults/linux-64::openssl-1.1.1g-h7b6447c_0\n",
            "  - anaconda/linux-64::ca-certificates-2020.6.24-0, anaconda/linux-64::certifi-2020.6.20-py36_0, anaconda/linux-64::conda-4.8.3-py36_0, defaults/linux-64::openssl-1.1.1g-h7b6447c_0\n",
            "  ... and others\b\bdone\n",
            "\n",
            "## Package Plan ##\n",
            "\n",
            "  environment location: /usr/local\n",
            "\n",
            "  added / updated specs:\n",
            "    - torchvision\n",
            "\n",
            "\n",
            "The following packages will be downloaded:\n",
            "\n",
            "    package                    |            build\n",
            "    ---------------------------|-----------------\n",
            "    ninja-1.9.0                |   py36hfd86e86_0         1.2 MB\n",
            "    olefile-0.46               |           py36_0          48 KB\n",
            "    pillow-7.0.0               |   py36hb39fc2d_0         600 KB\n",
            "    pytorch-1.4.0              |py3.6_cuda10.0.130_cudnn7.6.3_0       422.5 MB  pytorch\n",
            "    torchvision-0.5.0          |       py36_cu100         9.1 MB  pytorch\n",
            "    ------------------------------------------------------------\n",
            "                                           Total:       433.4 MB\n",
            "\n",
            "The following NEW packages will be INSTALLED:\n",
            "\n",
            "  ninja              pkgs/main/linux-64::ninja-1.9.0-py36hfd86e86_0\n",
            "  olefile            pkgs/main/linux-64::olefile-0.46-py36_0\n",
            "  pillow             pkgs/main/linux-64::pillow-7.0.0-py36hb39fc2d_0\n",
            "  pytorch            pytorch/linux-64::pytorch-1.4.0-py3.6_cuda10.0.130_cudnn7.6.3_0\n",
            "  torchvision        pytorch/linux-64::torchvision-0.5.0-py36_cu100\n",
            "\n",
            "\n",
            "Proceed ([y]/n)? y\n",
            "\n",
            "\n",
            "Downloading and Extracting Packages\n",
            "ninja-1.9.0          | 1.2 MB    | : 100% 1.0/1 [00:00<00:00,  6.71it/s]\n",
            "pytorch-1.4.0        | 422.5 MB  | : 100% 1.0/1 [01:11<00:00, 71.88s/it]              \n",
            "torchvision-0.5.0    | 9.1 MB    | : 100% 1.0/1 [00:02<00:00,  2.73s/it]               \n",
            "olefile-0.46         | 48 KB     | : 100% 1.0/1 [00:00<00:00, 22.77it/s]\n",
            "pillow-7.0.0         | 600 KB    | : 100% 1.0/1 [00:00<00:00, 11.39it/s]\n",
            "Preparing transaction: - \b\b\\ \b\bdone\n",
            "Verifying transaction: / \b\b- \b\b\\ \b\b| \b\b/ \b\b- \b\bdone\n",
            "Executing transaction: | \b\b/ \b\b- \b\b\\ \b\b| \b\bdone\n"
          ],
          "name": "stdout"
        }
      ]
    },
    {
      "cell_type": "markdown",
      "metadata": {
        "id": "0fzXGG0ZHkmT"
      },
      "source": [
        "Installiamo la libreria **scikit-learn**"
      ]
    },
    {
      "cell_type": "code",
      "metadata": {
        "id": "sC7-4JXJ-KW4",
        "colab": {
          "base_uri": "https://localhost:8080/",
          "height": 677
        },
        "outputId": "ba0e64cb-bef6-4033-f58f-7d1a82a74942"
      },
      "source": [
        " !conda install -c anaconda scikit-learn "
      ],
      "execution_count": null,
      "outputs": [
        {
          "output_type": "stream",
          "text": [
            "Collecting package metadata (current_repodata.json): - \b\b\\ \b\b| \b\b/ \b\b- \b\b\\ \b\b| \b\b/ \b\b- \b\b\\ \b\b| \b\b/ \b\bdone\n",
            "Solving environment: \\ \b\b| \b\b/ \b\b- \b\b\\ \b\b| \b\b/ \b\b- \b\b\\ \b\b| \b\b/ \b\b- \b\b\\ \b\b| \b\b/ \b\b- \b\b\\ \b\b| \b\b/ \b\b- \b\b\\ \b\b| \b\b/ \b\b- \b\b\\ \b\b| \b\b/ \b\b- \b\bdone\n",
            "\n",
            "## Package Plan ##\n",
            "\n",
            "  environment location: /usr/local\n",
            "\n",
            "  added / updated specs:\n",
            "    - scikit-learn\n",
            "\n",
            "\n",
            "The following packages will be downloaded:\n",
            "\n",
            "    package                    |            build\n",
            "    ---------------------------|-----------------\n",
            "    joblib-0.16.0              |             py_0         210 KB  anaconda\n",
            "    scikit-learn-0.23.1        |   py36h423224d_0         5.1 MB\n",
            "    threadpoolctl-2.1.0        |     pyh5ca1d4c_0          16 KB  anaconda\n",
            "    ------------------------------------------------------------\n",
            "                                           Total:         5.3 MB\n",
            "\n",
            "The following NEW packages will be INSTALLED:\n",
            "\n",
            "  joblib             anaconda/noarch::joblib-0.16.0-py_0\n",
            "  scikit-learn       pkgs/main/linux-64::scikit-learn-0.23.1-py36h423224d_0\n",
            "  threadpoolctl      anaconda/noarch::threadpoolctl-2.1.0-pyh5ca1d4c_0\n",
            "\n",
            "\n",
            "Proceed ([y]/n)? y\n",
            "\n",
            "\n",
            "Downloading and Extracting Packages\n",
            "scikit-learn-0.23.1  | 5.1 MB    | : 100% 1.0/1 [00:00<00:00,  2.32it/s]                \n",
            "joblib-0.16.0        | 210 KB    | : 100% 1.0/1 [00:00<00:00,  7.78it/s]\n",
            "threadpoolctl-2.1.0  | 16 KB     | : 100% 1.0/1 [00:00<00:00, 23.67it/s]\n",
            "Preparing transaction: | \b\bdone\n",
            "Verifying transaction: - \b\b\\ \b\bdone\n",
            "Executing transaction: / \b\b- \b\b\\ \b\b| \b\b/ \b\b- \b\b\\ \b\b| \b\bdone\n"
          ],
          "name": "stdout"
        }
      ]
    },
    {
      "cell_type": "markdown",
      "metadata": {
        "id": "CacelFbFHifj"
      },
      "source": [
        "Installiamo **dlib**, è una libreria c++ che va compilata. Le vCPU di Colab sono lente, l'operazione richiede circa 12 minuti"
      ]
    },
    {
      "cell_type": "code",
      "metadata": {
        "id": "ifPr-KyQDcVz",
        "colab": {
          "base_uri": "https://localhost:8080/",
          "height": 211
        },
        "outputId": "db1f669c-ac76-4a64-aa13-90344b8aa39f"
      },
      "source": [
        "!pip install dlib"
      ],
      "execution_count": null,
      "outputs": [
        {
          "output_type": "stream",
          "text": [
            "Collecting dlib\n",
            "  Downloading dlib-19.20.0.tar.gz (3.2 MB)\n",
            "\u001b[K     |████████████████████████████████| 3.2 MB 6.9 MB/s \n",
            "\u001b[?25hBuilding wheels for collected packages: dlib\n",
            "  Building wheel for dlib (setup.py) ... \u001b[?25l\u001b[?25hdone\n",
            "  Created wheel for dlib: filename=dlib-19.20.0-cp36-cp36m-linux_x86_64.whl size=4079145 sha256=e021b5f93dfa1c4114306a5546428b2f38485bfa0805920fcdd2ce6b999ecb81\n",
            "  Stored in directory: /root/.cache/pip/wheels/7a/69/00/67fd3b8ab3cfbc54d4bc8e7c8947dafc598e69a9f6a42d34db\n",
            "Successfully built dlib\n",
            "Installing collected packages: dlib\n",
            "Successfully installed dlib-19.20.0\n"
          ],
          "name": "stdout"
        }
      ]
    },
    {
      "cell_type": "markdown",
      "metadata": {
        "id": "OhYy1dBeIZBt"
      },
      "source": [
        "Installiamo **imutils**"
      ]
    },
    {
      "cell_type": "code",
      "metadata": {
        "id": "lTHOHhqwGnQ2",
        "colab": {
          "base_uri": "https://localhost:8080/",
          "height": 34
        },
        "outputId": "66b23bd1-b9d4-4d0f-ce98-1876d1bd5b3b"
      },
      "source": [
        "!pip install imutils"
      ],
      "execution_count": null,
      "outputs": [
        {
          "output_type": "stream",
          "text": [
            "Requirement already satisfied: imutils in /usr/local/lib/python3.6/site-packages (0.5.3)\n"
          ],
          "name": "stdout"
        }
      ]
    },
    {
      "cell_type": "markdown",
      "metadata": {
        "id": "j9icNh1NUU9x"
      },
      "source": [
        "**ATTENZIONE: ESEGUIRE LA CELLA SUCCESSIVA SOLO NEL CASO IN CUI SI VOGLIA TESTARE LA SOLUZIONE CON UN'IMMAGINE PROPRIA, LA CELLA SUCCESSIVA ELIMINERÀ L'IMMAGINE DI ESEMPIO (LEONARDO DI CAPRIO)**"
      ]
    },
    {
      "cell_type": "code",
      "metadata": {
        "id": "KvfGAI_qWlrE",
        "colab": {
          "base_uri": "https://localhost:8080/",
          "height": 69
        },
        "outputId": "29d23658-e3e9-4218-f816-277543f5c4db"
      },
      "source": [
        "!rm -r /content/StyleGAN/stylegan-encoder/input/*\n",
        "!rm -r /content/StyleGAN/stylegan-encoder/output/latent/*\n",
        "!rm -r /content/StyleGAN/stylegan-encoder/output/aligned/*\n",
        "!rm -r /content/StyleGAN/stylegan-encoder/output/generated/*"
      ],
      "execution_count": null,
      "outputs": [
        {
          "output_type": "stream",
          "text": [
            "rm: cannot remove '/content/StyleGAN/stylegan-encoder/input/*': No such file or directory\n",
            "rm: cannot remove '/content/StyleGAN/stylegan-encoder/output/latent/*': No such file or directory\n",
            "rm: cannot remove '/content/StyleGAN/stylegan-encoder/output/aligned/*': No such file or directory\n"
          ],
          "name": "stdout"
        }
      ]
    },
    {
      "cell_type": "markdown",
      "metadata": {
        "id": "nwPBow6YKcpE"
      },
      "source": [
        "E' possibile caricare l'immagine del soggetto da invecchiare facendo tasto destro e ***upload*** sulla cartella ***stylegan-encoder/input***  (si consiglia un'immagine ad alta risoluzione sopra i 1600x1600 con il viso in primo piano)"
      ]
    },
    {
      "cell_type": "markdown",
      "metadata": {
        "id": "cUMu9IenaAXk"
      },
      "source": [
        "# **ALLINEAMENTO**"
      ]
    },
    {
      "cell_type": "markdown",
      "metadata": {
        "id": "2OzyD0FNLNLT"
      },
      "source": [
        "Effettuiamo l'allineamento dell'immagine caricata, avremo in output un'immagine 1024x1024, è possibile vedere l'output dalla cartella  ***StyleGAN/stylegan-encoder/output/aligned***."
      ]
    },
    {
      "cell_type": "code",
      "metadata": {
        "id": "hKHzV8fQKlj4",
        "colab": {
          "base_uri": "https://localhost:8080/",
          "height": 139
        },
        "outputId": "73c0888a-1b81-428d-8863-6d15547bfe1a"
      },
      "source": [
        "!python3.6 /content/StyleGAN/stylegan-encoder/align_images.py /content/StyleGAN/stylegan-encoder/input /content/StyleGAN/stylegan-encoder/output/aligned/ --output_size=1024"
      ],
      "execution_count": null,
      "outputs": [
        {
          "output_type": "stream",
          "text": [
            "Using TensorFlow backend.\n",
            "Downloading data from http://dlib.net/files/shape_predictor_68_face_landmarks.dat.bz2\n",
            "64045056/64040097 [==============================] - 5s 0us/step\n",
            "Aligning 1990_Venice_Film_Festival_Robert_De_Niro.jpg ...\n",
            "Getting landmarks...\n",
            "Starting face alignment...\n",
            "Wrote result /content/StyleGAN/stylegan-encoder/output/aligned/1990_Venice_Film_Festival_Robert_De_Niro_01.png\n"
          ],
          "name": "stdout"
        }
      ]
    },
    {
      "cell_type": "markdown",
      "metadata": {
        "id": "nnNRtDMkZ6GN"
      },
      "source": [
        "# **ENCODING**"
      ]
    },
    {
      "cell_type": "markdown",
      "metadata": {
        "id": "-gyJTWB3MR9J"
      },
      "source": [
        "Utilizziamo l'encoder per codificare in latent space StyleGAN l'immagine allineata, è possibile modificare alcuni parametri che permettono di migliorare la qualità dell'encoding, ad esempio aumentando ***--iterations***, ciò comporta tuttavia un aumento del tempo di esecuzione. L'operazione richiede alcuni minuti. E' possibile vedere il risultato dell'encoding dalla cartella ***StyleGAN/stylegan-encoder/output/generated***. La versione in latent space è in ***StyleGAN/stylegan-encoder/output/latent***, questa sarà l'input di InterFaceGAN per l'invecchiamento"
      ]
    },
    {
      "cell_type": "markdown",
      "metadata": {
        "id": "wnN3qGZJTJyP"
      },
      "source": [
        "L'operazione impiega qualche minuto"
      ]
    },
    {
      "cell_type": "markdown",
      "metadata": {
        "id": "yY3KUz51OCe3"
      },
      "source": [
        "*N.B. Lo script encode_image.py è stato modificato per caricare il modello pre-trained localmente. Normalmente scaricherebbe i pesi da un determinato repository che tuttavia spesso esaurisce la quota di banda giornaliera impedendo il download*"
      ]
    },
    {
      "cell_type": "code",
      "metadata": {
        "id": "BZ4-QBNaC6DA",
        "colab": {
          "base_uri": "https://localhost:8080/",
          "height": 1000
        },
        "outputId": "86a2df89-bfa7-4ecc-a521-352a92fa6fd4"
      },
      "source": [
        "!python3.6 /content/StyleGAN/stylegan-encoder/encode_images.py --optimizer=lbfgs --face_mask=True --iterations=600 --use_lpips_loss=0 --use_discriminator_loss=0 --output_video=True /content/StyleGAN/stylegan-encoder/output/aligned/ /content/StyleGAN/stylegan-encoder/output/generated/ /content/StyleGAN/stylegan-encoder/output/latent\n"
      ],
      "execution_count": null,
      "outputs": [
        {
          "output_type": "stream",
          "text": [
            "WARNING:tensorflow:From /content/StyleGAN/stylegan-encoder/dnnlib/tflib/tfutil.py:34: The name tf.Dimension is deprecated. Please use tf.compat.v1.Dimension instead.\n",
            "\n",
            "WARNING:tensorflow:From /content/StyleGAN/stylegan-encoder/dnnlib/tflib/tfutil.py:74: The name tf.variable_scope is deprecated. Please use tf.compat.v1.variable_scope instead.\n",
            "\n",
            "WARNING:tensorflow:From /content/StyleGAN/stylegan-encoder/dnnlib/tflib/tfutil.py:128: The name tf.Session is deprecated. Please use tf.compat.v1.Session instead.\n",
            "\n",
            "Using TensorFlow backend.\n",
            "WARNING:tensorflow:From /content/StyleGAN/stylegan-encoder/dnnlib/tflib/tfutil.py:97: The name tf.get_default_session is deprecated. Please use tf.compat.v1.get_default_session instead.\n",
            "\n",
            "WARNING:tensorflow:From /content/StyleGAN/stylegan-encoder/dnnlib/tflib/tfutil.py:109: The name tf.set_random_seed is deprecated. Please use tf.compat.v1.set_random_seed instead.\n",
            "\n",
            "WARNING:tensorflow:From /content/StyleGAN/stylegan-encoder/dnnlib/tflib/tfutil.py:132: The name tf.ConfigProto is deprecated. Please use tf.compat.v1.ConfigProto instead.\n",
            "\n",
            "WARNING:tensorflow:From /content/StyleGAN/stylegan-encoder/dnnlib/tflib/network.py:142: The name tf.get_default_graph is deprecated. Please use tf.compat.v1.get_default_graph instead.\n",
            "\n",
            "WARNING:tensorflow:From /content/StyleGAN/stylegan-encoder/dnnlib/tflib/network.py:150: The name tf.AUTO_REUSE is deprecated. Please use tf.compat.v1.AUTO_REUSE instead.\n",
            "\n",
            "WARNING:tensorflow:From /content/StyleGAN/stylegan-encoder/dnnlib/tflib/tfutil.py:76: The name tf.VariableScope is deprecated. Please use tf.compat.v1.VariableScope instead.\n",
            "\n",
            "WARNING:tensorflow:From /content/StyleGAN/stylegan-encoder/dnnlib/tflib/network.py:151: The name tf.get_variable_scope is deprecated. Please use tf.compat.v1.get_variable_scope instead.\n",
            "\n",
            "WARNING:tensorflow:From /content/StyleGAN/stylegan-encoder/dnnlib/tflib/network.py:154: The name tf.placeholder is deprecated. Please use tf.compat.v1.placeholder instead.\n",
            "\n",
            "WARNING:tensorflow:From /content/StyleGAN/stylegan-encoder/dnnlib/tflib/network.py:182: The name tf.global_variables is deprecated. Please use tf.compat.v1.global_variables instead.\n",
            "\n",
            "WARNING:tensorflow:From /content/StyleGAN/stylegan-encoder/dnnlib/tflib/tfutil.py:200: The name tf.assign is deprecated. Please use tf.compat.v1.assign instead.\n",
            "\n",
            "WARNING:tensorflow:From <string>:364: where (from tensorflow.python.ops.array_ops) is deprecated and will be removed in a future version.\n",
            "Instructions for updating:\n",
            "Use tf.where in 2.0, which has the same broadcast rule as np.where\n",
            "WARNING:tensorflow:From /content/StyleGAN/stylegan-encoder/encoder/generator_model.py:92: The name tf.random_normal is deprecated. Please use tf.random.normal instead.\n",
            "\n",
            "WARNING:tensorflow:From /content/StyleGAN/stylegan-encoder/encoder/perceptual_model.py:130: The name tf.assign_add is deprecated. Please use tf.compat.v1.assign_add instead.\n",
            "\n",
            "WARNING:tensorflow:From /content/StyleGAN/stylegan-encoder/encoder/perceptual_model.py:132: The name tf.train.exponential_decay is deprecated. Please use tf.compat.v1.train.exponential_decay instead.\n",
            "\n",
            "WARNING:tensorflow:From /content/StyleGAN/stylegan-encoder/encoder/perceptual_model.py:140: The name tf.image.resize_nearest_neighbor is deprecated. Please use tf.compat.v1.image.resize_nearest_neighbor instead.\n",
            "\n",
            "WARNING:tensorflow:From /usr/local/lib/python3.6/site-packages/tensorflow_core/python/ops/resource_variable_ops.py:1630: calling BaseResourceVariable.__init__ (from tensorflow.python.ops.resource_variable_ops) with constraint is deprecated and will be removed in a future version.\n",
            "Instructions for updating:\n",
            "If using Keras pass *_constraint arguments to layers.\n",
            "WARNING:tensorflow:From /usr/local/lib/python3.6/site-packages/keras/backend/tensorflow_backend.py:4070: The name tf.nn.max_pool is deprecated. Please use tf.nn.max_pool2d instead.\n",
            "\n",
            "Downloading data from https://github.com/fchollet/deep-learning-models/releases/download/v0.1/vgg16_weights_tf_dim_ordering_tf_kernels_notop.h5\n",
            "58892288/58889256 [==============================] - 3s 0us/step\n",
            "  0% 0/1 [00:00<?, ?it/s]WARNING:tensorflow:From /usr/local/lib/python3.6/site-packages/keras/backend/tensorflow_backend.py:431: The name tf.is_variable_initialized is deprecated. Please use tf.compat.v1.is_variable_initialized instead.\n",
            "\n",
            "WARNING:tensorflow:From /usr/local/lib/python3.6/site-packages/keras/backend/tensorflow_backend.py:438: The name tf.variables_initializer is deprecated. Please use tf.compat.v1.variables_initializer instead.\n",
            "\n",
            "Saving mask masks/1990_Venice_Film_Festival_Robert_De_Niro_01.png\n",
            "\n",
            "  0% 0/600 [00:00<?, ?it/s]\u001b[AWARNING:tensorflow:\n",
            "The TensorFlow contrib module will not be included in TensorFlow 2.0.\n",
            "For more information, please see:\n",
            "  * https://github.com/tensorflow/community/blob/master/rfcs/20180907-contrib-sunset.md\n",
            "  * https://github.com/tensorflow/addons\n",
            "  * https://github.com/tensorflow/io (for I/O related ops)\n",
            "If you depend on functionality not listed there, please file an issue.\n",
            "\n",
            "WARNING:tensorflow:From /usr/local/lib/python3.6/site-packages/tensorflow_core/python/ops/math_grad.py:281: setdiff1d (from tensorflow.python.ops.array_ops) is deprecated and will be removed after 2018-11-30.\n",
            "Instructions for updating:\n",
            "This op will be removed after the deprecation date. Please switch to tf.sets.difference().\n",
            "\n",
            "1990_Venice_Film_Festival_Robert_De_Niro_01: loss 90.3536:   0% 0/600 [01:32<?, ?it/s]\u001b[A\n",
            "1990_Venice_Film_Festival_Robert_De_Niro_01: loss 90.3536:   0% 1/600 [01:33<15:32:06, 93.37s/it]\u001b[A\n",
            "1990_Venice_Film_Festival_Robert_De_Niro_01: loss 89.2959:   0% 1/600 [03:00<15:32:06, 93.37s/it]\u001b[A\n",
            "1990_Venice_Film_Festival_Robert_De_Niro_01: loss 89.2959:   0% 2/600 [03:00<15:13:02, 91.61s/it]\u001b[A\n",
            "1990_Venice_Film_Festival_Robert_De_Niro_01: loss 88.9481:   0% 2/600 [04:29<15:13:02, 91.61s/it]\u001b[A\n",
            "1990_Venice_Film_Festival_Robert_De_Niro_01: loss 88.9481:   0% 3/600 [04:29<15:01:57, 90.65s/it]\u001b[A\n",
            "1990_Venice_Film_Festival_Robert_De_Niro_01: loss 88.7286:   0% 3/600 [05:57<15:01:57, 90.65s/it]\u001b[A\n",
            "1990_Venice_Film_Festival_Robert_De_Niro_01: loss 88.7286:   1% 4/600 [05:57<14:53:39, 89.96s/it]\u001b[A\n",
            "1990_Venice_Film_Festival_Robert_De_Niro_01: loss 88.5723:   1% 4/600 [07:25<14:53:39, 89.96s/it]\u001b[A\n",
            "1990_Venice_Film_Festival_Robert_De_Niro_01: loss 88.5723:   1% 5/600 [07:25<14:45:15, 89.27s/it]\u001b[A\n",
            "1990_Venice_Film_Festival_Robert_De_Niro_01: loss 88.5912:   1% 5/600 [07:41<14:45:15, 89.27s/it]\u001b[A\n",
            "1990_Venice_Film_Festival_Robert_De_Niro_01: loss 88.5912:   1% 6/600 [07:41<11:07:29, 67.42s/it]\u001b[A\n",
            "1990_Venice_Film_Festival_Robert_De_Niro_01: loss 88.5912:   1% 6/600 [07:43<11:07:29, 67.42s/it]\u001b[A\n",
            "1990_Venice_Film_Festival_Robert_De_Niro_01: loss 88.5912:   1% 7/600 [07:43<7:52:31, 47.81s/it] \u001b[A\n",
            "1990_Venice_Film_Festival_Robert_De_Niro_01: loss 88.5907:   1% 7/600 [07:47<7:52:31, 47.81s/it]\u001b[A\n",
            "1990_Venice_Film_Festival_Robert_De_Niro_01: loss 88.5907:   1% 8/600 [07:47<5:41:24, 34.60s/it]\u001b[A\n",
            "1990_Venice_Film_Festival_Robert_De_Niro_01: loss 88.5907:   1% 8/600 [07:49<5:41:24, 34.60s/it]\u001b[A\n",
            "1990_Venice_Film_Festival_Robert_De_Niro_01: loss 88.5907:   2% 9/600 [07:49<4:04:09, 24.79s/it]\u001b[A\n",
            "1990_Venice_Film_Festival_Robert_De_Niro_01: loss 88.5907:   2% 9/600 [07:51<4:04:09, 24.79s/it]\u001b[A\n",
            "1990_Venice_Film_Festival_Robert_De_Niro_01: loss 88.5907:   2% 10/600 [07:51<2:57:54, 18.09s/it]\u001b[A\n",
            "1990_Venice_Film_Festival_Robert_De_Niro_01: loss 88.5907:   2% 10/600 [07:54<2:57:54, 18.09s/it]\u001b[A\n",
            "1990_Venice_Film_Festival_Robert_De_Niro_01: loss 88.5907:   2% 11/600 [07:54<2:13:17, 13.58s/it]\u001b[A\n",
            "1990_Venice_Film_Festival_Robert_De_Niro_01: loss 88.5906:   2% 11/600 [07:57<2:13:17, 13.58s/it]\u001b[A\n",
            "1990_Venice_Film_Festival_Robert_De_Niro_01: loss 88.5906:   2% 12/600 [07:57<1:39:34, 10.16s/it]\u001b[A\n",
            "1990_Venice_Film_Festival_Robert_De_Niro_01: loss 88.5906:   2% 12/600 [07:58<1:39:34, 10.16s/it]\u001b[A\n",
            "1990_Venice_Film_Festival_Robert_De_Niro_01: loss 88.5906:   2% 13/600 [07:58<1:14:44,  7.64s/it]\u001b[A\n",
            "1990_Venice_Film_Festival_Robert_De_Niro_01: loss 88.5906:   2% 13/600 [08:03<1:14:44,  7.64s/it]\u001b[A\n",
            "1990_Venice_Film_Festival_Robert_De_Niro_01: loss 88.5906:   2% 14/600 [08:03<1:06:10,  6.78s/it]\u001b[A\n",
            "1990_Venice_Film_Festival_Robert_De_Niro_01  Loss 88.5723\n",
            "100% 1/1 [08:09<00:00, 489.10s/it]\n",
            "100% 1/1 [08:09<00:00, 489.10s/it]\n"
          ],
          "name": "stdout"
        }
      ]
    },
    {
      "cell_type": "markdown",
      "metadata": {
        "id": "OpjNFmFGaKTc"
      },
      "source": [
        "# **AGE PROGRESSION**"
      ]
    },
    {
      "cell_type": "markdown",
      "metadata": {
        "id": "kqkwGLD5PdBO"
      },
      "source": [
        "Eseguiamo il processo di invecchiamento sul risultato dell'encoding:\n",
        "\n",
        "\n",
        "*   ***--start_distance*** indica quanto spostarsi nella direzione giovane\n",
        "*   ***--end_distance*** indica quanto spostarti nella direzione anziano\n",
        "\n",
        "\n",
        "*   ***--steps*** indica quante immagini della trasformazione generare\n",
        "\n",
        "\n",
        "\n"
      ]
    },
    {
      "cell_type": "code",
      "metadata": {
        "id": "ZR2XCCdmclDE"
      },
      "source": [
        "out_latent='/content/StyleGAN/stylegan-encoder/output/latent/*'"
      ],
      "execution_count": null,
      "outputs": []
    },
    {
      "cell_type": "code",
      "metadata": {
        "id": "7whNNIJGh7Bn"
      },
      "source": [
        "n+=1\n",
        "my_result='/content/StyleGAN/InterFaceGAN/my_result_%02d' %(n)\n"
      ],
      "execution_count": null,
      "outputs": []
    },
    {
      "cell_type": "code",
      "metadata": {
        "id": "kKqBjdOsw3Dg",
        "colab": {
          "base_uri": "https://localhost:8080/",
          "height": 176
        },
        "outputId": "a6a3951d-b060-4df6-c719-d89c54d67f26"
      },
      "source": [
        "\n",
        "latent_direction = 'age'\n",
        "!python /content/StyleGAN/InterFaceGAN/edit.py \\\n",
        "    -m stylegan_ffhq \\\n",
        "    -b /content/StyleGAN/InterFaceGAN/boundaries/stylegan_ffhq_age_w_boundary.npy \\\n",
        "    -s Wp \\\n",
        "    -i $out_latent \\\n",
        "    -o $my_result \\\n",
        "    --start_distance -4.0 \\\n",
        "    --end_distance 4.0 \\\n",
        "    --steps=36"
      ],
      "execution_count": null,
      "outputs": [
        {
          "output_type": "stream",
          "text": [
            "[2020-07-13 00:28:14,703][INFO] Initializing generator.\n",
            "[2020-07-13 00:28:14,912][INFO] Loading pytorch model from `StyleGAN/InterFaceGAN/models/pretrain/stylegan_ffhq.pth`.\n",
            "[2020-07-13 00:28:15,195][INFO] Successfully loaded!\n",
            "[2020-07-13 00:28:18,084][INFO] Preparing boundary.\n",
            "[2020-07-13 00:28:18,089][INFO] Preparing latent codes.\n",
            "[2020-07-13 00:28:18,089][INFO]   Load latent codes from `/content/StyleGAN/stylegan-encoder/output/latent/1990_Venice_Film_Festival_Robert_De_Niro_01.npy`.\n",
            "[2020-07-13 00:28:18,090][INFO] Editing 1 samples.\n",
            "[2020-07-13 00:28:23,475][INFO] Successfully edited 1 samples.\n"
          ],
          "name": "stdout"
        }
      ]
    },
    {
      "cell_type": "markdown",
      "metadata": {
        "id": "YbklMLQQj07l"
      },
      "source": [
        "Il risultato si trova in:"
      ]
    },
    {
      "cell_type": "code",
      "metadata": {
        "id": "94f38QhKj39X",
        "colab": {
          "base_uri": "https://localhost:8080/",
          "height": 34
        },
        "outputId": "16ed2c48-b521-4452-ebe5-d8cdcfc6b0a7"
      },
      "source": [
        "!echo $my_result"
      ],
      "execution_count": null,
      "outputs": [
        {
          "output_type": "stream",
          "text": [
            "/content/StyleGAN/InterFaceGAN/my_result_03\n"
          ],
          "name": "stdout"
        }
      ]
    },
    {
      "cell_type": "markdown",
      "metadata": {
        "id": "6nhW_p4uQcSk"
      },
      "source": [
        "Generiamo un video mp4 della trasformazione."
      ]
    },
    {
      "cell_type": "code",
      "metadata": {
        "id": "FYAw-JdsL3wc"
      },
      "source": [
        "image_folder = my_result\n",
        "video_fps = 12."
      ],
      "execution_count": null,
      "outputs": []
    },
    {
      "cell_type": "markdown",
      "metadata": {
        "id": "S5CqDXTORipb"
      },
      "source": [
        "Troveremo il video in ***StyleGAN/InterFaceGAN/output_videos/***"
      ]
    },
    {
      "cell_type": "code",
      "metadata": {
        "id": "9yLUPiYSLvcO",
        "colab": {
          "base_uri": "https://localhost:8080/",
          "height": 121
        },
        "outputId": "3aaeb1bd-dba2-477b-8b6c-bbdd1f290328"
      },
      "source": [
        "from moviepy.editor import *\n",
        "import cv2\n",
        "\n",
        "out_path = '/content/StyleGAN/InterFaceGAN/output_videos/'\n",
        "\n",
        "images = [img_path for img_path in sorted(os.listdir(image_folder)) if '.jpg' in img_path]\n",
        "os.makedirs(out_path, exist_ok=True)\n",
        "\n",
        "prev_id = None\n",
        "img_sets = []\n",
        "for img_path in images:\n",
        "  img_id = img_path.split('_')[0]\n",
        "  if img_id == prev_id: #append\n",
        "    img_sets[-1].append(img_path)\n",
        "    \n",
        "  else: #start a new img set\n",
        "    img_sets.append([])\n",
        "    img_sets[-1].append(img_path)\n",
        "  prev_id = img_id\n",
        "\n",
        "print(\"Found %d image sets!\\n\" %len(img_sets))\n",
        "if image_folder[-1] != '/':\n",
        "  image_folder += '/'\n",
        "\n",
        "def make_video(images, vid_name):\n",
        "    fourcc = cv2.VideoWriter_fourcc(*'mp4v')\n",
        "    video = cv2.VideoWriter(vid_name, fourcc, video_fps, (1024, 1024))\n",
        "    gen = {}\n",
        "    for img in images:\n",
        "      video.write(img)\n",
        "    video.release()\n",
        "    print('finished '+ vid_name)\n",
        "    \n",
        "    \n",
        "for i in range(len(img_sets)):\n",
        "  print(\"############################\")\n",
        "  print(\"\\nGenerating video %d...\" %i)\n",
        "  set_images = []\n",
        "  vid_name = out_path + 'out_video_%s_%02d.mp4' %(latent_direction,i)\n",
        "  for img_path in img_sets[i]:\n",
        "    set_images.append(cv2.imread(image_folder + img_path))\n",
        "\n",
        "  set_images.extend(reversed(set_images))\n",
        "  make_video(set_images, vid_name)"
      ],
      "execution_count": null,
      "outputs": [
        {
          "output_type": "stream",
          "text": [
            "Found 1 image sets!\n",
            "\n",
            "############################\n",
            "\n",
            "Generating video 0...\n",
            "finished /content/StyleGAN/InterFaceGAN/output_videos/out_video_age_00.mp4\n"
          ],
          "name": "stdout"
        }
      ]
    },
    {
      "cell_type": "markdown",
      "metadata": {
        "id": "c3mRpYtZYUwJ"
      },
      "source": [
        "Scaricare e salvare le immagini in locale, Colab distrugge tutto dopo pochi minuti di inattività. La seguente cella crea un archivio denominato **my_result.tar** nella cartella principale con tutti i frame e il video generato"
      ]
    },
    {
      "cell_type": "code",
      "metadata": {
        "id": "ToJERqB4lgu9",
        "colab": {
          "base_uri": "https://localhost:8080/",
          "height": 746
        },
        "outputId": "2b948701-ebaa-4322-f5a9-4fa609c25370"
      },
      "source": [
        "!tar cvf my_result.tar $my_result $vid_name"
      ],
      "execution_count": null,
      "outputs": [
        {
          "output_type": "stream",
          "text": [
            "tar: Removing leading `/' from member names\n",
            "/content/StyleGAN/InterFaceGAN/my_result_03/\n",
            "/content/StyleGAN/InterFaceGAN/my_result_03/000_010.jpg\n",
            "/content/StyleGAN/InterFaceGAN/my_result_03/log.txt\n",
            "/content/StyleGAN/InterFaceGAN/my_result_03/000_031.jpg\n",
            "/content/StyleGAN/InterFaceGAN/my_result_03/000_034.jpg\n",
            "/content/StyleGAN/InterFaceGAN/my_result_03/000_007.jpg\n",
            "/content/StyleGAN/InterFaceGAN/my_result_03/000_003.jpg\n",
            "/content/StyleGAN/InterFaceGAN/my_result_03/000_004.jpg\n",
            "/content/StyleGAN/InterFaceGAN/my_result_03/000_032.jpg\n",
            "/content/StyleGAN/InterFaceGAN/my_result_03/latent_codes.npy\n",
            "/content/StyleGAN/InterFaceGAN/my_result_03/000_022.jpg\n",
            "/content/StyleGAN/InterFaceGAN/my_result_03/000_016.jpg\n",
            "/content/StyleGAN/InterFaceGAN/my_result_03/000_017.jpg\n",
            "/content/StyleGAN/InterFaceGAN/my_result_03/000_000.jpg\n",
            "/content/StyleGAN/InterFaceGAN/my_result_03/000_023.jpg\n",
            "/content/StyleGAN/InterFaceGAN/my_result_03/000_005.jpg\n",
            "/content/StyleGAN/InterFaceGAN/my_result_03/000_018.jpg\n",
            "/content/StyleGAN/InterFaceGAN/my_result_03/000_002.jpg\n",
            "/content/StyleGAN/InterFaceGAN/my_result_03/000_015.jpg\n",
            "/content/StyleGAN/InterFaceGAN/my_result_03/000_035.jpg\n",
            "/content/StyleGAN/InterFaceGAN/my_result_03/000_013.jpg\n",
            "/content/StyleGAN/InterFaceGAN/my_result_03/000_033.jpg\n",
            "/content/StyleGAN/InterFaceGAN/my_result_03/000_008.jpg\n",
            "/content/StyleGAN/InterFaceGAN/my_result_03/000_019.jpg\n",
            "/content/StyleGAN/InterFaceGAN/my_result_03/000_030.jpg\n",
            "/content/StyleGAN/InterFaceGAN/my_result_03/000_012.jpg\n",
            "/content/StyleGAN/InterFaceGAN/my_result_03/000_001.jpg\n",
            "/content/StyleGAN/InterFaceGAN/my_result_03/000_021.jpg\n",
            "/content/StyleGAN/InterFaceGAN/my_result_03/boundary.npy\n",
            "/content/StyleGAN/InterFaceGAN/my_result_03/000_006.jpg\n",
            "/content/StyleGAN/InterFaceGAN/my_result_03/000_028.jpg\n",
            "/content/StyleGAN/InterFaceGAN/my_result_03/000_024.jpg\n",
            "/content/StyleGAN/InterFaceGAN/my_result_03/000_020.jpg\n",
            "/content/StyleGAN/InterFaceGAN/my_result_03/000_025.jpg\n",
            "/content/StyleGAN/InterFaceGAN/my_result_03/000_011.jpg\n",
            "/content/StyleGAN/InterFaceGAN/my_result_03/000_014.jpg\n",
            "/content/StyleGAN/InterFaceGAN/my_result_03/000_026.jpg\n",
            "/content/StyleGAN/InterFaceGAN/my_result_03/000_029.jpg\n",
            "/content/StyleGAN/InterFaceGAN/my_result_03/000_027.jpg\n",
            "/content/StyleGAN/InterFaceGAN/my_result_03/000_009.jpg\n",
            "/content/StyleGAN/InterFaceGAN/output_videos/out_video_age_00.mp4\n"
          ],
          "name": "stdout"
        }
      ]
    },
    {
      "cell_type": "markdown",
      "metadata": {
        "id": "hMxfYMHdnDHs"
      },
      "source": [
        "Per procedere all'invecchiamento di una nuova immagine usare la cella successiva per eliminare l'immagine appena utilizzata quindi caricare la nuova immagine in **/content/StyleGAN/stylegan-encoder/input** e ripartire dall'allineamento"
      ]
    },
    {
      "cell_type": "code",
      "metadata": {
        "id": "nSZpmFIcnZhF"
      },
      "source": [
        "!rm -r /content/StyleGAN/stylegan-encoder/input/*\n",
        "!rm -r /content/StyleGAN/stylegan-encoder/output/latent/*\n",
        "!rm -r /content/StyleGAN/stylegan-encoder/output/aligned/*\n",
        "!rm -r /content/StyleGAN/stylegan-encoder/output/generated/*"
      ],
      "execution_count": null,
      "outputs": []
    }
  ]
}